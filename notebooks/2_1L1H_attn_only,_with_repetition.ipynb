{
  "nbformat": 4,
  "nbformat_minor": 0,
  "metadata": {
    "colab": {
      "provenance": [],
      "toc_visible": true
    },
    "kernelspec": {
      "name": "python3",
      "display_name": "Python 3"
    },
    "language_info": {
      "name": "python"
    }
  },
  "cells": [
    {
      "cell_type": "markdown",
      "source": [
        "# One Attention Head Is All You Need for Sorting Fixed-Length Lists [working title]\n",
        "\n",
        "(to justify that title, we may later need to replicate it on eg 100 element lists and bigger `d_vocab`)\n",
        "\n",
        "Old title: Training a Transformer for Sorting Fixed-length Lists\n",
        "\n",
        "This experiment was based on the [suggestion given by Neel Nanda](https://www.lesswrong.com/s/yivyHaCAmMJ3CqSyj/p/ejtFsvyhRkMofKAFy#Problems)."
      ],
      "metadata": {
        "id": "jKyC3mZ72qlH"
      }
    },
    {
      "cell_type": "markdown",
      "source": [
        "- Sorting fixed-length lists\n",
        "  - `START 4 6 2 9 MID 2 4 6 9`\n",
        "  - How does difficulty change with the length of the list?\n",
        "  - A* Sorting variable-length lists.\n",
        "    - What’s the sorting algorithm? What’s the longest list you can get to? How is accuracy affected by longer lists?"
      ],
      "metadata": {
        "id": "tATlby1Z2tvW"
      }
    },
    {
      "cell_type": "markdown",
      "source": [
        "## TODO\n",
        "\n",
        "- Find the point where model groks validation data\n",
        "- See if it can grok it with smaller n of heads and/or dimensions (both d_head and d_model)\n",
        "- Do interpretability on the smallest viable model and reap profit\n"
      ],
      "metadata": {
        "id": "ws2IHjMAYlxn"
      }
    },
    {
      "cell_type": "markdown",
      "source": [
        "## Setup"
      ],
      "metadata": {
        "id": "DlYDguQD2vGK"
      }
    },
    {
      "cell_type": "code",
      "execution_count": null,
      "metadata": {
        "id": "Wqa5uVY-2oC7",
        "colab": {
          "base_uri": "https://localhost:8080/"
        },
        "outputId": "0e4fdbc6-ba09-4938-bc6c-38bc1029e0a4"
      },
      "outputs": [
        {
          "output_type": "stream",
          "name": "stdout",
          "text": [
            "Looking in indexes: https://pypi.org/simple, https://us-python.pkg.dev/colab-wheels/public/simple/\n",
            "Requirement already satisfied: numpy in /usr/local/lib/python3.8/dist-packages (1.21.6)\n",
            "Requirement already satisfied: torch in /usr/local/lib/python3.8/dist-packages (1.13.1+cu116)\n",
            "Requirement already satisfied: tqdm in /usr/local/lib/python3.8/dist-packages (4.64.1)\n",
            "Requirement already satisfied: pandas in /usr/local/lib/python3.8/dist-packages (1.3.5)\n",
            "Requirement already satisfied: plotly in /usr/local/lib/python3.8/dist-packages (5.5.0)\n",
            "Requirement already satisfied: typing_extensions in /usr/local/lib/python3.8/dist-packages (4.4.0)\n",
            "Requirement already satisfied: pytz>=2017.3 in /usr/local/lib/python3.8/dist-packages (from pandas) (2022.7)\n",
            "Requirement already satisfied: python-dateutil>=2.7.3 in /usr/local/lib/python3.8/dist-packages (from pandas) (2.8.2)\n",
            "Requirement already satisfied: six in /usr/local/lib/python3.8/dist-packages (from plotly) (1.15.0)\n",
            "Requirement already satisfied: tenacity>=6.2.0 in /usr/local/lib/python3.8/dist-packages (from plotly) (8.1.0)\n",
            "Looking in indexes: https://pypi.org/simple, https://us-python.pkg.dev/colab-wheels/public/simple/\n",
            "Collecting git+https://github.com/neelnanda-io/TransformerLens\n",
            "  Cloning https://github.com/neelnanda-io/TransformerLens to /tmp/pip-req-build-ay0m7_re\n",
            "  Running command git clone --filter=blob:none --quiet https://github.com/neelnanda-io/TransformerLens /tmp/pip-req-build-ay0m7_re\n",
            "  Resolved https://github.com/neelnanda-io/TransformerLens to commit 090f63afcf72e8ecd9527bbb6f598874554def1b\n",
            "  Installing build dependencies ... \u001b[?25l\u001b[?25hdone\n",
            "  Getting requirements to build wheel ... \u001b[?25l\u001b[?25hdone\n",
            "  Preparing metadata (pyproject.toml) ... \u001b[?25l\u001b[?25hdone\n",
            "Requirement already satisfied: rich<13.0.0,>=12.6.0 in /usr/local/lib/python3.8/dist-packages (from transformer-lens==0.0.0) (12.6.0)\n",
            "Requirement already satisfied: datasets<3.0.0,>=2.7.1 in /usr/local/lib/python3.8/dist-packages (from transformer-lens==0.0.0) (2.8.0)\n",
            "Requirement already satisfied: fancy-einsum<0.0.4,>=0.0.3 in /usr/local/lib/python3.8/dist-packages (from transformer-lens==0.0.0) (0.0.3)\n",
            "Requirement already satisfied: transformers<5.0.0,>=4.25.1 in /usr/local/lib/python3.8/dist-packages (from transformer-lens==0.0.0) (4.25.1)\n",
            "Requirement already satisfied: numpy<2.0,>=1.21 in /usr/local/lib/python3.8/dist-packages (from transformer-lens==0.0.0) (1.21.6)\n",
            "Requirement already satisfied: wandb<0.14.0,>=0.13.5 in /usr/local/lib/python3.8/dist-packages (from transformer-lens==0.0.0) (0.13.9)\n",
            "Requirement already satisfied: torchtyping<0.2.0,>=0.1.4 in /usr/local/lib/python3.8/dist-packages (from transformer-lens==0.0.0) (0.1.4)\n",
            "Requirement already satisfied: tqdm<5.0.0,>=4.64.1 in /usr/local/lib/python3.8/dist-packages (from transformer-lens==0.0.0) (4.64.1)\n",
            "Requirement already satisfied: torch<2.0,>=1.10 in /usr/local/lib/python3.8/dist-packages (from transformer-lens==0.0.0) (1.13.1+cu116)\n",
            "Requirement already satisfied: pandas<2.0.0,>=1.1.5 in /usr/local/lib/python3.8/dist-packages (from transformer-lens==0.0.0) (1.3.5)\n",
            "Requirement already satisfied: einops<0.7.0,>=0.6.0 in /usr/local/lib/python3.8/dist-packages (from transformer-lens==0.0.0) (0.6.0)\n",
            "Requirement already satisfied: xxhash in /usr/local/lib/python3.8/dist-packages (from datasets<3.0.0,>=2.7.1->transformer-lens==0.0.0) (3.2.0)\n",
            "Requirement already satisfied: huggingface-hub<1.0.0,>=0.2.0 in /usr/local/lib/python3.8/dist-packages (from datasets<3.0.0,>=2.7.1->transformer-lens==0.0.0) (0.11.1)\n",
            "Requirement already satisfied: packaging in /usr/local/lib/python3.8/dist-packages (from datasets<3.0.0,>=2.7.1->transformer-lens==0.0.0) (21.3)\n",
            "Requirement already satisfied: multiprocess in /usr/local/lib/python3.8/dist-packages (from datasets<3.0.0,>=2.7.1->transformer-lens==0.0.0) (0.70.14)\n",
            "Requirement already satisfied: requests>=2.19.0 in /usr/local/lib/python3.8/dist-packages (from datasets<3.0.0,>=2.7.1->transformer-lens==0.0.0) (2.25.1)\n",
            "Requirement already satisfied: pyyaml>=5.1 in /usr/local/lib/python3.8/dist-packages (from datasets<3.0.0,>=2.7.1->transformer-lens==0.0.0) (6.0)\n",
            "Requirement already satisfied: dill<0.3.7 in /usr/local/lib/python3.8/dist-packages (from datasets<3.0.0,>=2.7.1->transformer-lens==0.0.0) (0.3.6)\n",
            "Requirement already satisfied: fsspec[http]>=2021.11.1 in /usr/local/lib/python3.8/dist-packages (from datasets<3.0.0,>=2.7.1->transformer-lens==0.0.0) (2022.11.0)\n",
            "Requirement already satisfied: aiohttp in /usr/local/lib/python3.8/dist-packages (from datasets<3.0.0,>=2.7.1->transformer-lens==0.0.0) (3.8.3)\n",
            "Requirement already satisfied: responses<0.19 in /usr/local/lib/python3.8/dist-packages (from datasets<3.0.0,>=2.7.1->transformer-lens==0.0.0) (0.18.0)\n",
            "Requirement already satisfied: pyarrow>=6.0.0 in /usr/local/lib/python3.8/dist-packages (from datasets<3.0.0,>=2.7.1->transformer-lens==0.0.0) (9.0.0)\n",
            "Requirement already satisfied: pytz>=2017.3 in /usr/local/lib/python3.8/dist-packages (from pandas<2.0.0,>=1.1.5->transformer-lens==0.0.0) (2022.7)\n",
            "Requirement already satisfied: python-dateutil>=2.7.3 in /usr/local/lib/python3.8/dist-packages (from pandas<2.0.0,>=1.1.5->transformer-lens==0.0.0) (2.8.2)\n",
            "Requirement already satisfied: typing-extensions<5.0,>=4.0.0 in /usr/local/lib/python3.8/dist-packages (from rich<13.0.0,>=12.6.0->transformer-lens==0.0.0) (4.4.0)\n",
            "Requirement already satisfied: commonmark<0.10.0,>=0.9.0 in /usr/local/lib/python3.8/dist-packages (from rich<13.0.0,>=12.6.0->transformer-lens==0.0.0) (0.9.1)\n",
            "Requirement already satisfied: pygments<3.0.0,>=2.6.0 in /usr/local/lib/python3.8/dist-packages (from rich<13.0.0,>=12.6.0->transformer-lens==0.0.0) (2.6.1)\n",
            "Requirement already satisfied: typeguard>=2.11.1 in /usr/local/lib/python3.8/dist-packages (from torchtyping<0.2.0,>=0.1.4->transformer-lens==0.0.0) (2.13.3)\n",
            "Requirement already satisfied: tokenizers!=0.11.3,<0.14,>=0.11.1 in /usr/local/lib/python3.8/dist-packages (from transformers<5.0.0,>=4.25.1->transformer-lens==0.0.0) (0.13.2)\n",
            "Requirement already satisfied: regex!=2019.12.17 in /usr/local/lib/python3.8/dist-packages (from transformers<5.0.0,>=4.25.1->transformer-lens==0.0.0) (2022.6.2)\n",
            "Requirement already satisfied: filelock in /usr/local/lib/python3.8/dist-packages (from transformers<5.0.0,>=4.25.1->transformer-lens==0.0.0) (3.9.0)\n",
            "Requirement already satisfied: sentry-sdk>=1.0.0 in /usr/local/lib/python3.8/dist-packages (from wandb<0.14.0,>=0.13.5->transformer-lens==0.0.0) (1.13.0)\n",
            "Requirement already satisfied: pathtools in /usr/local/lib/python3.8/dist-packages (from wandb<0.14.0,>=0.13.5->transformer-lens==0.0.0) (0.1.2)\n",
            "Requirement already satisfied: protobuf!=4.21.0,<5,>=3.12.0 in /usr/local/lib/python3.8/dist-packages (from wandb<0.14.0,>=0.13.5->transformer-lens==0.0.0) (3.19.6)\n",
            "Requirement already satisfied: setuptools in /usr/local/lib/python3.8/dist-packages (from wandb<0.14.0,>=0.13.5->transformer-lens==0.0.0) (57.4.0)\n",
            "Requirement already satisfied: setproctitle in /usr/local/lib/python3.8/dist-packages (from wandb<0.14.0,>=0.13.5->transformer-lens==0.0.0) (1.3.2)\n",
            "Requirement already satisfied: appdirs>=1.4.3 in /usr/local/lib/python3.8/dist-packages (from wandb<0.14.0,>=0.13.5->transformer-lens==0.0.0) (1.4.4)\n",
            "Requirement already satisfied: Click!=8.0.0,>=7.0 in /usr/local/lib/python3.8/dist-packages (from wandb<0.14.0,>=0.13.5->transformer-lens==0.0.0) (7.1.2)\n",
            "Requirement already satisfied: GitPython>=1.0.0 in /usr/local/lib/python3.8/dist-packages (from wandb<0.14.0,>=0.13.5->transformer-lens==0.0.0) (3.1.30)\n",
            "Requirement already satisfied: psutil>=5.0.0 in /usr/local/lib/python3.8/dist-packages (from wandb<0.14.0,>=0.13.5->transformer-lens==0.0.0) (5.4.8)\n",
            "Requirement already satisfied: docker-pycreds>=0.4.0 in /usr/local/lib/python3.8/dist-packages (from wandb<0.14.0,>=0.13.5->transformer-lens==0.0.0) (0.4.0)\n",
            "Requirement already satisfied: six>=1.4.0 in /usr/local/lib/python3.8/dist-packages (from docker-pycreds>=0.4.0->wandb<0.14.0,>=0.13.5->transformer-lens==0.0.0) (1.15.0)\n",
            "Requirement already satisfied: attrs>=17.3.0 in /usr/local/lib/python3.8/dist-packages (from aiohttp->datasets<3.0.0,>=2.7.1->transformer-lens==0.0.0) (22.2.0)\n",
            "Requirement already satisfied: multidict<7.0,>=4.5 in /usr/local/lib/python3.8/dist-packages (from aiohttp->datasets<3.0.0,>=2.7.1->transformer-lens==0.0.0) (6.0.4)\n",
            "Requirement already satisfied: charset-normalizer<3.0,>=2.0 in /usr/local/lib/python3.8/dist-packages (from aiohttp->datasets<3.0.0,>=2.7.1->transformer-lens==0.0.0) (2.1.1)\n",
            "Requirement already satisfied: async-timeout<5.0,>=4.0.0a3 in /usr/local/lib/python3.8/dist-packages (from aiohttp->datasets<3.0.0,>=2.7.1->transformer-lens==0.0.0) (4.0.2)\n",
            "Requirement already satisfied: frozenlist>=1.1.1 in /usr/local/lib/python3.8/dist-packages (from aiohttp->datasets<3.0.0,>=2.7.1->transformer-lens==0.0.0) (1.3.3)\n",
            "Requirement already satisfied: aiosignal>=1.1.2 in /usr/local/lib/python3.8/dist-packages (from aiohttp->datasets<3.0.0,>=2.7.1->transformer-lens==0.0.0) (1.3.1)\n",
            "Requirement already satisfied: yarl<2.0,>=1.0 in /usr/local/lib/python3.8/dist-packages (from aiohttp->datasets<3.0.0,>=2.7.1->transformer-lens==0.0.0) (1.8.2)\n",
            "Requirement already satisfied: gitdb<5,>=4.0.1 in /usr/local/lib/python3.8/dist-packages (from GitPython>=1.0.0->wandb<0.14.0,>=0.13.5->transformer-lens==0.0.0) (4.0.10)\n",
            "Requirement already satisfied: pyparsing!=3.0.5,>=2.0.2 in /usr/local/lib/python3.8/dist-packages (from packaging->datasets<3.0.0,>=2.7.1->transformer-lens==0.0.0) (3.0.9)\n",
            "Requirement already satisfied: certifi>=2017.4.17 in /usr/local/lib/python3.8/dist-packages (from requests>=2.19.0->datasets<3.0.0,>=2.7.1->transformer-lens==0.0.0) (2022.12.7)\n",
            "Requirement already satisfied: chardet<5,>=3.0.2 in /usr/local/lib/python3.8/dist-packages (from requests>=2.19.0->datasets<3.0.0,>=2.7.1->transformer-lens==0.0.0) (4.0.0)\n",
            "Requirement already satisfied: urllib3<1.27,>=1.21.1 in /usr/local/lib/python3.8/dist-packages (from requests>=2.19.0->datasets<3.0.0,>=2.7.1->transformer-lens==0.0.0) (1.26.14)\n",
            "Requirement already satisfied: idna<3,>=2.5 in /usr/local/lib/python3.8/dist-packages (from requests>=2.19.0->datasets<3.0.0,>=2.7.1->transformer-lens==0.0.0) (2.10)\n",
            "Requirement already satisfied: smmap<6,>=3.0.1 in /usr/local/lib/python3.8/dist-packages (from gitdb<5,>=4.0.1->GitPython>=1.0.0->wandb<0.14.0,>=0.13.5->transformer-lens==0.0.0) (5.0.0)\n"
          ]
        }
      ],
      "source": [
        "!pip install numpy torch tqdm pandas plotly typing_extensions\n",
        "!pip install git+https://github.com/neelnanda-io/TransformerLens"
      ]
    },
    {
      "cell_type": "code",
      "source": [
        "from __future__ import annotations\n",
        "from dataclasses import dataclass, field\n",
        "from datetime import datetime as dt\n",
        "from itertools import repeat\n",
        "import os\n",
        "import pickle\n",
        "import random\n",
        "from typing import cast, Generator, Literal\n",
        "\n",
        "import matplotlib.pyplot as plt\n",
        "import numpy as np\n",
        "import torch\n",
        "from torch import nn, tensor, Tensor, TensorType as TT\n",
        "from torch.nn import functional as F\n",
        "from tqdm import tqdm\n",
        "from transformer_lens import HookedTransformerConfig, HookedTransformer\n",
        "from typing_extensions import Self"
      ],
      "metadata": {
        "id": "dqFfW5V32yaO"
      },
      "execution_count": null,
      "outputs": []
    },
    {
      "cell_type": "code",
      "source": [
        "%pip install circuitsvis\n",
        "import circuitsvis as cv\n",
        "# Testing that the library works\n",
        "cv.examples.hello(\"Neel\")"
      ],
      "metadata": {
        "colab": {
          "base_uri": "https://localhost:8080/",
          "height": 186
        },
        "id": "vFkDveZyptS5",
        "outputId": "d255d846-37d2-4192-897b-f3d1423205d5"
      },
      "execution_count": null,
      "outputs": [
        {
          "output_type": "stream",
          "name": "stdout",
          "text": [
            "Looking in indexes: https://pypi.org/simple, https://us-python.pkg.dev/colab-wheels/public/simple/\n",
            "Requirement already satisfied: circuitsvis in /usr/local/lib/python3.8/dist-packages (1.38.1)\n",
            "Requirement already satisfied: importlib-metadata<6.0.0,>=5.1.0 in /usr/local/lib/python3.8/dist-packages (from circuitsvis) (5.2.0)\n",
            "Requirement already satisfied: torch<2.0,>=1.10 in /usr/local/lib/python3.8/dist-packages (from circuitsvis) (1.13.1+cu116)\n",
            "Requirement already satisfied: numpy<2.0,>=1.21 in /usr/local/lib/python3.8/dist-packages (from circuitsvis) (1.21.6)\n",
            "Requirement already satisfied: zipp>=0.5 in /usr/local/lib/python3.8/dist-packages (from importlib-metadata<6.0.0,>=5.1.0->circuitsvis) (3.11.0)\n",
            "Requirement already satisfied: typing-extensions in /usr/local/lib/python3.8/dist-packages (from torch<2.0,>=1.10->circuitsvis) (4.4.0)\n"
          ]
        },
        {
          "output_type": "execute_result",
          "data": {
            "text/plain": [
              "<circuitsvis.utils.render.RenderedHTML at 0x7f2a7bcdc550>"
            ],
            "text/html": [
              "<div id=\"circuits-vis-760afd50-7a29\" style=\"margin: 15px 0;\"/>\n",
              "    <script crossorigin type=\"module\">\n",
              "    import { render, Hello } from \"https://unpkg.com/circuitsvis@1.38.1/dist/cdn/esm.js\";\n",
              "    render(\n",
              "      \"circuits-vis-760afd50-7a29\",\n",
              "      Hello,\n",
              "      {\"name\": \"Neel\"}\n",
              "    )\n",
              "    </script>"
            ]
          },
          "metadata": {},
          "execution_count": 3
        }
      ]
    },
    {
      "cell_type": "markdown",
      "source": [
        "## Hyperparams"
      ],
      "metadata": {
        "id": "Oo4oP4dSrYhD"
      }
    },
    {
      "cell_type": "code",
      "source": [
        "DEVICE = \"cuda\" if torch.cuda.is_available() else \"cpu\"\n",
        "print(f\"{DEVICE = }\")\n",
        "\n",
        "# Seeds to generate training, validation, and test data\n",
        "TRAIN_SEED = 42\n",
        "VAL_SEED = 66\n",
        "TEST_SEED = 1729\n",
        "\n",
        "# Fixed length of list to be sorted\n",
        "LIST_LENGTH = 5\n",
        "# Context length: [start, *(unsorted_)list_length, mid, *(sorted_)list_length]\n",
        "N_CTX = 2 * LIST_LENGTH + 2\n",
        "\n",
        "# Size of vocabulary\n",
        "D_VOCAB = 66\n",
        "\n",
        "# \"Real\" tokens range from 0 to D_VOCAB - 2 (non-inclusive)\n",
        "VOCAB_MIN_ID = 0\n",
        "VOCAB_MAX_ID = D_VOCAB - 2\n",
        "\n",
        "# START token is D_VOCAB - 2 and MID token is D_VOCAB - 1\n",
        "START_TOKEN_ID = VOCAB_MAX_ID\n",
        "MID_TOKEN_ID = D_VOCAB - 1\n",
        "\n",
        "# Should lists have repetitions?\n",
        "ALLOW_REPETITIONS = True"
      ],
      "metadata": {
        "colab": {
          "base_uri": "https://localhost:8080/"
        },
        "id": "_XwivtyM_Hru",
        "outputId": "919aa12f-e01d-410f-c7f3-00c11c6b5b6d"
      },
      "execution_count": null,
      "outputs": [
        {
          "output_type": "stream",
          "name": "stdout",
          "text": [
            "DEVICE = 'cpu'\n"
          ]
        }
      ]
    },
    {
      "cell_type": "markdown",
      "source": [
        "## Toy model for testing"
      ],
      "metadata": {
        "id": "N2CyZy6c_CDy"
      }
    },
    {
      "cell_type": "code",
      "source": [
        "def make_toy_model() -> HookedTransformer:\n",
        "    \"\"\"Make a toy transformer for testing functions\"\"\"\n",
        "    cfg = HookedTransformerConfig(\n",
        "        n_layers=1,\n",
        "        d_model=32,\n",
        "        n_ctx=N_CTX,\n",
        "        d_head=8,\n",
        "        n_heads=1,\n",
        "        d_vocab=D_VOCAB,\n",
        "        act_fn=\"relu\",\n",
        "        device=DEVICE,\n",
        "        attn_only=True\n",
        "    )\n",
        "    return HookedTransformer(cfg, move_to_device=True)"
      ],
      "metadata": {
        "id": "ixpOjGbF_Dda"
      },
      "execution_count": null,
      "outputs": []
    },
    {
      "cell_type": "markdown",
      "source": [
        "## Data generator and datasets"
      ],
      "metadata": {
        "id": "dlWGwox63j24"
      }
    },
    {
      "cell_type": "code",
      "source": [
        "def generate_list(batch_size: int) -> Tensor:\n",
        "    if ALLOW_REPETITIONS:\n",
        "        return torch.randint(VOCAB_MIN_ID, VOCAB_MAX_ID, (batch_size, LIST_LENGTH)).to(DEVICE)\n",
        "    return tensor([\n",
        "        random.sample(range(VOCAB_MIN_ID, VOCAB_MAX_ID), k=LIST_LENGTH) \n",
        "        for _ in range(batch_size)\n",
        "    ]).to(DEVICE)\n",
        "\n",
        "# General generator\n",
        "def make_data_gen(\n",
        "    *,\n",
        "    batch_size: int = 32,\n",
        "    dataset: Literal[\"train\", \"val\", \"test\"], # probably this arg needs a better name,\n",
        ") -> Generator[Tensor, None, None]:\n",
        "    assert dataset in (\"train\", \"val\", \"test\")\n",
        "    if dataset == \"train\":\n",
        "        seed = TRAIN_SEED\n",
        "    elif dataset == \"val\":\n",
        "        seed = VAL_SEED\n",
        "    else: # test\n",
        "        seed = TEST_SEED\n",
        "    torch.manual_seed(seed)\n",
        "    while True:\n",
        "        # Generate random numbers\n",
        "        x = generate_list(batch_size)\n",
        "        # Sort\n",
        "        x_sorted = torch.sort(x, dim=1).values\n",
        "        # START tokens\n",
        "        x_start = START_TOKEN_ID * torch.ones(batch_size, dtype=torch.int32).reshape(batch_size, -1).to(DEVICE)\n",
        "        # MID tokens\n",
        "        x_mid = MID_TOKEN_ID * torch.ones(batch_size, dtype=torch.int32).reshape(batch_size, -1).to(DEVICE)\n",
        "        yield torch.cat((x_start, x, x_mid, x_sorted), dim=1)\n",
        "\n",
        "\n",
        "# Training data generator (kinda wrapper)\n",
        "def make_train_gen() -> Generator[Tensor, None, None]:\n",
        "    \"\"\"Make generator of training data\"\"\"\n",
        "    return make_data_gen(batch_size=128, dataset=\"train\")\n",
        "\n",
        "# Validation and test data\n",
        "\n",
        "val_data = next(make_data_gen(batch_size=1000, dataset=\"val\"))\n",
        "test_data = next(make_data_gen(batch_size=1000, dataset=\"test\"))\n",
        "print(f\"{val_data.shape=}; {test_data.shape=}\")"
      ],
      "metadata": {
        "colab": {
          "base_uri": "https://localhost:8080/"
        },
        "id": "44OZjOq83k1H",
        "outputId": "e16fe74f-ea18-4daa-b95b-5ef9df729e6a"
      },
      "execution_count": null,
      "outputs": [
        {
          "output_type": "stream",
          "name": "stdout",
          "text": [
            "val_data.shape=torch.Size([1000, 12]); test_data.shape=torch.Size([1000, 12])\n"
          ]
        }
      ]
    },
    {
      "cell_type": "code",
      "source": [
        "def has_repetition(l):\n",
        "  return len(l.tolist()) != len(set(l.tolist()))\n",
        "\n",
        "def make_data_gen_with_rep(\n",
        "    *,\n",
        "    batch_size: int = 32,\n",
        "    dataset: Literal[\"train\", \"val\", \"test\"], # probably this arg needs a better name,\n",
        ") -> Generator[Tensor, None, None]:\n",
        "    assert dataset in (\"train\", \"val\", \"test\")\n",
        "    if dataset == \"train\":\n",
        "        seed = TRAIN_SEED\n",
        "    elif dataset == \"val\":\n",
        "        seed = VAL_SEED\n",
        "    else: # test\n",
        "        seed = TEST_SEED\n",
        "    torch.manual_seed(seed)\n",
        "    data_gen = make_data_gen(batch_size = 1, dataset=dataset)\n",
        "    while True:\n",
        "      u = []\n",
        "      for _ in range(batch_size):\n",
        "        next_try = next(data_gen)\n",
        "        while not has_repetition(next_try[0][1:LIST_LENGTH+1]):\n",
        "          next_try = next(data_gen)\n",
        "        u.append(next_try)\n",
        "\n",
        "      yield torch.cat(u)"
      ],
      "metadata": {
        "id": "U853p9b9yLmm"
      },
      "execution_count": null,
      "outputs": []
    },
    {
      "cell_type": "code",
      "source": [
        "l = torch.tensor([1,2,3,3]).tolist()\n",
        "torch.tensor([l,l,l])"
      ],
      "metadata": {
        "colab": {
          "base_uri": "https://localhost:8080/"
        },
        "id": "v_qsk7a63Lzb",
        "outputId": "c7225d41-6126-4e9c-b7b8-a68eff1dfe96"
      },
      "execution_count": null,
      "outputs": [
        {
          "output_type": "execute_result",
          "data": {
            "text/plain": [
              "tensor([[1, 2, 3, 3],\n",
              "        [1, 2, 3, 3],\n",
              "        [1, 2, 3, 3]])"
            ]
          },
          "metadata": {},
          "execution_count": 126
        }
      ]
    },
    {
      "cell_type": "code",
      "source": [
        "d = make_data_gen_with_rep(batch_size=10, dataset=\"test\")\n",
        "next(d)"
      ],
      "metadata": {
        "colab": {
          "base_uri": "https://localhost:8080/"
        },
        "id": "OhFcwQ0W2CQv",
        "outputId": "62aceb2c-6d4a-4b60-881b-21179f62fb08"
      },
      "execution_count": null,
      "outputs": [
        {
          "output_type": "execute_result",
          "data": {
            "text/plain": [
              "tensor([[64, 30,  1,  3,  1, 37, 65,  1,  1,  3, 30, 37],\n",
              "        [64, 39, 51,  9, 26, 51, 65,  9, 26, 39, 51, 51],\n",
              "        [64, 47, 16,  0, 45, 47, 65,  0, 16, 45, 47, 47],\n",
              "        [64,  4, 25, 25, 38, 53, 65,  4, 25, 25, 38, 53],\n",
              "        [64, 42, 57, 47, 55, 42, 65, 42, 42, 47, 55, 57],\n",
              "        [64, 46, 47, 28, 28, 41, 65, 28, 28, 41, 46, 47],\n",
              "        [64, 51, 31,  1, 31, 54, 65,  1, 31, 31, 51, 54],\n",
              "        [64, 50, 57, 57,  8, 14, 65,  8, 14, 50, 57, 57],\n",
              "        [64,  3, 62,  2, 57, 57, 65,  2,  3, 57, 57, 62],\n",
              "        [64,  4,  4,  6, 62, 17, 65,  4,  4,  6, 17, 62]])"
            ]
          },
          "metadata": {},
          "execution_count": 132
        }
      ]
    },
    {
      "cell_type": "code",
      "source": [
        "# Test\n",
        "\n",
        "toy_model = make_toy_model()\n",
        "x = next(make_train_gen())\n",
        "y = toy_model(x)\n",
        "y.argmax(-1)[0], x[0]"
      ],
      "metadata": {
        "colab": {
          "base_uri": "https://localhost:8080/"
        },
        "id": "-pty0d4ht0re",
        "outputId": "78eea155-bcda-4fcd-c057-b19237f8e23e"
      },
      "execution_count": null,
      "outputs": [
        {
          "output_type": "execute_result",
          "data": {
            "text/plain": [
              "(tensor([ 0, 10, 43, 17, 55, 27, 54, 43, 29,  0, 53, 54]),\n",
              " tensor([64, 38, 51, 28, 14, 42, 65, 14, 28, 38, 42, 51]))"
            ]
          },
          "metadata": {},
          "execution_count": 7
        }
      ]
    },
    {
      "cell_type": "markdown",
      "source": [
        "## Loss function"
      ],
      "metadata": {
        "id": "hBJn1fKm3pMX"
      }
    },
    {
      "cell_type": "code",
      "source": [
        "def loss_fn(\n",
        "    logits: Tensor, # [batch, pos, d_vocab] \n",
        "    tokens: Tensor, # [batch, pos] \n",
        "    return_per_token: bool = False\n",
        ") -> Tensor:\n",
        "    #TODO: document what happens here\n",
        "    sorted_start_pos = LIST_LENGTH + 2\n",
        "    logits = logits[:, (sorted_start_pos-1):-1]\n",
        "    # print(tokens[0])\n",
        "    tokens = tokens[:, sorted_start_pos : None]\n",
        "    # print(tokens[0], logits.shape,tokens.shape, logits.argmax(-1)[0])\n",
        "    log_probs = logits.log_softmax(-1)\n",
        "    correct_log_probs = log_probs.gather(-1, tokens[..., None])[..., 0]\n",
        "    if return_per_token:\n",
        "        return -correct_log_probs\n",
        "    return -correct_log_probs.mean()\n",
        "\n",
        "# Test\n",
        "\n",
        "toy_model = make_toy_model()\n",
        "x = next(make_train_gen())\n",
        "gen = make_train_gen()\n",
        "x = next(gen)\n",
        "y = toy_model(x)\n",
        "loss_fn(y, x)"
      ],
      "metadata": {
        "colab": {
          "base_uri": "https://localhost:8080/"
        },
        "id": "PTlNfaKY3qkd",
        "outputId": "b4edcbd6-03c7-4e60-9d8c-6e57a1bffa1f"
      },
      "execution_count": null,
      "outputs": [
        {
          "output_type": "execute_result",
          "data": {
            "text/plain": [
              "tensor(4.4752, grad_fn=<NegBackward0>)"
            ]
          },
          "metadata": {},
          "execution_count": 8
        }
      ]
    },
    {
      "cell_type": "markdown",
      "source": [
        "## Accuracy and validation"
      ],
      "metadata": {
        "id": "GKKrzLEq3sun"
      }
    },
    {
      "cell_type": "code",
      "source": [
        "def get_diff_row_inds(\n",
        "    a: Tensor, # [dim1, dim2]\n",
        "    b: Tensor  # [dim1, dim2]\n",
        ") -> Tensor:   # [dim1]\n",
        "    \"\"\"Find indices of rows where a and b differ\"\"\"\n",
        "    assert a.shape == b.shape\n",
        "    return ((a == b).prod(dim=1) == 0).nonzero(as_tuple=True)[0]\n",
        "\n",
        "def acc_fn(\n",
        "    logits: Tensor, # [batch, pos, d_vocab]\n",
        "    tokens: Tensor, # [batch, pos]\n",
        "    per: Literal[\"token\", \"sequence\"] = \"sequence\"\n",
        ") -> float:\n",
        "    \"\"\"Compute accuracy as percentage of correct predictions\"\"\"\n",
        "    sorted_start_pos = LIST_LENGTH + 2\n",
        "    # Get logits of predictions for position\n",
        "    logits = logits[:, (sorted_start_pos-1):-1]\n",
        "    preds = logits.argmax(-1)\n",
        "    tokens = tokens[:, sorted_start_pos:]\n",
        "    if per == \"sequence\":\n",
        "        return (preds == tokens).prod(dim=1).float().mean().item()\n",
        "    return (preds == tokens).float().mean().item()\n",
        "\n",
        "def validate(\n",
        "    model: HookedTransformer, \n",
        "    data: Tensor # [batch, pos]\n",
        ") -> float:\n",
        "    \"\"\"Test this model on `data`\"\"\"\n",
        "    logits = model(data)\n",
        "    acc = acc_fn(logits, tokens=data)\n",
        "    return acc\n",
        "\n",
        "def show_mispreds(\n",
        "    model: HookedTransformer, \n",
        "    data: Tensor # [batch, pos]\n",
        ") -> None:\n",
        "    \"\"\"Test this model on `data` and print mispredictions\"\"\"\n",
        "    logits = model(data)\n",
        "    sorted_start_pos = LIST_LENGTH + 2\n",
        "    logits = logits[:, (sorted_start_pos-1):-1]\n",
        "    tokens = data[:, sorted_start_pos:]\n",
        "    preds = logits.argmax(-1)\n",
        "    mispred_inds = get_diff_row_inds(tokens, preds)\n",
        "    for i in mispred_inds:\n",
        "        print(f\"[{i}] {tokens[i].numpy().tolist()} | {preds[i].numpy().tolist()}\")\n",
        "    print(f\"{len(mispred_inds)}/{len(preds)} ({len(mispred_inds) / len(preds) :.2%})\")\n",
        "    \n",
        "# show_mispreds(toy_model, val_data[:10])    \n",
        "\n",
        "\n",
        "# Test\n",
        "#TODO:\n"
      ],
      "metadata": {
        "id": "1x6q7b7O3rZa"
      },
      "execution_count": null,
      "outputs": []
    },
    {
      "cell_type": "markdown",
      "source": [
        "## Model and config"
      ],
      "metadata": {
        "id": "9emjjkpT3gHg"
      }
    },
    {
      "cell_type": "code",
      "source": [
        "cfg = HookedTransformerConfig(\n",
        "    d_model=128,\n",
        "    n_layers=1,\n",
        "    n_heads=1,\n",
        "    d_head=32,\n",
        "    n_ctx=N_CTX,\n",
        "    d_vocab=D_VOCAB,\n",
        "    act_fn=\"relu\",\n",
        "    seed=42,\n",
        "    device=DEVICE,\n",
        "    attn_only=True\n",
        ")\n",
        "model = HookedTransformer(cfg, move_to_device=True)"
      ],
      "metadata": {
        "id": "nX3rzs1j3V0-"
      },
      "execution_count": null,
      "outputs": []
    },
    {
      "cell_type": "markdown",
      "source": [
        "## Training setup"
      ],
      "metadata": {
        "id": "VLbAR2rx8swT"
      }
    },
    {
      "cell_type": "code",
      "source": [
        "# Number of epochs\n",
        "n_epochs = 20000\n",
        "\n",
        "# Optimization\n",
        "lr = 1e-3\n",
        "betas = (.9, .999)\n",
        "optim = torch.optim.Adam(model.parameters(), lr=lr, betas=betas)\n",
        "scheduler = torch.optim.lr_scheduler.ReduceLROnPlateau(optim, \"min\", patience=10000)\n",
        "\n",
        "# Training data generator\n",
        "train_gen = make_train_gen()"
      ],
      "metadata": {
        "id": "6qkMZ_Se8uLT"
      },
      "execution_count": null,
      "outputs": []
    },
    {
      "cell_type": "markdown",
      "source": [
        "## Training"
      ],
      "metadata": {
        "id": "9vYV7QAd3vCT"
      }
    },
    {
      "cell_type": "code",
      "source": [
        "losses = []\n",
        "train_accuracies = []\n",
        "val_accuracies = []\n",
        "\n",
        "def converged(val_accs: list[float], n_last: int = 10) -> bool:\n",
        "    return cast(bool, (tensor(val_accs[-n_last:]) == 1).all().item())\n",
        "\n",
        "for epoch in range(n_epochs):\n",
        "    tokens = next(train_gen).to(device=DEVICE)\n",
        "    logits = model(tokens)\n",
        "    loss = loss_fn(logits, tokens)\n",
        "    loss.backward()\n",
        "    optim.step()\n",
        "    optim.zero_grad()\n",
        "    scheduler.step(loss)\n",
        "    \n",
        "    if epoch % 100 == 0:\n",
        "        losses.append(loss.item())\n",
        "        train_batch_acc = acc_fn(logits, tokens)\n",
        "        val_acc = validate(model, val_data)\n",
        "        val_loss = loss_fn(model(val_data), val_data)\n",
        "\n",
        "        train_accuracies.append(train_batch_acc)\n",
        "        val_accuracies.append(val_acc)\n",
        "        print(\n",
        "            f\"Epoch {epoch}/{n_epochs} ({epoch / n_epochs:.0%}) : \"\n",
        "            f\"loss = {loss.item():.4f}; {train_batch_acc=:.3%}; \"\n",
        "            f\"{val_acc=:.3%}; lr={scheduler._last_lr[0]}\" #type:ignore\n",
        "        )\n",
        "        # If last 10 recorded val_accuracies are 100%\n",
        "        if converged(val_accuracies):\n",
        "            print(f\"\\nAchieved consistent perfect validation accuracy after {epoch} epochs\")\n",
        "            break\n"
      ],
      "metadata": {
        "colab": {
          "base_uri": "https://localhost:8080/"
        },
        "id": "LHBPL3Xw3uAt",
        "outputId": "46946138-c68e-4090-d729-36051ce38391"
      },
      "execution_count": null,
      "outputs": [
        {
          "output_type": "stream",
          "name": "stdout",
          "text": [
            "Epoch 0/20000 (0%) : loss = 4.4764; train_batch_acc=0.000%; val_acc=0.000%; lr=0.001\n",
            "Epoch 100/20000 (0%) : loss = 0.4194; train_batch_acc=53.906%; val_acc=53.000%; lr=0.001\n",
            "Epoch 200/20000 (1%) : loss = 0.1928; train_batch_acc=72.656%; val_acc=78.800%; lr=0.001\n",
            "Epoch 300/20000 (2%) : loss = 0.1562; train_batch_acc=83.594%; val_acc=85.600%; lr=0.001\n",
            "Epoch 400/20000 (2%) : loss = 0.1257; train_batch_acc=85.938%; val_acc=86.200%; lr=0.001\n",
            "Epoch 500/20000 (2%) : loss = 0.1202; train_batch_acc=87.500%; val_acc=88.100%; lr=0.001\n",
            "Epoch 600/20000 (3%) : loss = 0.0971; train_batch_acc=88.281%; val_acc=90.200%; lr=0.001\n",
            "Epoch 700/20000 (4%) : loss = 0.0720; train_batch_acc=92.188%; val_acc=88.800%; lr=0.001\n",
            "Epoch 800/20000 (4%) : loss = 0.0695; train_batch_acc=92.969%; val_acc=90.500%; lr=0.001\n",
            "Epoch 900/20000 (4%) : loss = 0.0749; train_batch_acc=90.625%; val_acc=90.500%; lr=0.001\n",
            "Epoch 1000/20000 (5%) : loss = 0.0514; train_batch_acc=92.188%; val_acc=90.200%; lr=0.001\n",
            "Epoch 1100/20000 (6%) : loss = 0.0671; train_batch_acc=89.844%; val_acc=91.500%; lr=0.001\n",
            "Epoch 1200/20000 (6%) : loss = 0.0529; train_batch_acc=93.750%; val_acc=91.100%; lr=0.001\n",
            "Epoch 1300/20000 (6%) : loss = 0.0768; train_batch_acc=87.500%; val_acc=90.500%; lr=0.001\n",
            "Epoch 1400/20000 (7%) : loss = 0.0735; train_batch_acc=91.406%; val_acc=91.500%; lr=0.001\n",
            "Epoch 1500/20000 (8%) : loss = 0.0672; train_batch_acc=90.625%; val_acc=90.300%; lr=0.001\n",
            "Epoch 1600/20000 (8%) : loss = 0.0337; train_batch_acc=93.750%; val_acc=92.000%; lr=0.001\n",
            "Epoch 1700/20000 (8%) : loss = 0.0810; train_batch_acc=89.062%; val_acc=91.800%; lr=0.001\n",
            "Epoch 1800/20000 (9%) : loss = 0.0701; train_batch_acc=88.281%; val_acc=91.300%; lr=0.001\n",
            "Epoch 1900/20000 (10%) : loss = 0.0545; train_batch_acc=90.625%; val_acc=93.100%; lr=0.001\n",
            "Epoch 2000/20000 (10%) : loss = 0.0351; train_batch_acc=93.750%; val_acc=93.300%; lr=0.001\n",
            "Epoch 2100/20000 (10%) : loss = 0.0502; train_batch_acc=94.531%; val_acc=92.300%; lr=0.001\n",
            "Epoch 2200/20000 (11%) : loss = 0.0458; train_batch_acc=92.969%; val_acc=91.800%; lr=0.001\n",
            "Epoch 2300/20000 (12%) : loss = 0.0466; train_batch_acc=92.969%; val_acc=93.600%; lr=0.001\n",
            "Epoch 2400/20000 (12%) : loss = 0.0742; train_batch_acc=91.406%; val_acc=93.300%; lr=0.001\n",
            "Epoch 2500/20000 (12%) : loss = 0.0514; train_batch_acc=91.406%; val_acc=93.500%; lr=0.001\n",
            "Epoch 2600/20000 (13%) : loss = 0.0560; train_batch_acc=90.625%; val_acc=93.300%; lr=0.001\n",
            "Epoch 2700/20000 (14%) : loss = 0.0618; train_batch_acc=94.531%; val_acc=93.400%; lr=0.001\n",
            "Epoch 2800/20000 (14%) : loss = 0.0435; train_batch_acc=92.969%; val_acc=93.600%; lr=0.001\n",
            "Epoch 2900/20000 (14%) : loss = 0.0262; train_batch_acc=93.750%; val_acc=93.200%; lr=0.001\n",
            "Epoch 3000/20000 (15%) : loss = 0.0605; train_batch_acc=93.750%; val_acc=93.700%; lr=0.001\n",
            "Epoch 3100/20000 (16%) : loss = 0.0280; train_batch_acc=97.656%; val_acc=93.700%; lr=0.001\n",
            "Epoch 3200/20000 (16%) : loss = 0.0216; train_batch_acc=97.656%; val_acc=94.200%; lr=0.001\n",
            "Epoch 3300/20000 (16%) : loss = 0.0324; train_batch_acc=96.094%; val_acc=95.200%; lr=0.001\n",
            "Epoch 3400/20000 (17%) : loss = 0.0441; train_batch_acc=93.750%; val_acc=94.100%; lr=0.001\n",
            "Epoch 3500/20000 (18%) : loss = 0.0360; train_batch_acc=96.875%; val_acc=94.900%; lr=0.001\n",
            "Epoch 3600/20000 (18%) : loss = 0.0252; train_batch_acc=96.094%; val_acc=95.400%; lr=0.001\n",
            "Epoch 3700/20000 (18%) : loss = 0.0791; train_batch_acc=92.188%; val_acc=94.000%; lr=0.001\n",
            "Epoch 3800/20000 (19%) : loss = 0.0452; train_batch_acc=94.531%; val_acc=95.300%; lr=0.001\n",
            "Epoch 3900/20000 (20%) : loss = 0.0321; train_batch_acc=95.312%; val_acc=96.000%; lr=0.001\n",
            "Epoch 4000/20000 (20%) : loss = 0.0312; train_batch_acc=95.312%; val_acc=95.400%; lr=0.001\n",
            "Epoch 4100/20000 (20%) : loss = 0.0190; train_batch_acc=97.656%; val_acc=95.100%; lr=0.001\n",
            "Epoch 4200/20000 (21%) : loss = 0.0285; train_batch_acc=96.875%; val_acc=94.900%; lr=0.001\n",
            "Epoch 4300/20000 (22%) : loss = 0.0317; train_batch_acc=95.312%; val_acc=94.700%; lr=0.001\n",
            "Epoch 4400/20000 (22%) : loss = 0.0280; train_batch_acc=94.531%; val_acc=95.700%; lr=0.001\n",
            "Epoch 4500/20000 (22%) : loss = 0.0218; train_batch_acc=96.875%; val_acc=95.400%; lr=0.001\n",
            "Epoch 4600/20000 (23%) : loss = 0.0297; train_batch_acc=96.875%; val_acc=95.300%; lr=0.001\n",
            "Epoch 4700/20000 (24%) : loss = 0.0216; train_batch_acc=96.875%; val_acc=96.100%; lr=0.001\n",
            "Epoch 4800/20000 (24%) : loss = 0.0284; train_batch_acc=96.875%; val_acc=95.300%; lr=0.001\n",
            "Epoch 4900/20000 (24%) : loss = 0.0185; train_batch_acc=96.875%; val_acc=95.300%; lr=0.001\n",
            "Epoch 5000/20000 (25%) : loss = 0.0258; train_batch_acc=94.531%; val_acc=95.700%; lr=0.001\n",
            "Epoch 5100/20000 (26%) : loss = 0.0251; train_batch_acc=96.875%; val_acc=95.600%; lr=0.001\n",
            "Epoch 5200/20000 (26%) : loss = 0.0530; train_batch_acc=92.188%; val_acc=96.500%; lr=0.001\n",
            "Epoch 5300/20000 (26%) : loss = 0.0200; train_batch_acc=97.656%; val_acc=97.000%; lr=0.001\n",
            "Epoch 5400/20000 (27%) : loss = 0.0286; train_batch_acc=97.656%; val_acc=95.400%; lr=0.001\n",
            "Epoch 5500/20000 (28%) : loss = 0.0254; train_batch_acc=97.656%; val_acc=96.200%; lr=0.001\n",
            "Epoch 5600/20000 (28%) : loss = 0.0221; train_batch_acc=96.094%; val_acc=96.100%; lr=0.001\n",
            "Epoch 5700/20000 (28%) : loss = 0.0185; train_batch_acc=95.312%; val_acc=96.800%; lr=0.001\n",
            "Epoch 5800/20000 (29%) : loss = 0.0205; train_batch_acc=96.875%; val_acc=95.500%; lr=0.001\n",
            "Epoch 5900/20000 (30%) : loss = 0.0120; train_batch_acc=98.438%; val_acc=96.700%; lr=0.001\n",
            "Epoch 6000/20000 (30%) : loss = 0.0362; train_batch_acc=96.094%; val_acc=95.700%; lr=0.001\n",
            "Epoch 6100/20000 (30%) : loss = 0.0330; train_batch_acc=95.312%; val_acc=96.500%; lr=0.001\n",
            "Epoch 6200/20000 (31%) : loss = 0.0183; train_batch_acc=97.656%; val_acc=96.800%; lr=0.001\n",
            "Epoch 6300/20000 (32%) : loss = 0.0153; train_batch_acc=98.438%; val_acc=96.800%; lr=0.001\n",
            "Epoch 6400/20000 (32%) : loss = 0.0231; train_batch_acc=94.531%; val_acc=95.700%; lr=0.001\n",
            "Epoch 6500/20000 (32%) : loss = 0.0557; train_batch_acc=92.188%; val_acc=96.300%; lr=0.001\n",
            "Epoch 6600/20000 (33%) : loss = 0.0191; train_batch_acc=97.656%; val_acc=95.800%; lr=0.001\n",
            "Epoch 6700/20000 (34%) : loss = 0.0109; train_batch_acc=99.219%; val_acc=97.900%; lr=0.0001\n",
            "Epoch 6800/20000 (34%) : loss = 0.0119; train_batch_acc=98.438%; val_acc=98.400%; lr=0.0001\n",
            "Epoch 6900/20000 (34%) : loss = 0.0143; train_batch_acc=98.438%; val_acc=98.200%; lr=0.0001\n",
            "Epoch 7000/20000 (35%) : loss = 0.0107; train_batch_acc=98.438%; val_acc=98.100%; lr=0.0001\n",
            "Epoch 7100/20000 (36%) : loss = 0.0098; train_batch_acc=99.219%; val_acc=98.800%; lr=0.0001\n",
            "Epoch 7200/20000 (36%) : loss = 0.0088; train_batch_acc=99.219%; val_acc=98.400%; lr=0.0001\n",
            "Epoch 7300/20000 (36%) : loss = 0.0062; train_batch_acc=99.219%; val_acc=98.200%; lr=0.0001\n",
            "Epoch 7400/20000 (37%) : loss = 0.0085; train_batch_acc=99.219%; val_acc=98.700%; lr=0.0001\n",
            "Epoch 7500/20000 (38%) : loss = 0.0047; train_batch_acc=100.000%; val_acc=98.300%; lr=0.0001\n",
            "Epoch 7600/20000 (38%) : loss = 0.0121; train_batch_acc=99.219%; val_acc=98.500%; lr=0.0001\n",
            "Epoch 7700/20000 (38%) : loss = 0.0067; train_batch_acc=99.219%; val_acc=98.400%; lr=0.0001\n",
            "Epoch 7800/20000 (39%) : loss = 0.0256; train_batch_acc=96.875%; val_acc=98.600%; lr=0.0001\n",
            "Epoch 7900/20000 (40%) : loss = 0.0083; train_batch_acc=99.219%; val_acc=98.500%; lr=0.0001\n",
            "Epoch 8000/20000 (40%) : loss = 0.0110; train_batch_acc=97.656%; val_acc=98.300%; lr=0.0001\n",
            "Epoch 8100/20000 (40%) : loss = 0.0156; train_batch_acc=97.656%; val_acc=98.500%; lr=0.0001\n",
            "Epoch 8200/20000 (41%) : loss = 0.0070; train_batch_acc=99.219%; val_acc=98.600%; lr=0.0001\n",
            "Epoch 8300/20000 (42%) : loss = 0.0048; train_batch_acc=99.219%; val_acc=98.300%; lr=0.0001\n",
            "Epoch 8400/20000 (42%) : loss = 0.0194; train_batch_acc=96.875%; val_acc=98.400%; lr=0.0001\n",
            "Epoch 8500/20000 (42%) : loss = 0.0080; train_batch_acc=98.438%; val_acc=98.700%; lr=0.0001\n",
            "Epoch 8600/20000 (43%) : loss = 0.0042; train_batch_acc=99.219%; val_acc=98.600%; lr=0.0001\n",
            "Epoch 8700/20000 (44%) : loss = 0.0066; train_batch_acc=99.219%; val_acc=98.600%; lr=0.0001\n",
            "Epoch 8800/20000 (44%) : loss = 0.0084; train_batch_acc=99.219%; val_acc=98.700%; lr=0.0001\n",
            "Epoch 8900/20000 (44%) : loss = 0.0028; train_batch_acc=100.000%; val_acc=98.700%; lr=0.0001\n",
            "Epoch 9000/20000 (45%) : loss = 0.0106; train_batch_acc=99.219%; val_acc=98.500%; lr=0.0001\n",
            "Epoch 9100/20000 (46%) : loss = 0.0059; train_batch_acc=99.219%; val_acc=98.500%; lr=0.0001\n",
            "Epoch 9200/20000 (46%) : loss = 0.0028; train_batch_acc=100.000%; val_acc=98.700%; lr=0.0001\n",
            "Epoch 9300/20000 (46%) : loss = 0.0048; train_batch_acc=99.219%; val_acc=98.400%; lr=0.0001\n",
            "Epoch 9400/20000 (47%) : loss = 0.0098; train_batch_acc=99.219%; val_acc=98.800%; lr=0.0001\n",
            "Epoch 9500/20000 (48%) : loss = 0.0083; train_batch_acc=97.656%; val_acc=98.500%; lr=0.0001\n",
            "Epoch 9600/20000 (48%) : loss = 0.0092; train_batch_acc=99.219%; val_acc=98.900%; lr=1e-05\n",
            "Epoch 9700/20000 (48%) : loss = 0.0111; train_batch_acc=98.438%; val_acc=99.000%; lr=1e-05\n",
            "Epoch 9800/20000 (49%) : loss = 0.0115; train_batch_acc=98.438%; val_acc=98.800%; lr=1e-05\n",
            "Epoch 9900/20000 (50%) : loss = 0.0175; train_batch_acc=97.656%; val_acc=98.900%; lr=1e-05\n",
            "Epoch 10000/20000 (50%) : loss = 0.0122; train_batch_acc=98.438%; val_acc=99.000%; lr=1e-05\n",
            "Epoch 10100/20000 (50%) : loss = 0.0096; train_batch_acc=99.219%; val_acc=99.000%; lr=1e-05\n",
            "Epoch 10200/20000 (51%) : loss = 0.0044; train_batch_acc=99.219%; val_acc=99.000%; lr=1e-05\n",
            "Epoch 10300/20000 (52%) : loss = 0.0179; train_batch_acc=97.656%; val_acc=98.800%; lr=1e-05\n",
            "Epoch 10400/20000 (52%) : loss = 0.0099; train_batch_acc=98.438%; val_acc=98.900%; lr=1e-05\n",
            "Epoch 10500/20000 (52%) : loss = 0.0118; train_batch_acc=98.438%; val_acc=98.900%; lr=1e-05\n",
            "Epoch 10600/20000 (53%) : loss = 0.0050; train_batch_acc=99.219%; val_acc=98.800%; lr=1e-05\n",
            "Epoch 10700/20000 (54%) : loss = 0.0043; train_batch_acc=100.000%; val_acc=98.700%; lr=1e-05\n",
            "Epoch 10800/20000 (54%) : loss = 0.0121; train_batch_acc=96.875%; val_acc=98.900%; lr=1e-05\n",
            "Epoch 10900/20000 (55%) : loss = 0.0062; train_batch_acc=98.438%; val_acc=98.900%; lr=1e-05\n",
            "Epoch 11000/20000 (55%) : loss = 0.0192; train_batch_acc=96.875%; val_acc=98.900%; lr=1.0000000000000002e-06\n",
            "Epoch 11100/20000 (56%) : loss = 0.0046; train_batch_acc=99.219%; val_acc=98.900%; lr=1.0000000000000002e-06\n",
            "Epoch 11200/20000 (56%) : loss = 0.0042; train_batch_acc=100.000%; val_acc=98.900%; lr=1.0000000000000002e-06\n",
            "Epoch 11300/20000 (56%) : loss = 0.0076; train_batch_acc=97.656%; val_acc=98.900%; lr=1.0000000000000002e-06\n",
            "Epoch 11400/20000 (57%) : loss = 0.0100; train_batch_acc=96.875%; val_acc=98.900%; lr=1.0000000000000002e-06\n",
            "Epoch 11500/20000 (57%) : loss = 0.0039; train_batch_acc=100.000%; val_acc=98.900%; lr=1.0000000000000002e-06\n",
            "Epoch 11600/20000 (58%) : loss = 0.0040; train_batch_acc=100.000%; val_acc=98.900%; lr=1.0000000000000002e-06\n",
            "Epoch 11700/20000 (58%) : loss = 0.0048; train_batch_acc=100.000%; val_acc=98.900%; lr=1.0000000000000002e-06\n",
            "Epoch 11800/20000 (59%) : loss = 0.0135; train_batch_acc=97.656%; val_acc=98.900%; lr=1.0000000000000002e-06\n",
            "Epoch 11900/20000 (60%) : loss = 0.0080; train_batch_acc=99.219%; val_acc=98.900%; lr=1.0000000000000002e-06\n",
            "Epoch 12000/20000 (60%) : loss = 0.0110; train_batch_acc=98.438%; val_acc=98.900%; lr=1.0000000000000002e-06\n",
            "Epoch 12100/20000 (60%) : loss = 0.0153; train_batch_acc=98.438%; val_acc=98.900%; lr=1.0000000000000002e-06\n",
            "Epoch 12200/20000 (61%) : loss = 0.0044; train_batch_acc=99.219%; val_acc=98.900%; lr=1.0000000000000002e-06\n",
            "Epoch 12300/20000 (62%) : loss = 0.0032; train_batch_acc=100.000%; val_acc=98.900%; lr=1.0000000000000002e-06\n",
            "Epoch 12400/20000 (62%) : loss = 0.0102; train_batch_acc=98.438%; val_acc=98.900%; lr=1.0000000000000002e-06\n",
            "Epoch 12500/20000 (62%) : loss = 0.0082; train_batch_acc=98.438%; val_acc=98.900%; lr=1.0000000000000002e-06\n",
            "Epoch 12600/20000 (63%) : loss = 0.0157; train_batch_acc=99.219%; val_acc=98.900%; lr=1.0000000000000002e-06\n",
            "Epoch 12700/20000 (64%) : loss = 0.0047; train_batch_acc=99.219%; val_acc=98.900%; lr=1.0000000000000002e-06\n",
            "Epoch 12800/20000 (64%) : loss = 0.0071; train_batch_acc=98.438%; val_acc=98.900%; lr=1.0000000000000002e-07\n",
            "Epoch 12900/20000 (64%) : loss = 0.0101; train_batch_acc=98.438%; val_acc=98.900%; lr=1.0000000000000002e-07\n",
            "Epoch 13000/20000 (65%) : loss = 0.0149; train_batch_acc=96.875%; val_acc=98.900%; lr=1.0000000000000002e-07\n",
            "Epoch 13100/20000 (66%) : loss = 0.0075; train_batch_acc=98.438%; val_acc=98.900%; lr=1.0000000000000002e-07\n",
            "Epoch 13200/20000 (66%) : loss = 0.0048; train_batch_acc=99.219%; val_acc=98.900%; lr=1.0000000000000002e-07\n",
            "Epoch 13300/20000 (66%) : loss = 0.0090; train_batch_acc=98.438%; val_acc=98.900%; lr=1.0000000000000002e-07\n",
            "Epoch 13400/20000 (67%) : loss = 0.0077; train_batch_acc=98.438%; val_acc=98.900%; lr=1.0000000000000002e-07\n",
            "Epoch 13500/20000 (68%) : loss = 0.0119; train_batch_acc=99.219%; val_acc=98.900%; lr=1.0000000000000002e-07\n",
            "Epoch 13600/20000 (68%) : loss = 0.0042; train_batch_acc=100.000%; val_acc=98.900%; lr=1.0000000000000002e-07\n",
            "Epoch 13700/20000 (68%) : loss = 0.0053; train_batch_acc=99.219%; val_acc=98.900%; lr=1.0000000000000002e-07\n",
            "Epoch 13800/20000 (69%) : loss = 0.0111; train_batch_acc=97.656%; val_acc=98.900%; lr=1.0000000000000002e-07\n",
            "Epoch 13900/20000 (70%) : loss = 0.0035; train_batch_acc=100.000%; val_acc=98.900%; lr=1.0000000000000002e-07\n",
            "Epoch 14000/20000 (70%) : loss = 0.0066; train_batch_acc=98.438%; val_acc=98.900%; lr=1.0000000000000002e-07\n",
            "Epoch 14100/20000 (70%) : loss = 0.0116; train_batch_acc=98.438%; val_acc=98.900%; lr=1.0000000000000002e-07\n",
            "Epoch 14200/20000 (71%) : loss = 0.0085; train_batch_acc=98.438%; val_acc=98.900%; lr=1.0000000000000002e-07\n",
            "Epoch 14300/20000 (72%) : loss = 0.0073; train_batch_acc=98.438%; val_acc=98.900%; lr=1.0000000000000002e-07\n",
            "Epoch 14400/20000 (72%) : loss = 0.0041; train_batch_acc=100.000%; val_acc=98.900%; lr=1.0000000000000002e-07\n",
            "Epoch 14500/20000 (72%) : loss = 0.0070; train_batch_acc=100.000%; val_acc=98.900%; lr=1.0000000000000002e-07\n",
            "Epoch 14600/20000 (73%) : loss = 0.0042; train_batch_acc=100.000%; val_acc=98.900%; lr=1.0000000000000002e-07\n",
            "Epoch 14700/20000 (74%) : loss = 0.0074; train_batch_acc=99.219%; val_acc=98.900%; lr=1.0000000000000004e-08\n",
            "Epoch 14800/20000 (74%) : loss = 0.0079; train_batch_acc=98.438%; val_acc=98.900%; lr=1.0000000000000004e-08\n",
            "Epoch 14900/20000 (74%) : loss = 0.0045; train_batch_acc=100.000%; val_acc=98.900%; lr=1.0000000000000004e-08\n",
            "Epoch 15000/20000 (75%) : loss = 0.0074; train_batch_acc=99.219%; val_acc=98.900%; lr=1.0000000000000004e-08\n",
            "Epoch 15100/20000 (76%) : loss = 0.0053; train_batch_acc=99.219%; val_acc=98.900%; lr=1.0000000000000004e-08\n",
            "Epoch 15200/20000 (76%) : loss = 0.0096; train_batch_acc=98.438%; val_acc=98.900%; lr=1.0000000000000004e-08\n",
            "Epoch 15300/20000 (76%) : loss = 0.0055; train_batch_acc=99.219%; val_acc=98.900%; lr=1.0000000000000004e-08\n",
            "Epoch 15400/20000 (77%) : loss = 0.0147; train_batch_acc=98.438%; val_acc=98.900%; lr=1.0000000000000004e-08\n",
            "Epoch 15500/20000 (78%) : loss = 0.0116; train_batch_acc=98.438%; val_acc=98.900%; lr=1.0000000000000004e-08\n",
            "Epoch 15600/20000 (78%) : loss = 0.0134; train_batch_acc=97.656%; val_acc=98.900%; lr=1.0000000000000004e-08\n",
            "Epoch 15700/20000 (78%) : loss = 0.0034; train_batch_acc=100.000%; val_acc=98.900%; lr=1.0000000000000004e-08\n",
            "Epoch 15800/20000 (79%) : loss = 0.0049; train_batch_acc=99.219%; val_acc=98.900%; lr=1.0000000000000004e-08\n",
            "Epoch 15900/20000 (80%) : loss = 0.0116; train_batch_acc=99.219%; val_acc=98.900%; lr=1.0000000000000004e-08\n",
            "Epoch 16000/20000 (80%) : loss = 0.0053; train_batch_acc=100.000%; val_acc=98.900%; lr=1.0000000000000004e-08\n",
            "Epoch 16100/20000 (80%) : loss = 0.0072; train_batch_acc=98.438%; val_acc=98.900%; lr=1.0000000000000004e-08\n",
            "Epoch 16200/20000 (81%) : loss = 0.0081; train_batch_acc=99.219%; val_acc=98.900%; lr=1.0000000000000004e-08\n",
            "Epoch 16300/20000 (82%) : loss = 0.0110; train_batch_acc=97.656%; val_acc=98.900%; lr=1.0000000000000004e-08\n",
            "Epoch 16400/20000 (82%) : loss = 0.0097; train_batch_acc=97.656%; val_acc=98.900%; lr=1.0000000000000004e-08\n",
            "Epoch 16500/20000 (82%) : loss = 0.0097; train_batch_acc=98.438%; val_acc=98.900%; lr=1.0000000000000004e-08\n",
            "Epoch 16600/20000 (83%) : loss = 0.0080; train_batch_acc=100.000%; val_acc=98.900%; lr=1.0000000000000004e-08\n",
            "Epoch 16700/20000 (84%) : loss = 0.0045; train_batch_acc=100.000%; val_acc=98.900%; lr=1.0000000000000004e-08\n",
            "Epoch 16800/20000 (84%) : loss = 0.0051; train_batch_acc=99.219%; val_acc=98.900%; lr=1.0000000000000004e-08\n",
            "Epoch 16900/20000 (84%) : loss = 0.0150; train_batch_acc=98.438%; val_acc=98.900%; lr=1.0000000000000004e-08\n",
            "Epoch 17000/20000 (85%) : loss = 0.0083; train_batch_acc=99.219%; val_acc=98.900%; lr=1.0000000000000004e-08\n",
            "Epoch 17100/20000 (86%) : loss = 0.0079; train_batch_acc=99.219%; val_acc=98.900%; lr=1.0000000000000004e-08\n",
            "Epoch 17200/20000 (86%) : loss = 0.0050; train_batch_acc=99.219%; val_acc=98.900%; lr=1.0000000000000004e-08\n",
            "Epoch 17300/20000 (86%) : loss = 0.0114; train_batch_acc=98.438%; val_acc=98.900%; lr=1.0000000000000004e-08\n",
            "Epoch 17400/20000 (87%) : loss = 0.0090; train_batch_acc=100.000%; val_acc=98.900%; lr=1.0000000000000004e-08\n",
            "Epoch 17500/20000 (88%) : loss = 0.0072; train_batch_acc=99.219%; val_acc=98.900%; lr=1.0000000000000004e-08\n",
            "Epoch 17600/20000 (88%) : loss = 0.0099; train_batch_acc=98.438%; val_acc=98.900%; lr=1.0000000000000004e-08\n",
            "Epoch 17700/20000 (88%) : loss = 0.0170; train_batch_acc=98.438%; val_acc=98.900%; lr=1.0000000000000004e-08\n",
            "Epoch 17800/20000 (89%) : loss = 0.0106; train_batch_acc=97.656%; val_acc=98.900%; lr=1.0000000000000004e-08\n",
            "Epoch 17900/20000 (90%) : loss = 0.0081; train_batch_acc=99.219%; val_acc=98.900%; lr=1.0000000000000004e-08\n",
            "Epoch 18000/20000 (90%) : loss = 0.0071; train_batch_acc=98.438%; val_acc=98.900%; lr=1.0000000000000004e-08\n",
            "Epoch 18100/20000 (90%) : loss = 0.0058; train_batch_acc=99.219%; val_acc=98.900%; lr=1.0000000000000004e-08\n",
            "Epoch 18200/20000 (91%) : loss = 0.0064; train_batch_acc=99.219%; val_acc=98.900%; lr=1.0000000000000004e-08\n",
            "Epoch 18300/20000 (92%) : loss = 0.0053; train_batch_acc=100.000%; val_acc=98.900%; lr=1.0000000000000004e-08\n",
            "Epoch 18400/20000 (92%) : loss = 0.0219; train_batch_acc=96.094%; val_acc=98.900%; lr=1.0000000000000004e-08\n",
            "Epoch 18500/20000 (92%) : loss = 0.0097; train_batch_acc=98.438%; val_acc=98.900%; lr=1.0000000000000004e-08\n",
            "Epoch 18600/20000 (93%) : loss = 0.0057; train_batch_acc=99.219%; val_acc=98.900%; lr=1.0000000000000004e-08\n",
            "Epoch 18700/20000 (94%) : loss = 0.0057; train_batch_acc=99.219%; val_acc=98.900%; lr=1.0000000000000004e-08\n",
            "Epoch 18800/20000 (94%) : loss = 0.0092; train_batch_acc=97.656%; val_acc=98.900%; lr=1.0000000000000004e-08\n",
            "Epoch 18900/20000 (94%) : loss = 0.0170; train_batch_acc=97.656%; val_acc=98.900%; lr=1.0000000000000004e-08\n",
            "Epoch 19000/20000 (95%) : loss = 0.0041; train_batch_acc=100.000%; val_acc=98.900%; lr=1.0000000000000004e-08\n",
            "Epoch 19100/20000 (96%) : loss = 0.0040; train_batch_acc=100.000%; val_acc=98.900%; lr=1.0000000000000004e-08\n",
            "Epoch 19200/20000 (96%) : loss = 0.0060; train_batch_acc=99.219%; val_acc=98.900%; lr=1.0000000000000004e-08\n",
            "Epoch 19300/20000 (96%) : loss = 0.0059; train_batch_acc=100.000%; val_acc=98.900%; lr=1.0000000000000004e-08\n",
            "Epoch 19400/20000 (97%) : loss = 0.0103; train_batch_acc=98.438%; val_acc=98.900%; lr=1.0000000000000004e-08\n",
            "Epoch 19500/20000 (98%) : loss = 0.0044; train_batch_acc=100.000%; val_acc=98.900%; lr=1.0000000000000004e-08\n",
            "Epoch 19600/20000 (98%) : loss = 0.0084; train_batch_acc=99.219%; val_acc=98.900%; lr=1.0000000000000004e-08\n",
            "Epoch 19700/20000 (98%) : loss = 0.0111; train_batch_acc=96.875%; val_acc=98.900%; lr=1.0000000000000004e-08\n",
            "Epoch 19800/20000 (99%) : loss = 0.0064; train_batch_acc=99.219%; val_acc=98.900%; lr=1.0000000000000004e-08\n",
            "Epoch 19900/20000 (100%) : loss = 0.0063; train_batch_acc=99.219%; val_acc=98.900%; lr=1.0000000000000004e-08\n"
          ]
        }
      ]
    },
    {
      "cell_type": "markdown",
      "source": [
        "## Testing post-training"
      ],
      "metadata": {
        "id": "HABWttcH34dv"
      }
    },
    {
      "cell_type": "code",
      "source": [
        "print(\"Validating on validation data:\")\n",
        "val_acc = validate(model, val_data)\n",
        "print(f\"\\t{val_acc=:.3%}\\n\")\n",
        "if val_acc < 1:\n",
        "    show_mispreds(model, val_data)\n",
        "\n",
        "print(\"\\nValidating on test data:\")\n",
        "test_acc = validate(model, test_data)\n",
        "print(f\"\\t{test_acc=:.3%}\\n\")\n",
        "if test_acc < 1:\n",
        "    show_mispreds(model, test_data)"
      ],
      "metadata": {
        "colab": {
          "base_uri": "https://localhost:8080/"
        },
        "id": "lakshPyuwdO7",
        "outputId": "6128af7f-3893-4ba7-d991-f2745fadf13a"
      },
      "execution_count": null,
      "outputs": [
        {
          "output_type": "stream",
          "name": "stdout",
          "text": [
            "Validating on validation data:\n",
            "\tval_acc=98.900%\n",
            "\n",
            "[2] [10, 13, 13, 16, 39] | [10, 13, 16, 16, 39]\n",
            "[12] [7, 30, 30, 42, 53] | [7, 30, 42, 42, 53]\n",
            "[104] [8, 11, 61, 62, 63] | [8, 11, 60, 62, 63]\n",
            "[171] [1, 21, 23, 23, 25] | [1, 21, 23, 25, 25]\n",
            "[210] [20, 24, 24, 41, 42] | [20, 24, 41, 41, 42]\n",
            "[260] [17, 17, 17, 18, 23] | [17, 17, 17, 17, 23]\n",
            "[592] [22, 22, 29, 56, 62] | [22, 22, 22, 56, 62]\n",
            "[657] [10, 10, 12, 19, 22] | [10, 12, 12, 19, 22]\n",
            "[845] [2, 14, 14, 18, 19] | [2, 14, 18, 18, 19]\n",
            "[912] [17, 17, 19, 32, 57] | [17, 17, 17, 32, 57]\n",
            "[978] [2, 3, 3, 29, 57] | [2, 3, 2, 29, 57]\n",
            "11/1000 (1.10%)\n",
            "\n",
            "Validating on test data:\n",
            "\ttest_acc=99.000%\n",
            "\n",
            "[37] [42, 42, 47, 55, 57] | [42, 42, 42, 55, 57]\n",
            "[464] [3, 16, 16, 18, 55] | [3, 16, 18, 18, 55]\n",
            "[489] [24, 24, 27, 47, 53] | [24, 24, 24, 47, 53]\n",
            "[531] [0, 0, 2, 28, 55] | [0, 2, 2, 28, 55]\n",
            "[597] [5, 5, 6, 13, 22] | [5, 6, 6, 13, 22]\n",
            "[693] [17, 31, 31, 36, 59] | [17, 31, 36, 36, 59]\n",
            "[852] [24, 24, 29, 45, 59] | [24, 24, 24, 45, 59]\n",
            "[891] [30, 30, 35, 37, 46] | [30, 35, 35, 37, 46]\n",
            "[911] [24, 48, 48, 49, 62] | [24, 48, 48, 48, 62]\n",
            "[980] [21, 39, 47, 47, 47] | [21, 47, 47, 47, 47]\n",
            "10/1000 (1.00%)\n"
          ]
        }
      ]
    },
    {
      "cell_type": "code",
      "source": [
        "other_tests = next(train_gen)\n",
        "predictions = model(other_tests).argmax(dim=-1)[:,LIST_LENGTH+1:-1]"
      ],
      "metadata": {
        "id": "KpFNjBmXkIPS"
      },
      "execution_count": null,
      "outputs": []
    },
    {
      "cell_type": "code",
      "source": [
        "for x,y in zip(other_tests, predictions):\n",
        "  incorrect = (x[LIST_LENGTH+2:] != y).prod()\n",
        "  print(f\"{x} | {y}{' Incorrect!' if incorrect else ''}\")"
      ],
      "metadata": {
        "colab": {
          "base_uri": "https://localhost:8080/"
        },
        "id": "dfXeWxqhkd-q",
        "outputId": "4cfc751d-0f5c-4fcb-dcfe-c64189a5ac0f"
      },
      "execution_count": null,
      "outputs": [
        {
          "output_type": "stream",
          "name": "stdout",
          "text": [
            "tensor([64, 39, 37, 15, 10, 46, 65, 10, 15, 37, 39, 46]) | tensor([10, 15, 37, 39, 46])\n",
            "tensor([64, 51, 27, 55,  5, 52, 65,  5, 27, 51, 52, 55]) | tensor([ 5, 27, 51, 52, 55])\n",
            "tensor([64,  8, 51, 40, 47, 18, 65,  8, 18, 40, 47, 51]) | tensor([ 8, 18, 40, 47, 51])\n",
            "tensor([64, 18, 48,  5, 39,  0, 65,  0,  5, 18, 39, 48]) | tensor([ 0,  5, 18, 39, 48])\n",
            "tensor([64, 27, 10, 47,  6, 27, 65,  6, 10, 27, 27, 47]) | tensor([ 6, 10, 27, 27, 47])\n",
            "tensor([64, 14, 58, 35, 40, 35, 65, 14, 35, 35, 40, 58]) | tensor([14, 35, 35, 40, 58])\n",
            "tensor([64, 20, 12, 25, 44, 25, 65, 12, 20, 25, 25, 44]) | tensor([12, 20, 25, 25, 44])\n",
            "tensor([64,  2,  0, 46, 45, 13, 65,  0,  2, 13, 45, 46]) | tensor([ 0,  2, 13, 45, 46])\n",
            "tensor([64, 42, 44,  0, 23, 28, 65,  0, 23, 28, 42, 44]) | tensor([ 0, 23, 28, 42, 44])\n",
            "tensor([64, 22, 47, 19, 32, 55, 65, 19, 22, 32, 47, 55]) | tensor([19, 22, 32, 47, 55])\n",
            "tensor([64, 54, 57, 62, 35, 23, 65, 23, 35, 54, 57, 62]) | tensor([23, 35, 54, 57, 62])\n",
            "tensor([64, 26, 42,  2,  0, 33, 65,  0,  2, 26, 33, 42]) | tensor([ 0,  2, 26, 33, 42])\n",
            "tensor([64, 37,  1, 37, 26, 13, 65,  1, 13, 26, 37, 37]) | tensor([ 1, 13, 26, 37, 37])\n",
            "tensor([64, 22, 60, 62, 55, 22, 65, 22, 22, 55, 60, 62]) | tensor([22, 22, 55, 60, 62])\n",
            "tensor([64, 31, 45, 27,  8, 10, 65,  8, 10, 27, 31, 45]) | tensor([ 8, 10, 27, 31, 45])\n",
            "tensor([64, 54, 19, 43,  1, 30, 65,  1, 19, 30, 43, 54]) | tensor([ 1, 19, 30, 43, 54])\n",
            "tensor([64, 57, 46, 49, 44, 41, 65, 41, 44, 46, 49, 57]) | tensor([41, 44, 46, 49, 57])\n",
            "tensor([64, 55, 39,  6, 13, 35, 65,  6, 13, 35, 39, 55]) | tensor([ 6, 13, 35, 39, 55])\n",
            "tensor([64, 10,  4, 60, 21, 28, 65,  4, 10, 21, 28, 60]) | tensor([ 4, 10, 21, 28, 60])\n",
            "tensor([64, 52,  1, 16, 20, 59, 65,  1, 16, 20, 52, 59]) | tensor([ 1, 16, 20, 52, 59])\n",
            "tensor([64, 34, 23, 18, 22, 59, 65, 18, 22, 23, 34, 59]) | tensor([18, 22, 23, 34, 59])\n",
            "tensor([64, 13,  2, 30, 25,  4, 65,  2,  4, 13, 25, 30]) | tensor([ 2,  4, 13, 25, 30])\n",
            "tensor([64, 19, 26, 16, 16,  1, 65,  1, 16, 16, 19, 26]) | tensor([ 1, 16, 19, 19, 26])\n",
            "tensor([64, 26, 39, 29, 39, 28, 65, 26, 28, 29, 39, 39]) | tensor([26, 28, 29, 39, 39])\n",
            "tensor([64, 15, 37, 57, 18, 33, 65, 15, 18, 33, 37, 57]) | tensor([15, 18, 33, 37, 57])\n",
            "tensor([64, 59, 59, 18, 42, 59, 65, 18, 42, 59, 59, 59]) | tensor([18, 42, 59, 59, 59])\n",
            "tensor([64, 31, 25, 32,  8, 46, 65,  8, 25, 31, 32, 46]) | tensor([ 8, 25, 31, 32, 46])\n",
            "tensor([64, 39, 41,  4, 26, 53, 65,  4, 26, 39, 41, 53]) | tensor([ 4, 26, 39, 41, 53])\n",
            "tensor([64, 60,  2, 39, 12, 30, 65,  2, 12, 30, 39, 60]) | tensor([ 2, 12, 30, 39, 60])\n",
            "tensor([64, 58, 16, 10, 45, 44, 65, 10, 16, 44, 45, 58]) | tensor([10, 16, 44, 45, 58])\n",
            "tensor([64, 25, 62, 29, 58, 51, 65, 25, 29, 51, 58, 62]) | tensor([25, 29, 51, 58, 62])\n",
            "tensor([64, 60, 14, 21, 54, 55, 65, 14, 21, 54, 55, 60]) | tensor([14, 21, 54, 55, 60])\n",
            "tensor([64, 18, 11, 29, 11,  5, 65,  5, 11, 11, 18, 29]) | tensor([ 5, 11, 11, 18, 29])\n",
            "tensor([64, 24, 46,  7,  5, 35, 65,  5,  7, 24, 35, 46]) | tensor([ 5,  7, 24, 35, 46])\n",
            "tensor([64, 18, 32, 52,  1, 20, 65,  1, 18, 20, 32, 52]) | tensor([ 1, 18, 20, 32, 52])\n",
            "tensor([64, 47,  9, 35, 12, 45, 65,  9, 12, 35, 45, 47]) | tensor([ 9, 12, 35, 45, 47])\n",
            "tensor([64, 47, 62, 40,  9,  6, 65,  6,  9, 40, 47, 62]) | tensor([ 6,  9, 40, 47, 62])\n",
            "tensor([64, 60, 31,  6, 52, 43, 65,  6, 31, 43, 52, 60]) | tensor([ 6, 31, 43, 52, 60])\n",
            "tensor([64, 42, 13, 18, 21, 59, 65, 13, 18, 21, 42, 59]) | tensor([13, 18, 21, 42, 59])\n",
            "tensor([64, 32, 32, 59,  0, 28, 65,  0, 28, 32, 32, 59]) | tensor([ 0, 28, 32, 32, 59])\n",
            "tensor([64, 63, 48, 10, 51, 27, 65, 10, 27, 48, 51, 63]) | tensor([10, 27, 48, 51, 63])\n",
            "tensor([64, 35,  5,  6, 46,  8, 65,  5,  6,  8, 35, 46]) | tensor([ 5,  6,  8, 35, 46])\n",
            "tensor([64, 23, 61, 53, 58, 34, 65, 23, 34, 53, 58, 61]) | tensor([23, 34, 53, 58, 61])\n",
            "tensor([64,  0, 29, 14, 48, 18, 65,  0, 14, 18, 29, 48]) | tensor([ 0, 14, 18, 29, 48])\n",
            "tensor([64, 14, 29,  8, 20,  5, 65,  5,  8, 14, 20, 29]) | tensor([ 5,  8, 14, 20, 29])\n",
            "tensor([64, 11, 62,  1,  3, 13, 65,  1,  3, 11, 13, 62]) | tensor([ 1,  3, 11, 13, 62])\n",
            "tensor([64, 62, 31, 40, 28, 18, 65, 18, 28, 31, 40, 62]) | tensor([18, 28, 31, 40, 62])\n",
            "tensor([64,  1, 14, 39, 52, 46, 65,  1, 14, 39, 46, 52]) | tensor([ 1, 14, 39, 46, 52])\n",
            "tensor([64,  2, 54, 44,  5, 50, 65,  2,  5, 44, 50, 54]) | tensor([ 2,  5, 44, 50, 54])\n",
            "tensor([64, 34,  8,  0, 63, 32, 65,  0,  8, 32, 34, 63]) | tensor([ 0,  8, 32, 34, 63])\n",
            "tensor([64, 30, 41, 31, 47, 59, 65, 30, 31, 41, 47, 59]) | tensor([30, 31, 41, 47, 59])\n",
            "tensor([64, 10, 16, 40, 62, 39, 65, 10, 16, 39, 40, 62]) | tensor([10, 16, 39, 40, 62])\n",
            "tensor([64,  8, 61, 16, 58,  2, 65,  2,  8, 16, 58, 61]) | tensor([ 2,  8, 16, 58, 61])\n",
            "tensor([64,  5, 47, 43, 33, 61, 65,  5, 33, 43, 47, 61]) | tensor([ 5, 33, 43, 47, 61])\n",
            "tensor([64, 47, 27, 27, 31,  3, 65,  3, 27, 27, 31, 47]) | tensor([ 3, 27, 27, 31, 47])\n",
            "tensor([64,  3, 29, 58, 54, 52, 65,  3, 29, 52, 54, 58]) | tensor([ 3, 29, 52, 54, 58])\n",
            "tensor([64, 45, 33,  7, 38, 42, 65,  7, 33, 38, 42, 45]) | tensor([ 7, 33, 38, 42, 45])\n",
            "tensor([64, 32, 53, 45, 39, 41, 65, 32, 39, 41, 45, 53]) | tensor([32, 39, 41, 45, 53])\n",
            "tensor([64, 39,  3, 33, 42, 39, 65,  3, 33, 39, 39, 42]) | tensor([ 3, 33, 39, 39, 42])\n",
            "tensor([64, 50, 45, 14, 47, 10, 65, 10, 14, 45, 47, 50]) | tensor([10, 14, 45, 47, 50])\n",
            "tensor([64, 33,  9, 38, 55, 40, 65,  9, 33, 38, 40, 55]) | tensor([ 9, 33, 38, 40, 55])\n",
            "tensor([64, 31, 41, 18, 22,  4, 65,  4, 18, 22, 31, 41]) | tensor([ 4, 18, 22, 31, 41])\n",
            "tensor([64, 22, 22, 55, 59, 48, 65, 22, 22, 48, 55, 59]) | tensor([22, 22, 48, 55, 59])\n",
            "tensor([64, 13, 55, 38, 22, 46, 65, 13, 22, 38, 46, 55]) | tensor([13, 22, 38, 46, 55])\n",
            "tensor([64, 37, 44,  3, 56, 10, 65,  3, 10, 37, 44, 56]) | tensor([ 3, 10, 37, 44, 56])\n",
            "tensor([64,  9, 59,  8, 49, 61, 65,  8,  9, 49, 59, 61]) | tensor([ 8,  9, 49, 59, 61])\n",
            "tensor([64,  2,  3, 50, 46, 26, 65,  2,  3, 26, 46, 50]) | tensor([ 2,  3, 26, 46, 50])\n",
            "tensor([64,  7, 35, 13, 53, 50, 65,  7, 13, 35, 50, 53]) | tensor([ 7, 13, 35, 50, 53])\n",
            "tensor([64, 44,  1, 25,  0, 50, 65,  0,  1, 25, 44, 50]) | tensor([ 0,  1, 25, 44, 50])\n",
            "tensor([64, 45, 36, 44, 18, 53, 65, 18, 36, 44, 45, 53]) | tensor([18, 36, 44, 45, 53])\n",
            "tensor([64, 26, 61, 56, 20, 53, 65, 20, 26, 53, 56, 61]) | tensor([20, 26, 53, 56, 61])\n",
            "tensor([64, 22,  1, 41,  2, 22, 65,  1,  2, 22, 22, 41]) | tensor([ 1,  2, 22, 22, 41])\n",
            "tensor([64, 11, 39, 48, 47, 22, 65, 11, 22, 39, 47, 48]) | tensor([11, 22, 39, 47, 48])\n",
            "tensor([64, 15, 33, 22, 14, 47, 65, 14, 15, 22, 33, 47]) | tensor([14, 15, 22, 33, 47])\n",
            "tensor([64, 19, 30, 59, 31, 23, 65, 19, 23, 30, 31, 59]) | tensor([19, 23, 30, 31, 59])\n",
            "tensor([64,  9, 21, 38, 20,  5, 65,  5,  9, 20, 21, 38]) | tensor([ 5,  9, 20, 21, 38])\n",
            "tensor([64, 63, 42, 19, 25, 49, 65, 19, 25, 42, 49, 63]) | tensor([19, 25, 42, 49, 63])\n",
            "tensor([64, 56,  6, 18, 39, 43, 65,  6, 18, 39, 43, 56]) | tensor([ 6, 18, 39, 43, 56])\n",
            "tensor([64, 55, 18,  7, 52,  7, 65,  7,  7, 18, 52, 55]) | tensor([ 7,  7, 18, 52, 55])\n",
            "tensor([64, 59, 57, 35, 48,  0, 65,  0, 35, 48, 57, 59]) | tensor([ 0, 35, 48, 57, 59])\n",
            "tensor([64, 38, 41, 27,  8, 35, 65,  8, 27, 35, 38, 41]) | tensor([ 8, 27, 35, 38, 41])\n",
            "tensor([64, 36, 53, 44, 16, 30, 65, 16, 30, 36, 44, 53]) | tensor([16, 30, 36, 44, 53])\n",
            "tensor([64, 35, 55, 23, 40, 18, 65, 18, 23, 35, 40, 55]) | tensor([18, 23, 35, 40, 55])\n",
            "tensor([64, 42, 47, 34,  4, 13, 65,  4, 13, 34, 42, 47]) | tensor([ 4, 13, 34, 42, 47])\n",
            "tensor([64, 16, 60,  3,  5, 17, 65,  3,  5, 16, 17, 60]) | tensor([ 3,  5, 16, 17, 60])\n",
            "tensor([64, 10,  2, 63, 40, 11, 65,  2, 10, 11, 40, 63]) | tensor([ 2, 10, 11, 40, 63])\n",
            "tensor([64, 54, 15,  7, 22, 13, 65,  7, 13, 15, 22, 54]) | tensor([ 7, 13, 15, 22, 54])\n",
            "tensor([64, 40, 49, 43, 52,  5, 65,  5, 40, 43, 49, 52]) | tensor([ 5, 40, 43, 49, 52])\n",
            "tensor([64, 47, 30, 28, 37, 46, 65, 28, 30, 37, 46, 47]) | tensor([28, 30, 37, 46, 47])\n",
            "tensor([64, 15, 14, 52, 23, 57, 65, 14, 15, 23, 52, 57]) | tensor([14, 15, 23, 52, 57])\n",
            "tensor([64,  0, 18,  4, 30,  3, 65,  0,  3,  4, 18, 30]) | tensor([ 0,  3,  4, 18, 30])\n",
            "tensor([64, 12, 44,  0, 44, 54, 65,  0, 12, 44, 44, 54]) | tensor([ 0, 12, 44, 44, 54])\n",
            "tensor([64, 27, 44, 43, 45, 53, 65, 27, 43, 44, 45, 53]) | tensor([27, 43, 44, 45, 53])\n",
            "tensor([64, 19, 58, 39, 10, 54, 65, 10, 19, 39, 54, 58]) | tensor([10, 19, 39, 54, 58])\n",
            "tensor([64, 60,  6, 13, 37,  0, 65,  0,  6, 13, 37, 60]) | tensor([ 0,  6, 13, 37, 60])\n",
            "tensor([64, 63, 46, 29, 25, 61, 65, 25, 29, 46, 61, 63]) | tensor([25, 29, 46, 61, 63])\n",
            "tensor([64,  1, 49, 55, 51, 29, 65,  1, 29, 49, 51, 55]) | tensor([ 1, 29, 49, 51, 55])\n",
            "tensor([64, 35, 25, 44, 53, 10, 65, 10, 25, 35, 44, 53]) | tensor([10, 25, 35, 44, 53])\n",
            "tensor([64, 18, 21, 40, 27, 59, 65, 18, 21, 27, 40, 59]) | tensor([18, 21, 27, 40, 59])\n",
            "tensor([64, 55, 24, 52, 33,  2, 65,  2, 24, 33, 52, 55]) | tensor([ 2, 24, 33, 52, 55])\n",
            "tensor([64, 54, 42, 12, 34, 24, 65, 12, 24, 34, 42, 54]) | tensor([12, 24, 34, 42, 54])\n",
            "tensor([64, 51,  7, 24, 52, 34, 65,  7, 24, 34, 51, 52]) | tensor([ 7, 24, 34, 51, 52])\n",
            "tensor([64, 10, 31, 43, 60, 56, 65, 10, 31, 43, 56, 60]) | tensor([10, 31, 43, 56, 60])\n",
            "tensor([64, 40, 13, 28, 22, 25, 65, 13, 22, 25, 28, 40]) | tensor([13, 22, 25, 28, 40])\n",
            "tensor([64, 17, 50, 53, 47, 58, 65, 17, 47, 50, 53, 58]) | tensor([17, 47, 50, 53, 58])\n",
            "tensor([64, 45, 51, 10, 47, 61, 65, 10, 45, 47, 51, 61]) | tensor([10, 45, 47, 51, 61])\n",
            "tensor([64, 34, 32,  8,  7, 28, 65,  7,  8, 28, 32, 34]) | tensor([ 7,  8, 28, 32, 34])\n",
            "tensor([64, 21, 45, 28, 42, 47, 65, 21, 28, 42, 45, 47]) | tensor([21, 28, 42, 45, 47])\n",
            "tensor([64, 34, 15,  2, 39, 11, 65,  2, 11, 15, 34, 39]) | tensor([ 2, 11, 15, 34, 39])\n",
            "tensor([64,  0, 15, 32, 59, 29, 65,  0, 15, 29, 32, 59]) | tensor([ 0, 15, 29, 32, 59])\n",
            "tensor([64, 18, 30,  9, 54, 43, 65,  9, 18, 30, 43, 54]) | tensor([ 9, 18, 30, 43, 54])\n",
            "tensor([64,  9, 32, 24, 59, 20, 65,  9, 20, 24, 32, 59]) | tensor([ 9, 20, 24, 32, 59])\n",
            "tensor([64, 47, 21, 47, 51, 55, 65, 21, 47, 47, 51, 55]) | tensor([21, 47, 47, 51, 55])\n",
            "tensor([64,  1,  8, 51, 32, 31, 65,  1,  8, 31, 32, 51]) | tensor([ 1,  8, 31, 32, 51])\n",
            "tensor([64, 13, 63, 54, 38,  1, 65,  1, 13, 38, 54, 63]) | tensor([ 1, 13, 38, 54, 63])\n",
            "tensor([64, 51, 54, 53, 28, 26, 65, 26, 28, 51, 53, 54]) | tensor([26, 28, 51, 53, 54])\n",
            "tensor([64, 13, 60, 61, 21, 11, 65, 11, 13, 21, 60, 61]) | tensor([11, 13, 21, 60, 61])\n",
            "tensor([64, 49, 45, 44, 13,  2, 65,  2, 13, 44, 45, 49]) | tensor([ 2, 13, 44, 45, 49])\n",
            "tensor([64, 14,  9,  5, 57, 51, 65,  5,  9, 14, 51, 57]) | tensor([ 5,  9, 14, 51, 57])\n",
            "tensor([64, 11, 58, 25, 57, 50, 65, 11, 25, 50, 57, 58]) | tensor([11, 25, 50, 57, 58])\n",
            "tensor([64,  8, 11, 45, 20, 50, 65,  8, 11, 20, 45, 50]) | tensor([ 8, 11, 20, 45, 50])\n",
            "tensor([64,  6, 41, 32, 21, 56, 65,  6, 21, 32, 41, 56]) | tensor([ 6, 21, 32, 41, 56])\n",
            "tensor([64, 13, 40, 35, 44, 52, 65, 13, 35, 40, 44, 52]) | tensor([13, 35, 40, 44, 52])\n",
            "tensor([64, 40, 38, 28, 20, 34, 65, 20, 28, 34, 38, 40]) | tensor([20, 28, 34, 38, 40])\n",
            "tensor([64,  5, 55, 42, 31, 23, 65,  5, 23, 31, 42, 55]) | tensor([ 5, 23, 31, 42, 55])\n",
            "tensor([64, 55, 50, 23, 57,  4, 65,  4, 23, 50, 55, 57]) | tensor([ 4, 23, 50, 55, 57])\n",
            "tensor([64,  6, 61, 20, 55, 39, 65,  6, 20, 39, 55, 61]) | tensor([ 6, 20, 39, 55, 61])\n",
            "tensor([64, 63, 61, 33, 45, 33, 65, 33, 33, 45, 61, 63]) | tensor([33, 33, 45, 61, 63])\n"
          ]
        }
      ]
    },
    {
      "cell_type": "markdown",
      "source": [
        "## Saving trained model"
      ],
      "metadata": {
        "id": "pNofXtfSQvh2"
      }
    },
    {
      "cell_type": "code",
      "source": [
        "def make_timestamp() -> str:\n",
        "    return dt.now().isoformat(\"T\", \"minutes\").replace(\":\", \"-\")\n",
        "\n",
        "if not os.path.isdir(\"models\"):\n",
        "    os.mkdir(\"models\")\n",
        "\n",
        "fname = f\"model_state_dict_{make_timestamp()}.pkl\"\n",
        "\n",
        "with open(\"models/\" + fname, \"wb\") as f:\n",
        "    pickle.dump(model.state_dict(), f)"
      ],
      "metadata": {
        "id": "i9lLO9p1d8mC"
      },
      "execution_count": null,
      "outputs": []
    },
    {
      "cell_type": "markdown",
      "source": [
        "## Interior of the model"
      ],
      "metadata": {
        "id": "WBmA4marmvzy"
      }
    },
    {
      "cell_type": "code",
      "source": [
        "def observing_test(list_to_order: list[int]):\n",
        "  input = tensor([64] + list_to_order + [65] + sorted(list_to_order))\n",
        "  logits, cache_model = model.run_with_cache(input, remove_batch_dim=True) \n",
        "  preds = logits[:,LIST_LENGTH+1:-1].argmax(-1)[0]\n",
        "  attention_pattern = cache_model[\"pattern\", 0, \"attn\"]\n",
        "  tokens_input = list(map(str,list(input)))\n",
        "  print(str(list_to_order) + \" -> \" + str(sorted(list_to_order)))\n",
        "  print(\"prediction: \", preds.tolist())\n",
        "  print(\"Correct\" if (preds.tolist() == sorted(list_to_order)) else \"Incorrect\")\n",
        "  return tokens_input, attention_pattern"
      ],
      "metadata": {
        "id": "YO1-8HZKqAWE"
      },
      "execution_count": null,
      "outputs": []
    },
    {
      "cell_type": "code",
      "source": [
        "tok, att = observing_test([5, 1, 2, 5, 50])\n",
        "cv.attention.attention_patterns(tokens=tok, attention=att)"
      ],
      "metadata": {
        "colab": {
          "base_uri": "https://localhost:8080/",
          "height": 410
        },
        "id": "FTnl0kYRrzqG",
        "outputId": "400705ce-f718-4450-8dec-43fcc4e57705"
      },
      "execution_count": null,
      "outputs": [
        {
          "output_type": "stream",
          "name": "stdout",
          "text": [
            "[5, 1, 2, 5, 50] -> [1, 2, 5, 5, 50]\n",
            "prediction:  [1, 2, 5, 5, 50]\n",
            "Correct\n"
          ]
        },
        {
          "output_type": "execute_result",
          "data": {
            "text/plain": [
              "<circuitsvis.utils.render.RenderedHTML at 0x7f2a79849460>"
            ],
            "text/html": [
              "<div id=\"circuits-vis-c6f6f597-4f72\" style=\"margin: 15px 0;\"/>\n",
              "    <script crossorigin type=\"module\">\n",
              "    import { render, AttentionPatterns } from \"https://unpkg.com/circuitsvis@1.38.1/dist/cdn/esm.js\";\n",
              "    render(\n",
              "      \"circuits-vis-c6f6f597-4f72\",\n",
              "      AttentionPatterns,\n",
              "      {\"tokens\": [\"tensor(64)\", \"tensor(5)\", \"tensor(1)\", \"tensor(2)\", \"tensor(5)\", \"tensor(50)\", \"tensor(65)\", \"tensor(1)\", \"tensor(2)\", \"tensor(5)\", \"tensor(5)\", \"tensor(50)\"], \"attention\": [[[1.0, 0.0, 0.0, 0.0, 0.0, 0.0, 0.0, 0.0, 0.0, 0.0, 0.0, 0.0], [0.8382039070129395, 0.16179610788822174, 0.0, 0.0, 0.0, 0.0, 0.0, 0.0, 0.0, 0.0, 0.0, 0.0], [0.773255467414856, 0.14419499039649963, 0.08254953473806381, 0.0, 0.0, 0.0, 0.0, 0.0, 0.0, 0.0, 0.0, 0.0], [0.5638338327407837, 0.20928256213665009, 0.13035672903060913, 0.0965268537402153, 0.0, 0.0, 0.0, 0.0, 0.0, 0.0, 0.0, 0.0], [0.6262611746788025, 0.07357944548130035, 0.12023221701383591, 0.10541816055774689, 0.07450903207063675, 0.0, 0.0, 0.0, 0.0, 0.0, 0.0, 0.0], [0.10146607458591461, 0.13826629519462585, 0.08890961855649948, 0.114606112241745, 0.14133712649345398, 0.41541483998298645, 0.0, 0.0, 0.0, 0.0, 0.0, 0.0], [0.0007105127442628145, 0.09431827068328857, 0.5149751305580139, 0.29864636063575745, 0.09014517068862915, 0.0005694014253094792, 0.0006351416814140975, 0.0, 0.0, 0.0, 0.0, 0.0], [0.1182774230837822, 0.22066278755664825, 0.11233830451965332, 0.2321786731481552, 0.21666035056114197, 0.04108854755759239, 0.04022401198744774, 0.018570007756352425, 0.0, 0.0, 0.0, 0.0], [0.14591769874095917, 0.2173355221748352, 0.09732086211442947, 0.09929539263248444, 0.21572092175483704, 0.10168793797492981, 0.08198609948158264, 0.015247968956828117, 0.025487588718533516, 0.0, 0.0, 0.0], [0.19498471915721893, 0.1027107685804367, 0.08727859705686569, 0.09168237447738647, 0.10221045464277267, 0.2315419614315033, 0.14766228199005127, 0.009907938539981842, 0.013628869317471981, 0.018391983583569527, 0.0, 0.0], [0.09206033498048782, 0.032383304089307785, 0.03364928066730499, 0.03607965260744095, 0.03226713091135025, 0.5502167344093323, 0.20826761424541473, 0.0043559568002820015, 0.0031243162229657173, 0.0027121177408844233, 0.0048834835179150105, 0.0], [0.01966678909957409, 0.06247618421912193, 0.04660862684249878, 0.05291873589158058, 0.06339141726493835, 0.3128608465194702, 0.29621943831443787, 0.016277389600872993, 0.010404075495898724, 0.007963481359183788, 0.007384142838418484, 0.1038288027048111]]]}\n",
              "    )\n",
              "    </script>"
            ]
          },
          "metadata": {},
          "execution_count": 82
        }
      ]
    },
    {
      "cell_type": "code",
      "source": [
        "tok, att = observing_test([30, 30, 3, 2, 1])\n",
        "cv.attention.attention_patterns(tokens=tok, attention=att)"
      ],
      "metadata": {
        "colab": {
          "base_uri": "https://localhost:8080/",
          "height": 410
        },
        "id": "TjOgtFPUolbM",
        "outputId": "7d675c11-f05b-43a2-9823-4018081dbb60"
      },
      "execution_count": null,
      "outputs": [
        {
          "output_type": "stream",
          "name": "stdout",
          "text": [
            "[30, 30, 3, 2, 1] -> [1, 2, 3, 30, 30]\n",
            "prediction:  [1, 2, 3, 30, 30]\n",
            "Correct\n"
          ]
        },
        {
          "output_type": "execute_result",
          "data": {
            "text/plain": [
              "<circuitsvis.utils.render.RenderedHTML at 0x7f2a798a9250>"
            ],
            "text/html": [
              "<div id=\"circuits-vis-666bbfe0-61d9\" style=\"margin: 15px 0;\"/>\n",
              "    <script crossorigin type=\"module\">\n",
              "    import { render, AttentionPatterns } from \"https://unpkg.com/circuitsvis@1.38.1/dist/cdn/esm.js\";\n",
              "    render(\n",
              "      \"circuits-vis-666bbfe0-61d9\",\n",
              "      AttentionPatterns,\n",
              "      {\"tokens\": [\"tensor(64)\", \"tensor(30)\", \"tensor(30)\", \"tensor(3)\", \"tensor(2)\", \"tensor(1)\", \"tensor(65)\", \"tensor(1)\", \"tensor(2)\", \"tensor(3)\", \"tensor(30)\", \"tensor(30)\"], \"attention\": [[[1.0, 0.0, 0.0, 0.0, 0.0, 0.0, 0.0, 0.0, 0.0, 0.0, 0.0, 0.0], [0.07447192817926407, 0.9255281090736389, 0.0, 0.0, 0.0, 0.0, 0.0, 0.0, 0.0, 0.0, 0.0, 0.0], [0.09292228519916534, 0.455316424369812, 0.4517611861228943, 0.0, 0.0, 0.0, 0.0, 0.0, 0.0, 0.0, 0.0, 0.0], [0.7083879113197327, 0.09359297901391983, 0.09579221904277802, 0.10222689807415009, 0.0, 0.0, 0.0, 0.0, 0.0, 0.0, 0.0, 0.0], [0.569575846195221, 0.03816564381122589, 0.03890179842710495, 0.2809006869792938, 0.07245602458715439, 0.0, 0.0, 0.0, 0.0, 0.0, 0.0, 0.0], [0.6046651601791382, 0.010913250967860222, 0.010601673275232315, 0.1855587661266327, 0.1408226042985916, 0.04743852838873863, 0.0, 0.0, 0.0, 0.0, 0.0, 0.0], [0.0007013861322775483, 0.002829322125762701, 0.0028275297954678535, 0.1854015737771988, 0.3073415160179138, 0.5002716779708862, 0.0006269826553761959, 0.0, 0.0, 0.0, 0.0, 0.0], [0.13320349156856537, 0.07553618401288986, 0.07460883259773254, 0.25836843252182007, 0.26382115483283997, 0.1282484382390976, 0.04530009627342224, 0.02091345377266407, 0.0, 0.0, 0.0, 0.0], [0.15510746836662292, 0.1352507770061493, 0.13774429261684418, 0.23551803827285767, 0.10444356501102448, 0.10148532688617706, 0.08714950829744339, 0.01620827242732048, 0.02709277532994747, 0.0, 0.0, 0.0], [0.23137980699539185, 0.16495056450366974, 0.167533278465271, 0.09295284003019333, 0.09067345410585403, 0.08197095990180969, 0.12199366092681885, 0.011238438077270985, 0.01709647662937641, 0.020210497081279755, 0.0, 0.0], [0.003112498205155134, 0.27069228887557983, 0.26749110221862793, 0.010839143767952919, 0.011552389711141586, 0.007451901212334633, 0.4183274507522583, 0.00033916367101483047, 0.0001604139688424766, 0.00011364703823346645, 0.009919943287968636, 0.0], [0.018367409706115723, 0.22732113301753998, 0.2285696119070053, 0.0417330302298069, 0.05514904856681824, 0.054067354649305344, 0.17595310509204865, 0.014264988712966442, 0.010625232011079788, 0.008073308505117893, 0.09771119803190231, 0.06816458702087402]]]}\n",
              "    )\n",
              "    </script>"
            ]
          },
          "metadata": {},
          "execution_count": 83
        }
      ]
    },
    {
      "cell_type": "code",
      "source": [
        "tok, att = observing_test([1, 1, 2, 1, 1])\n",
        "cv.attention.attention_patterns(tokens=tok, attention=att)"
      ],
      "metadata": {
        "colab": {
          "base_uri": "https://localhost:8080/",
          "height": 410
        },
        "id": "1epYfMz5nyHr",
        "outputId": "4bd5c1cf-32b5-48e0-ad36-aec4e81071e3"
      },
      "execution_count": null,
      "outputs": [
        {
          "output_type": "stream",
          "name": "stdout",
          "text": [
            "[1, 1, 2, 1, 1] -> [1, 1, 1, 1, 2]\n",
            "prediction:  [1, 1, 1, 1, 2]\n",
            "Correct\n"
          ]
        },
        {
          "output_type": "execute_result",
          "data": {
            "text/plain": [
              "<circuitsvis.utils.render.RenderedHTML at 0x7f2a798494f0>"
            ],
            "text/html": [
              "<div id=\"circuits-vis-53f2cbe6-e5c2\" style=\"margin: 15px 0;\"/>\n",
              "    <script crossorigin type=\"module\">\n",
              "    import { render, AttentionPatterns } from \"https://unpkg.com/circuitsvis@1.38.1/dist/cdn/esm.js\";\n",
              "    render(\n",
              "      \"circuits-vis-53f2cbe6-e5c2\",\n",
              "      AttentionPatterns,\n",
              "      {\"tokens\": [\"tensor(64)\", \"tensor(1)\", \"tensor(1)\", \"tensor(2)\", \"tensor(1)\", \"tensor(1)\", \"tensor(65)\", \"tensor(1)\", \"tensor(1)\", \"tensor(1)\", \"tensor(1)\", \"tensor(2)\"], \"attention\": [[[1.0, 0.0, 0.0, 0.0, 0.0, 0.0, 0.0, 0.0, 0.0, 0.0, 0.0, 0.0], [0.8848952651023865, 0.11510473489761353, 0.0, 0.0, 0.0, 0.0, 0.0, 0.0, 0.0, 0.0, 0.0, 0.0], [0.8215433955192566, 0.0907520055770874, 0.08770455420017242, 0.0, 0.0, 0.0, 0.0, 0.0, 0.0, 0.0, 0.0, 0.0], [0.6147310733795166, 0.1379045695066452, 0.1421240270137787, 0.10524032264947891, 0.0, 0.0, 0.0, 0.0, 0.0, 0.0, 0.0, 0.0], [0.6184172034263611, 0.06046104058623314, 0.058149490505456924, 0.2022964507341385, 0.060675833374261856, 0.0, 0.0, 0.0, 0.0, 0.0, 0.0, 0.0], [0.6475939154624939, 0.051111117005348206, 0.04944844916462898, 0.14967003464698792, 0.051370080560445786, 0.05080647021532059, 0.0, 0.0, 0.0, 0.0, 0.0, 0.0], [0.00030587069340981543, 0.21223042905330658, 0.22169312834739685, 0.12856513261795044, 0.21876612305641174, 0.21816587448120117, 0.0002734239969868213, 0.0, 0.0, 0.0, 0.0, 0.0], [0.13722705841064453, 0.13144280016422272, 0.13033640384674072, 0.26937681436538696, 0.13128095865249634, 0.13212233781814575, 0.046668440103530884, 0.0215451717376709, 0.0, 0.0, 0.0, 0.0], [0.19046977162361145, 0.10696393996477127, 0.10538390278816223, 0.24696654081344604, 0.10633781552314758, 0.10723406076431274, 0.08729401230812073, 0.018218059092760086, 0.03113190457224846, 0.0, 0.0, 0.0], [0.2489963173866272, 0.08018124848604202, 0.07830780744552612, 0.2126697450876236, 0.07928919047117233, 0.08020181953907013, 0.13290022313594818, 0.020594364032149315, 0.028527067974209785, 0.03833219036459923, 0.0, 0.0], [0.22566641867160797, 0.05045109614729881, 0.04813992977142334, 0.18867942690849304, 0.04923884943127632, 0.05012933164834976, 0.32928773760795593, 0.01820654794573784, 0.013322392478585243, 0.013742479495704174, 0.013135726563632488, 0.0], [0.14008665084838867, 0.054327379912137985, 0.05666128918528557, 0.036761291325092316, 0.055329449474811554, 0.05467693507671356, 0.02396843209862709, 0.0982283279299736, 0.12856601178646088, 0.11964790523052216, 0.15073537826538086, 0.08101096749305725]]]}\n",
              "    )\n",
              "    </script>"
            ]
          },
          "metadata": {},
          "execution_count": 84
        }
      ]
    },
    {
      "cell_type": "code",
      "source": [
        "tok, att = observing_test([60, 50, 50, 50, 50])\n",
        "cv.attention.attention_patterns(tokens=tok, attention=att)"
      ],
      "metadata": {
        "colab": {
          "base_uri": "https://localhost:8080/",
          "height": 410
        },
        "id": "W-lnzPtTojH2",
        "outputId": "5fb99f9e-9d47-465d-fcf7-262c2f6e6c8c"
      },
      "execution_count": null,
      "outputs": [
        {
          "output_type": "stream",
          "name": "stdout",
          "text": [
            "[60, 50, 50, 50, 50] -> [50, 50, 50, 50, 60]\n",
            "prediction:  [50, 50, 50, 50, 60]\n",
            "Correct\n"
          ]
        },
        {
          "output_type": "execute_result",
          "data": {
            "text/plain": [
              "<circuitsvis.utils.render.RenderedHTML at 0x7f2a79921490>"
            ],
            "text/html": [
              "<div id=\"circuits-vis-8a07fcb0-af45\" style=\"margin: 15px 0;\"/>\n",
              "    <script crossorigin type=\"module\">\n",
              "    import { render, AttentionPatterns } from \"https://unpkg.com/circuitsvis@1.38.1/dist/cdn/esm.js\";\n",
              "    render(\n",
              "      \"circuits-vis-8a07fcb0-af45\",\n",
              "      AttentionPatterns,\n",
              "      {\"tokens\": [\"tensor(64)\", \"tensor(60)\", \"tensor(50)\", \"tensor(50)\", \"tensor(50)\", \"tensor(50)\", \"tensor(65)\", \"tensor(50)\", \"tensor(50)\", \"tensor(50)\", \"tensor(50)\", \"tensor(60)\"], \"attention\": [[[1.0, 0.0, 0.0, 0.0, 0.0, 0.0, 0.0, 0.0, 0.0, 0.0, 0.0, 0.0], [0.07057645916938782, 0.9294235706329346, 0.0, 0.0, 0.0, 0.0, 0.0, 0.0, 0.0, 0.0, 0.0, 0.0], [0.0628557950258255, 0.6675413250923157, 0.26960289478302, 0.0, 0.0, 0.0, 0.0, 0.0, 0.0, 0.0, 0.0, 0.0], [0.012198169715702534, 0.6185010671615601, 0.1836027354001999, 0.1856980174779892, 0.0, 0.0, 0.0, 0.0, 0.0, 0.0, 0.0, 0.0], [0.026784783229231834, 0.3870495855808258, 0.1934388279914856, 0.1935984045267105, 0.19912834465503693, 0.0, 0.0, 0.0, 0.0, 0.0, 0.0, 0.0], [0.03671861067414284, 0.36209291219711304, 0.14883273839950562, 0.14961768686771393, 0.15240737795829773, 0.15033058822155, 0.0, 0.0, 0.0, 0.0, 0.0, 0.0], [0.18048568069934845, 0.0777367353439331, 0.1478578746318817, 0.1450396329164505, 0.1429000198841095, 0.14464029669761658, 0.16133973002433777, 0.0, 0.0, 0.0, 0.0, 0.0], [0.021457813680171967, 0.21772395074367523, 0.15920203924179077, 0.15931829810142517, 0.16026148200035095, 0.1606995165348053, 0.11501941084861755, 0.0063173603266477585, 0.0, 0.0, 0.0, 0.0], [0.006868528667837381, 0.2852146327495575, 0.15066389739513397, 0.15113112330436707, 0.1526837944984436, 0.15296441316604614, 0.09579518437385559, 0.002266667317599058, 0.0024117666762322187, 0.0, 0.0, 0.0], [0.002352737123146653, 0.34416288137435913, 0.13961435854434967, 0.14048896729946136, 0.14257697761058807, 0.14285777509212494, 0.08415091037750244, 0.0013086271937936544, 0.0011057438096031547, 0.001381074427627027, 0.0, 0.0], [9.081103780772537e-05, 0.5808804035186768, 0.09376659989356995, 0.09667080640792847, 0.09743533283472061, 0.09765049815177917, 0.032033007591962814, 0.0003113945131190121, 0.00013736153778154403, 0.0001505748077761382, 0.000873201759532094, 0.0], [0.020790278911590576, 0.28669244050979614, 0.07685745507478714, 0.08040913939476013, 0.07909495383501053, 0.08162898570299149, 0.09072937071323395, 0.044835466891527176, 0.03200985863804817, 0.02751428447663784, 0.01526977401226759, 0.16416801512241364]]]}\n",
              "    )\n",
              "    </script>"
            ]
          },
          "metadata": {},
          "execution_count": 86
        }
      ]
    },
    {
      "cell_type": "code",
      "source": [
        "attn = model.blocks[0].attn\n",
        "embedding_numbers = model.embed(tensor(list(range(66))))\n",
        "matrix_key = attn.W_K\n",
        "matrix_query = attn.W_Q\n",
        "keys_numbers = embedding_numbers @ matrix_key\n",
        "queries_numbers = embedding_numbers @ matrix_query"
      ],
      "metadata": {
        "id": "1fU0N_Zo0Lv2"
      },
      "execution_count": null,
      "outputs": []
    },
    {
      "cell_type": "code",
      "source": [
        "plt.rcParams['figure.figsize'] = [20, 10]\n",
        "attention_between_numbers = torch.einsum(\"ijr,ikr->ijk\", queries_numbers, keys_numbers).detach().numpy()[0]\n",
        "heatmap = plt.imshow(attention_between_numbers, cmap='hot', interpolation='nearest')\n",
        "plt.colorbar(heatmap)\n",
        "plt.show()"
      ],
      "metadata": {
        "colab": {
          "base_uri": "https://localhost:8080/",
          "height": 592
        },
        "id": "Itl56nhGw0Lw",
        "outputId": "8cd7ad45-ee65-44a7-8a80-f73ce931543f"
      },
      "execution_count": null,
      "outputs": [
        {
          "output_type": "display_data",
          "data": {
            "text/plain": [
              "<Figure size 1440x720 with 2 Axes>"
            ],
            "image/png": "[encoded data removed]"
          },
          "metadata": {
            "needs_background": "light"
          }
        }
      ]
    },
    {
      "cell_type": "code",
      "source": [
        "mean_diag = attention_between_numbers.diagonal().mean()\n",
        "mean_absolute_diag = np.absolute(attention_between_numbers.diagonal()).mean()\n",
        "print(\"Mean value on the diagonal: \", mean_diag)\n",
        "print(\"Mean absolute value on the diagonal: \", mean_absolute_diag)"
      ],
      "metadata": {
        "colab": {
          "base_uri": "https://localhost:8080/"
        },
        "id": "g24DG1ttt-by",
        "outputId": "203f303a-da14-44de-f28f-3c0dfa4918fc"
      },
      "execution_count": null,
      "outputs": [
        {
          "output_type": "stream",
          "name": "stdout",
          "text": [
            "Mean value on the diagonal:  0.043144636\n",
            "Mean absolute value on the diagonal:  0.055903777\n"
          ]
        }
      ]
    }
  ]
}