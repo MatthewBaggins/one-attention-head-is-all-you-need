{
  "cells": [
    {
      "attachments": {},
      "cell_type": "markdown",
      "metadata": {
        "id": "jKyC3mZ72qlH"
      },
      "source": [
        "# Sorting lists of length 5, with repetition\n",
        "\n",
        "This experiment was based on the [suggestion given by Neel Nanda](https://www.lesswrong.com/s/yivyHaCAmMJ3CqSyj/p/ejtFsvyhRkMofKAFy#Problems)."
      ]
    },
    {
      "cell_type": "markdown",
      "metadata": {
        "id": "PBe5K-JpHXFs"
      },
      "source": [
        "## Variable hyperparameters"
      ]
    },
    {
      "cell_type": "code",
      "execution_count": null,
      "metadata": {
        "id": "httbkgCwHYF4"
      },
      "outputs": [],
      "source": [
        "# Fixed length of list to be sorted\n",
        "LIST_LENGTH = 5\n",
        "\n",
        "# Size of vocabulary\n",
        "D_VOCAB = 66\n",
        "\n",
        "# Should lists have repetitions?\n",
        "ALLOW_REPETITIONS = True\n",
        "\n",
        "# Attention only? (False -> model includes MLPs)\n",
        "ATTN_ONLY = True\n",
        "\n",
        "# Model dimenions\n",
        "N_LAYERS = 1\n",
        "N_HEADS = 1\n",
        "D_MODEL = 128\n",
        "D_HEAD = 32\n",
        "D_MLP = None\n",
        "\n",
        "if ATTN_ONLY:\n",
        "    D_MLP = None\n",
        "\n",
        "# Default batch size\n",
        "DEFAULT_BATCH_SIZE = 32"
      ]
    },
    {
      "cell_type": "markdown",
      "metadata": {
        "id": "7o--LiD_HMGs"
      },
      "source": [
        "## Prelude"
      ]
    },
    {
      "cell_type": "markdown",
      "metadata": {
        "id": "7yjVSLZbEEJX"
      },
      "source": [
        "### Install and import"
      ]
    },
    {
      "cell_type": "code",
      "execution_count": null,
      "metadata": {
        "id": "Wqa5uVY-2oC7"
      },
      "outputs": [],
      "source": [
        "try:\n",
        "    import transformer_lens\n",
        "except:\n",
        "    !pip install git+https://github.com/neelnanda-io/TransformerLens\n",
        "    !pip install circuitsvis"
      ]
    },
    {
      "cell_type": "code",
      "execution_count": null,
      "metadata": {
        "colab": {
          "base_uri": "https://localhost:8080/",
          "height": 64
        },
        "id": "dqFfW5V32yaO",
        "outputId": "323df961-4b90-49e8-8ab8-ef66c85061d1"
      },
      "outputs": [
        {
          "data": {
            "text/html": [
              "<div id=\"circuits-vis-6a46df50-5541\" style=\"margin: 15px 0;\"/>\n",
              "    <script crossorigin type=\"module\">\n",
              "    import { render, Hello } from \"https://unpkg.com/circuitsvis@1.38.1/dist/cdn/esm.js\";\n",
              "    render(\n",
              "      \"circuits-vis-6a46df50-5541\",\n",
              "      Hello,\n",
              "      {\"name\": \"You\"}\n",
              "    )\n",
              "    </script>"
            ],
            "text/plain": [
              "<circuitsvis.utils.render.RenderedHTML at 0x7f66f6215730>"
            ]
          },
          "metadata": {},
          "output_type": "display_data"
        }
      ],
      "source": [
        "from __future__ import annotations\n",
        "from dataclasses import dataclass, field\n",
        "from datetime import datetime as dt\n",
        "from itertools import repeat\n",
        "import os\n",
        "import pickle\n",
        "import random\n",
        "from typing import cast, Generator, Literal\n",
        "\n",
        "import circuitsvis as cv\n",
        "from fancy_einsum import einsum\n",
        "from matplotlib import pyplot as plt\n",
        "import numpy as np\n",
        "import torch\n",
        "from torch import nn, tensor, Tensor, TensorType as TT\n",
        "from torch.nn import functional as F\n",
        "from transformer_lens import HookedTransformerConfig, HookedTransformer\n",
        "from tqdm import tqdm\n",
        "from typing_extensions import Self\n",
        "\n",
        "cv.examples.hello(\"You\")"
      ]
    },
    {
      "cell_type": "markdown",
      "metadata": {
        "id": "Oo4oP4dSrYhD"
      },
      "source": [
        "### Invariable hyperparameters"
      ]
    },
    {
      "cell_type": "code",
      "execution_count": null,
      "metadata": {
        "colab": {
          "base_uri": "https://localhost:8080/"
        },
        "id": "_XwivtyM_Hru",
        "outputId": "253931dc-5c4d-4f11-a4e9-b80730e9372c"
      },
      "outputs": [],
      "source": [
        "DEVICE = \"cuda\" if torch.cuda.is_available() else \"cpu\"\n",
        "print(f\"{DEVICE = }\")\n",
        "\n",
        "# Seeds to generate training, validation, and test data\n",
        "TRAIN_SEED = 42\n",
        "VAL_SEED = 66\n",
        "TEST_SEED = 1729\n",
        "\n",
        "# Context length: [start, *(unsorted_)list_length, mid, *(sorted_)list_length]\n",
        "N_CTX = 2 * LIST_LENGTH + 2\n",
        "\n",
        "# \"Real\" tokens range from 0 to D_VOCAB - 2 (non-inclusive)\n",
        "VOCAB_MIN_ID = 0\n",
        "VOCAB_MAX_ID = D_VOCAB - 2\n",
        "\n",
        "# START token is D_VOCAB - 2 and MID token is D_VOCAB - 1\n",
        "START_TOKEN_ID = VOCAB_MAX_ID\n",
        "MID_TOKEN_ID = D_VOCAB - 1"
      ]
    },
    {
      "cell_type": "markdown",
      "metadata": {
        "id": "dlWGwox63j24"
      },
      "source": [
        "### Data generator and datasets"
      ]
    },
    {
      "cell_type": "code",
      "execution_count": null,
      "metadata": {
        "colab": {
          "base_uri": "https://localhost:8080/"
        },
        "id": "44OZjOq83k1H",
        "outputId": "413c82ad-aa84-42bc-f9ab-fe4c0608481a"
      },
      "outputs": [
        {
          "name": "stdout",
          "output_type": "stream",
          "text": [
            "val_data.shape=torch.Size([1000, 12]); test_data.shape=torch.Size([1000, 12])\n"
          ]
        },
        {
          "data": {
            "text/plain": [
              "(tensor([22, 43, 20,  0,  0, 51, 28, 33, 28, 52, 42, 13]),\n",
              " tensor([64, 37, 63, 51, 58,  3, 65,  3, 37, 51, 58, 63]))"
            ]
          },
          "metadata": {},
          "output_type": "display_data"
        }
      ],
      "source": [
        "def generate_list(batch_size: int) -> Tensor:\n",
        "    if ALLOW_REPETITIONS:\n",
        "        return torch.randint(VOCAB_MIN_ID, VOCAB_MAX_ID, (batch_size, LIST_LENGTH)).to(DEVICE)\n",
        "    return tensor([\n",
        "        random.sample(range(VOCAB_MIN_ID, VOCAB_MAX_ID), k=LIST_LENGTH) \n",
        "        for _ in range(batch_size)\n",
        "    ]).to(DEVICE)\n",
        "\n",
        "# General generator\n",
        "def make_data_gen(\n",
        "    *,\n",
        "    batch_size: int = DEFAULT_BATCH_SIZE,\n",
        "    dataset: Literal[\"train\", \"val\", \"test\"], # probably this arg needs a better name,\n",
        ") -> Generator[Tensor, None, None]:\n",
        "    assert dataset in (\"train\", \"val\", \"test\")\n",
        "    if dataset == \"train\":\n",
        "        seed = TRAIN_SEED\n",
        "    elif dataset == \"val\":\n",
        "        seed = VAL_SEED\n",
        "    else: # test\n",
        "        seed = TEST_SEED\n",
        "    torch.manual_seed(seed)\n",
        "    while True:\n",
        "        # Generate random numbers\n",
        "        x = generate_list(batch_size)\n",
        "        # Sort\n",
        "        x_sorted = torch.sort(x, dim=1).values\n",
        "        # START tokens\n",
        "        x_start = START_TOKEN_ID * torch.ones(batch_size, dtype=torch.int32).reshape(batch_size, -1).to(DEVICE)\n",
        "        # MID tokens\n",
        "        x_mid = MID_TOKEN_ID * torch.ones(batch_size, dtype=torch.int32).reshape(batch_size, -1).to(DEVICE)\n",
        "        yield torch.cat((x_start, x, x_mid, x_sorted), dim=1)\n",
        "\n",
        "\n",
        "# Training data generator (kinda wrapper)\n",
        "def make_train_gen() -> Generator[Tensor, None, None]:\n",
        "    \"\"\"Make generator of training data\"\"\"\n",
        "    return make_data_gen(batch_size=128, dataset=\"train\")\n",
        "\n",
        "# Validation and test data\n",
        "\n",
        "val_data = next(make_data_gen(batch_size=1000, dataset=\"val\"))\n",
        "test_data = next(make_data_gen(batch_size=1000, dataset=\"test\"))"
      ]
    },
    {
      "cell_type": "markdown",
      "metadata": {
        "id": "hBJn1fKm3pMX"
      },
      "source": [
        "### Loss function"
      ]
    },
    {
      "cell_type": "code",
      "execution_count": null,
      "metadata": {
        "colab": {
          "base_uri": "https://localhost:8080/"
        },
        "id": "PTlNfaKY3qkd",
        "outputId": "7d962ac8-efe5-4681-bb20-a4ff8b675156"
      },
      "outputs": [
        {
          "data": {
            "text/plain": [
              "tensor(4.5333, grad_fn=<NegBackward0>)"
            ]
          },
          "metadata": {},
          "output_type": "display_data"
        }
      ],
      "source": [
        "def loss_fn(\n",
        "    logits: Tensor, # [batch, pos, d_vocab] \n",
        "    tokens: Tensor, # [batch, pos] \n",
        "    return_per_token: bool = False\n",
        ") -> Tensor: # scalar\n",
        "    \"\"\"\"\"\"\n",
        "    # \n",
        "    sorted_start_pos = LIST_LENGTH + 2\n",
        "    logits = logits[:, (sorted_start_pos-1):-1]\n",
        "    tokens = tokens[:, sorted_start_pos : None]\n",
        "    log_probs = logits.log_softmax(-1)\n",
        "    correct_log_probs = log_probs.gather(-1, tokens[..., None])[..., 0]\n",
        "    if return_per_token:\n",
        "        return -correct_log_probs\n",
        "    return -correct_log_probs.mean()"
      ]
    },
    {
      "cell_type": "markdown",
      "metadata": {
        "id": "GKKrzLEq3sun"
      },
      "source": [
        "### Accuracy and validation"
      ]
    },
    {
      "cell_type": "code",
      "execution_count": null,
      "metadata": {
        "id": "1x6q7b7O3rZa"
      },
      "outputs": [],
      "source": [
        "def get_diff_row_inds(\n",
        "    a: Tensor, # [dim1, dim2]\n",
        "    b: Tensor  # [dim1, dim2]\n",
        ") -> Tensor:   # [dim1]\n",
        "    \"\"\"Find indices of rows where a and b differ\"\"\"\n",
        "    assert a.shape == b.shape\n",
        "    return ((a == b).prod(dim=1) == 0).nonzero(as_tuple=True)[0]\n",
        "\n",
        "def acc_fn(\n",
        "    logits: Tensor, # [batch, pos, d_vocab]\n",
        "    tokens: Tensor, # [batch, pos]\n",
        "    per: Literal[\"token\", \"sequence\"] = \"sequence\"\n",
        ") -> float:\n",
        "    \"\"\"Compute accuracy as percentage of correct predictions\"\"\"\n",
        "    assert per in (\"token\", \"sequence\")\n",
        "    sorted_start_pos = LIST_LENGTH + 2\n",
        "    # Get logits of predictions for position\n",
        "    logits = logits[:, (sorted_start_pos-1):-1]\n",
        "    preds = logits.argmax(-1)\n",
        "    tokens = tokens[:, sorted_start_pos:]\n",
        "    if per == \"sequence\":\n",
        "        return (preds == tokens).prod(dim=1).float().mean().item()\n",
        "    return (preds == tokens).float().mean().item()\n",
        "\n",
        "def validate(\n",
        "    model: HookedTransformer, \n",
        "    data: Tensor, # [batch, pos]\n",
        "    per: Literal[\"token\", \"sequence\"] = \"sequence\"\n",
        ") -> float:\n",
        "    \"\"\"Test this model on `data`\"\"\"\n",
        "    logits = model(data)\n",
        "    acc = acc_fn(logits, tokens=data, per=per)\n",
        "    return acc\n",
        "\n",
        "def show_mispreds(\n",
        "    model: HookedTransformer, \n",
        "    data: Tensor # [batch, pos]\n",
        ") -> None:\n",
        "    \"\"\"Test this model on `data` and print mispredictions\"\"\"\n",
        "    logits = model(data)\n",
        "    sorted_start_pos = LIST_LENGTH + 2\n",
        "    logits = logits[:, (sorted_start_pos-1):-1]\n",
        "    tokens = data[:, sorted_start_pos:].cpu()\n",
        "    preds = logits.argmax(-1).cpu()\n",
        "    mispred_inds = get_diff_row_inds(tokens, preds)\n",
        "    for i in mispred_inds:\n",
        "        print(f\"[{i}] {tokens[i].numpy().tolist()} | {preds[i].numpy().tolist()}\")\n",
        "    print(f\"{len(mispred_inds)}/{len(preds)} ({len(mispred_inds) / len(preds) :.2%})\")"
      ]
    },
    {
      "cell_type": "markdown",
      "metadata": {
        "id": "V5trW5nKhF3I"
      },
      "source": [
        "## Training"
      ]
    },
    {
      "cell_type": "markdown",
      "metadata": {
        "id": "32Hj7N1nhHrI"
      },
      "source": [
        "### Model"
      ]
    },
    {
      "cell_type": "code",
      "execution_count": null,
      "metadata": {
        "id": "YwIffvImhT4g"
      },
      "outputs": [],
      "source": [
        "cfg = HookedTransformerConfig(\n",
        "    d_model=D_MODEL,\n",
        "    n_layers=N_LAYERS,\n",
        "    n_heads=N_HEADS,\n",
        "    d_head=D_HEAD,\n",
        "    n_ctx=N_CTX,\n",
        "    d_vocab=D_VOCAB,\n",
        "    act_fn=\"relu\",\n",
        "    seed=42,\n",
        "    device=DEVICE,\n",
        "    attn_only=ATTN_ONLY\n",
        ")\n",
        "model = HookedTransformer(cfg, move_to_device=True)"
      ]
    },
    {
      "cell_type": "markdown",
      "metadata": {
        "id": "9vYV7QAd3vCT"
      },
      "source": [
        "### Training setup"
      ]
    },
    {
      "cell_type": "code",
      "execution_count": null,
      "metadata": {
        "id": "LHBPL3Xw3uAt"
      },
      "outputs": [],
      "source": [
        "@dataclass(frozen=True)\n",
        "class TrainingHistory:\n",
        "    losses: list[float]\n",
        "    train_accuracies: list[float]\n",
        "    val_accuracies: list[float]\n",
        "\n",
        "def converged(val_accs: list[float], n_last: int = 10) -> bool:\n",
        "    return cast(bool, (tensor(val_accs[-n_last:]) == 1).all().item())\n",
        "\n",
        "# Number of epochs\n",
        "n_epochs = 20000\n",
        "\n",
        "# Optimization\n",
        "lr = 1e-3\n",
        "betas = (.9, .999)\n",
        "optim = torch.optim.Adam(model.parameters(), lr=lr, betas=betas)\n",
        "scheduler = torch.optim.lr_scheduler.ReduceLROnPlateau(optim, \"min\", patience=1000)\n",
        "\n",
        "# Training data generator\n",
        "train_gen = make_train_gen()\n",
        "\n",
        "def train_model(model: HookedTransformer) -> TrainingHistory:\n",
        "    losses = []\n",
        "    train_accuracies = []\n",
        "    val_accuracies = []\n",
        "\n",
        "    for epoch in range(n_epochs):\n",
        "        tokens = next(train_gen).to(device=DEVICE)\n",
        "        logits = model(tokens)\n",
        "        loss = loss_fn(logits, tokens)\n",
        "        loss.backward()\n",
        "        optim.step()\n",
        "        optim.zero_grad()\n",
        "        scheduler.step(loss)\n",
        "        \n",
        "        if epoch % 100 == 0:\n",
        "            losses.append(loss.item())\n",
        "            train_batch_acc = acc_fn(logits, tokens)\n",
        "            val_acc = validate(model, val_data)\n",
        "            val_loss = loss_fn(model(val_data), val_data)\n",
        "\n",
        "            train_accuracies.append(train_batch_acc)\n",
        "            val_accuracies.append(val_acc)\n",
        "            print(\n",
        "                f\"Epoch {epoch}/{n_epochs} ({epoch / n_epochs:.0%}) : \"\n",
        "                f\"loss = {loss.item():.4f}; {train_batch_acc=:.3%}; \"\n",
        "                f\"{val_acc=:.3%}; lr={scheduler._last_lr[0]}\" #type:ignore\n",
        "            )\n",
        "            # If last 10 recorded val_accuracies are 100%\n",
        "            if converged(val_accuracies):\n",
        "                print(f\"\\nAchieved consistent perfect validation accuracy after {epoch} epochs\")\n",
        "                break\n",
        "    return TrainingHistory(losses, train_accuracies, val_accuracies)\n",
        "\n",
        "def load_model_state(model: HookedTransformer, filename: str) -> None:\n",
        "    assert os.path.isdir(\"models\"), \"Make a directory `models` with model state dicts\"\n",
        "    if not filename.startswith(\"models/\"):\n",
        "        filename = f\"models/{filename}\"\n",
        "    with open(filename, \"rb\") as f:\n",
        "        state_dict = pickle.load(f)\n",
        "    model.load_state_dict(state_dict)"
      ]
    },
    {
      "cell_type": "markdown",
      "metadata": {
        "id": "HXhR2JBjdXkD"
      },
      "source": [
        "### Train or load model"
      ]
    },
    {
      "cell_type": "code",
      "execution_count": null,
      "metadata": {
        "id": "CMH8DwNHdWLA"
      },
      "outputs": [],
      "source": [
        "# history = train_model(model)\n",
        "# load_model_state(model, <filename>)"
      ]
    },
    {
      "cell_type": "markdown",
      "metadata": {
        "id": "HABWttcH34dv"
      },
      "source": [
        "### Testing post-training"
      ]
    },
    {
      "cell_type": "code",
      "execution_count": null,
      "metadata": {
        "colab": {
          "base_uri": "https://localhost:8080/"
        },
        "id": "lakshPyuwdO7",
        "outputId": "259e2ca7-0398-476f-f6ba-094006179a44"
      },
      "outputs": [],
      "source": [
        "print(\"Validating on validation data:\")\n",
        "val_acc = validate(model, val_data)\n",
        "print(f\"\\t{val_acc=:.3%}\\n\")\n",
        "if val_acc < 1:\n",
        "    show_mispreds(model, val_data)\n",
        "\n",
        "print(\"\\nValidating on test data:\")\n",
        "test_acc = validate(model, test_data)\n",
        "print(f\"\\t{test_acc=:.3%}\\n\")\n",
        "if test_acc < 1:\n",
        "    show_mispreds(model, test_data)"
      ]
    },
    {
      "cell_type": "markdown",
      "metadata": {
        "id": "pNofXtfSQvh2"
      },
      "source": [
        "### Saving trained model"
      ]
    },
    {
      "cell_type": "code",
      "execution_count": null,
      "metadata": {
        "id": "i9lLO9p1d8mC"
      },
      "outputs": [],
      "source": [
        "def save_model_state_dict(\n",
        "    model: HookedTransformer, \n",
        "    filename: str | None = None\n",
        ") -> None:\n",
        "    if not os.path.isdir(\"models\"):\n",
        "        os.mkdir(\"models\")\n",
        "    if not filename:\n",
        "        timestamp = dt.now().isoformat(\"T\", \"minutes\").replace(\":\", \"-\")\n",
        "        filename = f\"model_state_dict_{timestamp}.pkl\"\n",
        "    with open(f\"models/{filename}\", \"wb\") as f:\n",
        "        pickle.dump(model.state_dict(), f)\n",
        "\n",
        "# save_model_state_dict(model)"
      ]
    },
    {
      "cell_type": "markdown",
      "metadata": {
        "id": "pNofXtfSQvh2"
      },
      "source": [
        "## Saving trained model"
      ]
    },
    {
      "cell_type": "code",
      "execution_count": null,
      "metadata": {
        "id": "i9lLO9p1d8mC"
      },
      "outputs": [],
      "source": [
        "def make_timestamp() -> str:\n",
        "    return dt.now().isoformat(\"T\", \"minutes\").replace(\":\", \"-\")\n",
        "\n",
        "if not os.path.isdir(\"models\"):\n",
        "    os.mkdir(\"models\")\n",
        "\n",
        "fname = f\"model_state_dict_{make_timestamp()}.pkl\"\n",
        "\n",
        "with open(\"models/\" + fname, \"wb\") as f:\n",
        "    pickle.dump(model.state_dict(), f)"
      ]
    },
    {
      "cell_type": "markdown",
      "metadata": {
        "id": "WBmA4marmvzy"
      },
      "source": [
        "## Interior of the model"
      ]
    },
    {
      "attachments": {},
      "cell_type": "markdown",
      "metadata": {},
      "source": [
        "We can observe the activation pattern in the attention head for different examples. Note that 64 is simply the `START` value, and `65` is the `MID` value which separates the list from the sorted list."
      ]
    },
    {
      "cell_type": "code",
      "execution_count": null,
      "metadata": {
        "id": "YO1-8HZKqAWE"
      },
      "outputs": [],
      "source": [
        "def observing_test(list_to_order: list[int]):\n",
        "  input = tensor([64] + list_to_order + [65] + sorted(list_to_order))\n",
        "  logits, cache_model = model.run_with_cache(input, remove_batch_dim=True) \n",
        "  preds = logits[:,LIST_LENGTH+1:-1].argmax(-1)[0]\n",
        "  attention_pattern = cache_model[\"pattern\", 0, \"attn\"]\n",
        "  tokens_input = list(map(str,list(input)))\n",
        "  print(str(list_to_order) + \" -> \" + str(sorted(list_to_order)))\n",
        "  print(\"prediction: \", preds.tolist())\n",
        "  print(\"Correct\" if (preds.tolist() == sorted(list_to_order)) else \"Incorrect\")\n",
        "  return tokens_input, attention_pattern"
      ]
    },
    {
      "cell_type": "code",
      "execution_count": null,
      "metadata": {
        "colab": {
          "base_uri": "https://localhost:8080/",
          "height": 410
        },
        "id": "FTnl0kYRrzqG",
        "outputId": "400705ce-f718-4450-8dec-43fcc4e57705"
      },
      "outputs": [
        {
          "name": "stdout",
          "output_type": "stream",
          "text": [
            "[5, 1, 2, 5, 50] -> [1, 2, 5, 5, 50]\n",
            "prediction:  [1, 2, 5, 5, 50]\n",
            "Correct\n"
          ]
        },
        {
          "data": {
            "text/html": [
              "<div id=\"circuits-vis-c6f6f597-4f72\" style=\"margin: 15px 0;\"/>\n",
              "    <script crossorigin type=\"module\">\n",
              "    import { render, AttentionPatterns } from \"https://unpkg.com/circuitsvis@1.38.1/dist/cdn/esm.js\";\n",
              "    render(\n",
              "      \"circuits-vis-c6f6f597-4f72\",\n",
              "      AttentionPatterns,\n",
              "      {\"tokens\": [\"tensor(64)\", \"tensor(5)\", \"tensor(1)\", \"tensor(2)\", \"tensor(5)\", \"tensor(50)\", \"tensor(65)\", \"tensor(1)\", \"tensor(2)\", \"tensor(5)\", \"tensor(5)\", \"tensor(50)\"], \"attention\": [[[1.0, 0.0, 0.0, 0.0, 0.0, 0.0, 0.0, 0.0, 0.0, 0.0, 0.0, 0.0], [0.8382039070129395, 0.16179610788822174, 0.0, 0.0, 0.0, 0.0, 0.0, 0.0, 0.0, 0.0, 0.0, 0.0], [0.773255467414856, 0.14419499039649963, 0.08254953473806381, 0.0, 0.0, 0.0, 0.0, 0.0, 0.0, 0.0, 0.0, 0.0], [0.5638338327407837, 0.20928256213665009, 0.13035672903060913, 0.0965268537402153, 0.0, 0.0, 0.0, 0.0, 0.0, 0.0, 0.0, 0.0], [0.6262611746788025, 0.07357944548130035, 0.12023221701383591, 0.10541816055774689, 0.07450903207063675, 0.0, 0.0, 0.0, 0.0, 0.0, 0.0, 0.0], [0.10146607458591461, 0.13826629519462585, 0.08890961855649948, 0.114606112241745, 0.14133712649345398, 0.41541483998298645, 0.0, 0.0, 0.0, 0.0, 0.0, 0.0], [0.0007105127442628145, 0.09431827068328857, 0.5149751305580139, 0.29864636063575745, 0.09014517068862915, 0.0005694014253094792, 0.0006351416814140975, 0.0, 0.0, 0.0, 0.0, 0.0], [0.1182774230837822, 0.22066278755664825, 0.11233830451965332, 0.2321786731481552, 0.21666035056114197, 0.04108854755759239, 0.04022401198744774, 0.018570007756352425, 0.0, 0.0, 0.0, 0.0], [0.14591769874095917, 0.2173355221748352, 0.09732086211442947, 0.09929539263248444, 0.21572092175483704, 0.10168793797492981, 0.08198609948158264, 0.015247968956828117, 0.025487588718533516, 0.0, 0.0, 0.0], [0.19498471915721893, 0.1027107685804367, 0.08727859705686569, 0.09168237447738647, 0.10221045464277267, 0.2315419614315033, 0.14766228199005127, 0.009907938539981842, 0.013628869317471981, 0.018391983583569527, 0.0, 0.0], [0.09206033498048782, 0.032383304089307785, 0.03364928066730499, 0.03607965260744095, 0.03226713091135025, 0.5502167344093323, 0.20826761424541473, 0.0043559568002820015, 0.0031243162229657173, 0.0027121177408844233, 0.0048834835179150105, 0.0], [0.01966678909957409, 0.06247618421912193, 0.04660862684249878, 0.05291873589158058, 0.06339141726493835, 0.3128608465194702, 0.29621943831443787, 0.016277389600872993, 0.010404075495898724, 0.007963481359183788, 0.007384142838418484, 0.1038288027048111]]]}\n",
              "    )\n",
              "    </script>"
            ],
            "text/plain": [
              "<circuitsvis.utils.render.RenderedHTML at 0x7f2a79849460>"
            ]
          },
          "execution_count": 82,
          "metadata": {},
          "output_type": "execute_result"
        }
      ],
      "source": [
        "tok, att = observing_test([5, 1, 2, 5, 50])\n",
        "cv.attention.attention_patterns(tokens=tok, attention=att)"
      ]
    },
    {
      "cell_type": "code",
      "execution_count": null,
      "metadata": {
        "colab": {
          "base_uri": "https://localhost:8080/",
          "height": 410
        },
        "id": "TjOgtFPUolbM",
        "outputId": "7d675c11-f05b-43a2-9823-4018081dbb60"
      },
      "outputs": [
        {
          "name": "stdout",
          "output_type": "stream",
          "text": [
            "[30, 30, 3, 2, 1] -> [1, 2, 3, 30, 30]\n",
            "prediction:  [1, 2, 3, 30, 30]\n",
            "Correct\n"
          ]
        },
        {
          "data": {
            "text/html": [
              "<div id=\"circuits-vis-666bbfe0-61d9\" style=\"margin: 15px 0;\"/>\n",
              "    <script crossorigin type=\"module\">\n",
              "    import { render, AttentionPatterns } from \"https://unpkg.com/circuitsvis@1.38.1/dist/cdn/esm.js\";\n",
              "    render(\n",
              "      \"circuits-vis-666bbfe0-61d9\",\n",
              "      AttentionPatterns,\n",
              "      {\"tokens\": [\"tensor(64)\", \"tensor(30)\", \"tensor(30)\", \"tensor(3)\", \"tensor(2)\", \"tensor(1)\", \"tensor(65)\", \"tensor(1)\", \"tensor(2)\", \"tensor(3)\", \"tensor(30)\", \"tensor(30)\"], \"attention\": [[[1.0, 0.0, 0.0, 0.0, 0.0, 0.0, 0.0, 0.0, 0.0, 0.0, 0.0, 0.0], [0.07447192817926407, 0.9255281090736389, 0.0, 0.0, 0.0, 0.0, 0.0, 0.0, 0.0, 0.0, 0.0, 0.0], [0.09292228519916534, 0.455316424369812, 0.4517611861228943, 0.0, 0.0, 0.0, 0.0, 0.0, 0.0, 0.0, 0.0, 0.0], [0.7083879113197327, 0.09359297901391983, 0.09579221904277802, 0.10222689807415009, 0.0, 0.0, 0.0, 0.0, 0.0, 0.0, 0.0, 0.0], [0.569575846195221, 0.03816564381122589, 0.03890179842710495, 0.2809006869792938, 0.07245602458715439, 0.0, 0.0, 0.0, 0.0, 0.0, 0.0, 0.0], [0.6046651601791382, 0.010913250967860222, 0.010601673275232315, 0.1855587661266327, 0.1408226042985916, 0.04743852838873863, 0.0, 0.0, 0.0, 0.0, 0.0, 0.0], [0.0007013861322775483, 0.002829322125762701, 0.0028275297954678535, 0.1854015737771988, 0.3073415160179138, 0.5002716779708862, 0.0006269826553761959, 0.0, 0.0, 0.0, 0.0, 0.0], [0.13320349156856537, 0.07553618401288986, 0.07460883259773254, 0.25836843252182007, 0.26382115483283997, 0.1282484382390976, 0.04530009627342224, 0.02091345377266407, 0.0, 0.0, 0.0, 0.0], [0.15510746836662292, 0.1352507770061493, 0.13774429261684418, 0.23551803827285767, 0.10444356501102448, 0.10148532688617706, 0.08714950829744339, 0.01620827242732048, 0.02709277532994747, 0.0, 0.0, 0.0], [0.23137980699539185, 0.16495056450366974, 0.167533278465271, 0.09295284003019333, 0.09067345410585403, 0.08197095990180969, 0.12199366092681885, 0.011238438077270985, 0.01709647662937641, 0.020210497081279755, 0.0, 0.0], [0.003112498205155134, 0.27069228887557983, 0.26749110221862793, 0.010839143767952919, 0.011552389711141586, 0.007451901212334633, 0.4183274507522583, 0.00033916367101483047, 0.0001604139688424766, 0.00011364703823346645, 0.009919943287968636, 0.0], [0.018367409706115723, 0.22732113301753998, 0.2285696119070053, 0.0417330302298069, 0.05514904856681824, 0.054067354649305344, 0.17595310509204865, 0.014264988712966442, 0.010625232011079788, 0.008073308505117893, 0.09771119803190231, 0.06816458702087402]]]}\n",
              "    )\n",
              "    </script>"
            ],
            "text/plain": [
              "<circuitsvis.utils.render.RenderedHTML at 0x7f2a798a9250>"
            ]
          },
          "execution_count": 83,
          "metadata": {},
          "output_type": "execute_result"
        }
      ],
      "source": [
        "tok, att = observing_test([30, 30, 3, 2, 1])\n",
        "cv.attention.attention_patterns(tokens=tok, attention=att)"
      ]
    },
    {
      "attachments": {},
      "cell_type": "markdown",
      "metadata": {},
      "source": [
        "In the next example, we see that the attention to the tokens with value `1` is diminishing as we move to the right. Since there is almost no attention to the second half of the tokens, it seems that the positional encoding makes the right most tokens pay less attention to small values."
      ]
    },
    {
      "cell_type": "code",
      "execution_count": null,
      "metadata": {
        "colab": {
          "base_uri": "https://localhost:8080/",
          "height": 410
        },
        "id": "1epYfMz5nyHr",
        "outputId": "4bd5c1cf-32b5-48e0-ad36-aec4e81071e3"
      },
      "outputs": [
        {
          "name": "stdout",
          "output_type": "stream",
          "text": [
            "[1, 1, 2, 1, 1] -> [1, 1, 1, 1, 2]\n",
            "prediction:  [1, 1, 1, 1, 2]\n",
            "Correct\n"
          ]
        },
        {
          "data": {
            "text/html": [
              "<div id=\"circuits-vis-53f2cbe6-e5c2\" style=\"margin: 15px 0;\"/>\n",
              "    <script crossorigin type=\"module\">\n",
              "    import { render, AttentionPatterns } from \"https://unpkg.com/circuitsvis@1.38.1/dist/cdn/esm.js\";\n",
              "    render(\n",
              "      \"circuits-vis-53f2cbe6-e5c2\",\n",
              "      AttentionPatterns,\n",
              "      {\"tokens\": [\"tensor(64)\", \"tensor(1)\", \"tensor(1)\", \"tensor(2)\", \"tensor(1)\", \"tensor(1)\", \"tensor(65)\", \"tensor(1)\", \"tensor(1)\", \"tensor(1)\", \"tensor(1)\", \"tensor(2)\"], \"attention\": [[[1.0, 0.0, 0.0, 0.0, 0.0, 0.0, 0.0, 0.0, 0.0, 0.0, 0.0, 0.0], [0.8848952651023865, 0.11510473489761353, 0.0, 0.0, 0.0, 0.0, 0.0, 0.0, 0.0, 0.0, 0.0, 0.0], [0.8215433955192566, 0.0907520055770874, 0.08770455420017242, 0.0, 0.0, 0.0, 0.0, 0.0, 0.0, 0.0, 0.0, 0.0], [0.6147310733795166, 0.1379045695066452, 0.1421240270137787, 0.10524032264947891, 0.0, 0.0, 0.0, 0.0, 0.0, 0.0, 0.0, 0.0], [0.6184172034263611, 0.06046104058623314, 0.058149490505456924, 0.2022964507341385, 0.060675833374261856, 0.0, 0.0, 0.0, 0.0, 0.0, 0.0, 0.0], [0.6475939154624939, 0.051111117005348206, 0.04944844916462898, 0.14967003464698792, 0.051370080560445786, 0.05080647021532059, 0.0, 0.0, 0.0, 0.0, 0.0, 0.0], [0.00030587069340981543, 0.21223042905330658, 0.22169312834739685, 0.12856513261795044, 0.21876612305641174, 0.21816587448120117, 0.0002734239969868213, 0.0, 0.0, 0.0, 0.0, 0.0], [0.13722705841064453, 0.13144280016422272, 0.13033640384674072, 0.26937681436538696, 0.13128095865249634, 0.13212233781814575, 0.046668440103530884, 0.0215451717376709, 0.0, 0.0, 0.0, 0.0], [0.19046977162361145, 0.10696393996477127, 0.10538390278816223, 0.24696654081344604, 0.10633781552314758, 0.10723406076431274, 0.08729401230812073, 0.018218059092760086, 0.03113190457224846, 0.0, 0.0, 0.0], [0.2489963173866272, 0.08018124848604202, 0.07830780744552612, 0.2126697450876236, 0.07928919047117233, 0.08020181953907013, 0.13290022313594818, 0.020594364032149315, 0.028527067974209785, 0.03833219036459923, 0.0, 0.0], [0.22566641867160797, 0.05045109614729881, 0.04813992977142334, 0.18867942690849304, 0.04923884943127632, 0.05012933164834976, 0.32928773760795593, 0.01820654794573784, 0.013322392478585243, 0.013742479495704174, 0.013135726563632488, 0.0], [0.14008665084838867, 0.054327379912137985, 0.05666128918528557, 0.036761291325092316, 0.055329449474811554, 0.05467693507671356, 0.02396843209862709, 0.0982283279299736, 0.12856601178646088, 0.11964790523052216, 0.15073537826538086, 0.08101096749305725]]]}\n",
              "    )\n",
              "    </script>"
            ],
            "text/plain": [
              "<circuitsvis.utils.render.RenderedHTML at 0x7f2a798494f0>"
            ]
          },
          "execution_count": 84,
          "metadata": {},
          "output_type": "execute_result"
        }
      ],
      "source": [
        "tok, att = observing_test([1, 1, 2, 1, 1])\n",
        "cv.attention.attention_patterns(tokens=tok, attention=att)"
      ]
    },
    {
      "cell_type": "code",
      "execution_count": null,
      "metadata": {
        "colab": {
          "base_uri": "https://localhost:8080/",
          "height": 410
        },
        "id": "W-lnzPtTojH2",
        "outputId": "5fb99f9e-9d47-465d-fcf7-262c2f6e6c8c"
      },
      "outputs": [
        {
          "name": "stdout",
          "output_type": "stream",
          "text": [
            "[60, 50, 50, 50, 50] -> [50, 50, 50, 50, 60]\n",
            "prediction:  [50, 50, 50, 50, 60]\n",
            "Correct\n"
          ]
        },
        {
          "data": {
            "text/html": [
              "<div id=\"circuits-vis-8a07fcb0-af45\" style=\"margin: 15px 0;\"/>\n",
              "    <script crossorigin type=\"module\">\n",
              "    import { render, AttentionPatterns } from \"https://unpkg.com/circuitsvis@1.38.1/dist/cdn/esm.js\";\n",
              "    render(\n",
              "      \"circuits-vis-8a07fcb0-af45\",\n",
              "      AttentionPatterns,\n",
              "      {\"tokens\": [\"tensor(64)\", \"tensor(60)\", \"tensor(50)\", \"tensor(50)\", \"tensor(50)\", \"tensor(50)\", \"tensor(65)\", \"tensor(50)\", \"tensor(50)\", \"tensor(50)\", \"tensor(50)\", \"tensor(60)\"], \"attention\": [[[1.0, 0.0, 0.0, 0.0, 0.0, 0.0, 0.0, 0.0, 0.0, 0.0, 0.0, 0.0], [0.07057645916938782, 0.9294235706329346, 0.0, 0.0, 0.0, 0.0, 0.0, 0.0, 0.0, 0.0, 0.0, 0.0], [0.0628557950258255, 0.6675413250923157, 0.26960289478302, 0.0, 0.0, 0.0, 0.0, 0.0, 0.0, 0.0, 0.0, 0.0], [0.012198169715702534, 0.6185010671615601, 0.1836027354001999, 0.1856980174779892, 0.0, 0.0, 0.0, 0.0, 0.0, 0.0, 0.0, 0.0], [0.026784783229231834, 0.3870495855808258, 0.1934388279914856, 0.1935984045267105, 0.19912834465503693, 0.0, 0.0, 0.0, 0.0, 0.0, 0.0, 0.0], [0.03671861067414284, 0.36209291219711304, 0.14883273839950562, 0.14961768686771393, 0.15240737795829773, 0.15033058822155, 0.0, 0.0, 0.0, 0.0, 0.0, 0.0], [0.18048568069934845, 0.0777367353439331, 0.1478578746318817, 0.1450396329164505, 0.1429000198841095, 0.14464029669761658, 0.16133973002433777, 0.0, 0.0, 0.0, 0.0, 0.0], [0.021457813680171967, 0.21772395074367523, 0.15920203924179077, 0.15931829810142517, 0.16026148200035095, 0.1606995165348053, 0.11501941084861755, 0.0063173603266477585, 0.0, 0.0, 0.0, 0.0], [0.006868528667837381, 0.2852146327495575, 0.15066389739513397, 0.15113112330436707, 0.1526837944984436, 0.15296441316604614, 0.09579518437385559, 0.002266667317599058, 0.0024117666762322187, 0.0, 0.0, 0.0], [0.002352737123146653, 0.34416288137435913, 0.13961435854434967, 0.14048896729946136, 0.14257697761058807, 0.14285777509212494, 0.08415091037750244, 0.0013086271937936544, 0.0011057438096031547, 0.001381074427627027, 0.0, 0.0], [9.081103780772537e-05, 0.5808804035186768, 0.09376659989356995, 0.09667080640792847, 0.09743533283472061, 0.09765049815177917, 0.032033007591962814, 0.0003113945131190121, 0.00013736153778154403, 0.0001505748077761382, 0.000873201759532094, 0.0], [0.020790278911590576, 0.28669244050979614, 0.07685745507478714, 0.08040913939476013, 0.07909495383501053, 0.08162898570299149, 0.09072937071323395, 0.044835466891527176, 0.03200985863804817, 0.02751428447663784, 0.01526977401226759, 0.16416801512241364]]]}\n",
              "    )\n",
              "    </script>"
            ],
            "text/plain": [
              "<circuitsvis.utils.render.RenderedHTML at 0x7f2a79921490>"
            ]
          },
          "execution_count": 86,
          "metadata": {},
          "output_type": "execute_result"
        }
      ],
      "source": [
        "tok, att = observing_test([60, 50, 50, 50, 50])\n",
        "cv.attention.attention_patterns(tokens=tok, attention=att)"
      ]
    },
    {
      "attachments": {},
      "cell_type": "markdown",
      "metadata": {},
      "source": [
        "We embed all `D_VOCAB` tokens, obtaining the matrix `all_token_embeddings` of shape `[D_VOCAB D_MODEL]`. We multiply it with matrices of weights for keys and queries from the (only) attention and multiply these results again in order to obtain the map that queries of each token (y axis) tend to pay to keys of other tokens preceeding them (x axis).\n",
        "\n",
        "We can observe several things:\n",
        "\n",
        "- Tokens tend to pay the most attention to their most immediate followers (in their total ordering) and very little attention, hence the bright yellow hue above the main diagonal.\n",
        "- `START` token's attention seems kind of random.\n",
        "- `MID` token's attention is inversely proportional to the token's position in the ordering (i.e. number magnitude). It makes sense: it needs to give the smallest number in the list.\n",
        "\n",
        "Note that this matrix/heatmap is not symmetrical, since how much attention token Y pays to token X may be (and in this case is) different from how much attention token X pays to token Y.\n",
        "\n",
        "Of course, this is an approximation: we didn't take into account the positional encoding. We saw in the examples that when there is a repetition of the same value, there is some attention to copies of the value in the unsorted list, but not to copies of the value in the sorted list, which must be done using positional encoding."
      ]
    },
    {
      "cell_type": "code",
      "execution_count": null,
      "metadata": {
        "colab": {
          "base_uri": "https://localhost:8080/",
          "height": 592
        },
        "id": "Itl56nhGw0Lw",
        "outputId": "8cd7ad45-ee65-44a7-8a80-f73ce931543f"
      },
      "outputs": [
        {
          "data": {
            "image/png": "[encoded data removed]",
            "text/plain": [
              "<Figure size 1440x720 with 2 Axes>"
            ]
          },
          "metadata": {
            "needs_background": "light"
          },
          "output_type": "display_data"
        }
      ],
      "source": [
        "attn = model.blocks[0].attn\n",
        "all_token_embeddings = model.embed(range(D_VOCAB))\n",
        "\n",
        "embeddings_key = einsum(\"d_vocab d_model, n_heads d_model d_head -> n_heads d_vocab d_head\", \n",
        "                        all_token_embeddings, attn.W_K) \n",
        "embeddings_query = einsum(\"d_vocab d_model, n_heads d_model d_head -> n_heads d_vocab d_head\", \n",
        "                          all_token_embeddings, attn.W_Q) \n",
        "                          \n",
        "plt.rcParams['figure.figsize'] = [20, 10]\n",
        "qk_circuit_attn_heatmap = einsum(\n",
        "    \"n_heads d_vocab_q d_head, n_heads d_vocab_k d_head -> ... d_vocab_q d_vocab_k\", \n",
        "    embeddings_query, embeddings_key\n",
        "    ).detach().cpu().numpy()\n",
        "fig, ax = plt.subplots(figsize=(6, 6))\n",
        "ax.imshow(qk_circuit_attn_heatmap, cmap=\"hot\", interpolation=\"nearest\")\n",
        "plt.tight_layout()"
      ]
    },
    {
      "attachments": {},
      "cell_type": "markdown",
      "metadata": {},
      "source": [
        "The attention that each token pays to identical tokens is quite small, but since it needs to repeat it only if there are multiple copies in the list, so the intensity would be multiplied by the number of identical tokens. However, it is very close to the values we get when we train the model without repetitions, so this explanation cannot be quite right. Perhaps the positional encoding has an effect."
      ]
    },
    {
      "cell_type": "code",
      "execution_count": null,
      "metadata": {
        "colab": {
          "base_uri": "https://localhost:8080/"
        },
        "id": "g24DG1ttt-by",
        "outputId": "203f303a-da14-44de-f28f-3c0dfa4918fc"
      },
      "outputs": [
        {
          "name": "stdout",
          "output_type": "stream",
          "text": [
            "Mean value on the diagonal:  0.043144636\n",
            "Mean absolute value on the diagonal:  0.055903777\n"
          ]
        }
      ],
      "source": [
        "mean_diag = qk_circuit_attn_heatmap.diagonal().mean()\n",
        "mean_absolute_diag = np.absolute(qk_circuit_attn_heatmap.diagonal()).mean()\n",
        "print(\"Mean value on the diagonal: \", mean_diag)\n",
        "print(\"Mean absolute value on the diagonal: \", mean_absolute_diag)"
      ]
    }
  ],
  "metadata": {
    "colab": {
      "provenance": [],
      "toc_visible": true
    },
    "kernelspec": {
      "display_name": "Python 3",
      "language": "python",
      "name": "python3"
    },
    "language_info": {
      "name": "python",
      "version": "3.10.6 (main, Nov 14 2022, 16:10:14) [GCC 11.3.0]"
    },
    "vscode": {
      "interpreter": {
        "hash": "916dbcbb3f70747c44a77c7bcd40155683ae19c65e1c03b4aa3499c5328201f1"
      }
    }
  },
  "nbformat": 4,
  "nbformat_minor": 0
}
