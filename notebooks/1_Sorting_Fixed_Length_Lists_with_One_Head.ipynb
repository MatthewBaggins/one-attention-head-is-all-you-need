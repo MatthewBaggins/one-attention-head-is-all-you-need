{
  "cells": [
    {
      "cell_type": "markdown",
      "metadata": {
        "id": "jKyC3mZ72qlH"
      },
      "source": [
        "# 1. Sorting Fixed Length Lists with One Head"
      ]
    },
    {
      "cell_type": "markdown",
      "metadata": {
        "id": "PBe5K-JpHXFs"
      },
      "source": [
        "## Variable hyperparameters"
      ]
    },
    {
      "cell_type": "code",
      "execution_count": 1,
      "metadata": {
        "id": "httbkgCwHYF4"
      },
      "outputs": [],
      "source": [
        "# Fixed length of list to be sorted\n",
        "LIST_LENGTH = 5\n",
        "\n",
        "# Size of vocabulary\n",
        "D_VOCAB = 66\n",
        "\n",
        "# Should lists have repetitions?\n",
        "ALLOW_REPETITIONS = False\n",
        "\n",
        "# Attention only? (False -> model includes MLPs)\n",
        "ATTN_ONLY = True\n",
        "\n",
        "# Model dimenions\n",
        "N_LAYERS = 1\n",
        "N_HEADS = 1\n",
        "D_MODEL = 128\n",
        "D_HEAD = 32\n",
        "D_MLP = None\n",
        "\n",
        "if ATTN_ONLY:\n",
        "    D_MLP = None\n",
        "\n",
        "# Default batch size\n",
        "DEFAULT_BATCH_SIZE = 32"
      ]
    },
    {
      "cell_type": "markdown",
      "metadata": {
        "id": "7o--LiD_HMGs"
      },
      "source": [
        "## Prelude"
      ]
    },
    {
      "cell_type": "markdown",
      "metadata": {
        "id": "7yjVSLZbEEJX"
      },
      "source": [
        "### Install and import"
      ]
    },
    {
      "cell_type": "code",
      "execution_count": 2,
      "metadata": {
        "id": "Wqa5uVY-2oC7"
      },
      "outputs": [],
      "source": [
        "try:\n",
        "    import transformer_lens\n",
        "except:\n",
        "    !pip install git+https://github.com/neelnanda-io/TransformerLens\n",
        "    !pip install circuitsvis"
      ]
    },
    {
      "cell_type": "code",
      "execution_count": 3,
      "metadata": {
        "colab": {
          "base_uri": "https://localhost:8080/",
          "height": 64
        },
        "id": "dqFfW5V32yaO",
        "outputId": "d723bdcb-f43b-4f0b-e863-fd1173e280c0"
      },
      "outputs": [
        {
          "data": {
            "text/html": [
              "<div id=\"circuits-vis-503f94da-9470\" style=\"margin: 15px 0;\"/>\n",
              "    <script crossorigin type=\"module\">\n",
              "    import { render, Hello } from \"https://unpkg.com/circuitsvis@1.38.1/dist/cdn/esm.js\";\n",
              "    render(\n",
              "      \"circuits-vis-503f94da-9470\",\n",
              "      Hello,\n",
              "      {\"name\": \"You\"}\n",
              "    )\n",
              "    </script>"
            ],
            "text/plain": [
              "<circuitsvis.utils.render.RenderedHTML at 0x7fefa1f54df0>"
            ]
          },
          "execution_count": 3,
          "metadata": {},
          "output_type": "execute_result"
        }
      ],
      "source": [
        "from __future__ import annotations\n",
        "from dataclasses import dataclass, field\n",
        "from datetime import datetime as dt\n",
        "from itertools import repeat\n",
        "import os\n",
        "import pickle\n",
        "import random\n",
        "from typing import cast, Generator, Literal\n",
        "\n",
        "import circuitsvis as cv\n",
        "from fancy_einsum import einsum\n",
        "from matplotlib import pyplot as plt\n",
        "import numpy as np\n",
        "import torch\n",
        "from torch import nn, tensor, Tensor, TensorType as TT\n",
        "from torch.nn import functional as F\n",
        "from transformer_lens import HookedTransformerConfig, HookedTransformer\n",
        "from tqdm import tqdm\n",
        "from typing_extensions import Self\n",
        "\n",
        "cv.examples.hello(\"You\")"
      ]
    },
    {
      "cell_type": "markdown",
      "metadata": {
        "id": "Oo4oP4dSrYhD"
      },
      "source": [
        "### Invariable hyperparameters"
      ]
    },
    {
      "cell_type": "code",
      "execution_count": 4,
      "metadata": {
        "colab": {
          "base_uri": "https://localhost:8080/"
        },
        "id": "_XwivtyM_Hru",
        "outputId": "8b3a84ef-9923-406f-cf77-e48abf2cc308"
      },
      "outputs": [
        {
          "name": "stdout",
          "output_type": "stream",
          "text": [
            "DEVICE = 'cpu'\n"
          ]
        }
      ],
      "source": [
        "DEVICE = \"cuda\" if torch.cuda.is_available() else \"cpu\"\n",
        "print(f\"{DEVICE = }\")\n",
        "\n",
        "# Seeds to generate training, validation, and test data\n",
        "TRAIN_SEED = 42\n",
        "VAL_SEED = 66\n",
        "TEST_SEED = 1729\n",
        "\n",
        "# Context length: [start, *(unsorted_)list_length, mid, *(sorted_)list_length]\n",
        "N_CTX = 2 * LIST_LENGTH + 2\n",
        "\n",
        "# \"Real\" tokens range from 0 to D_VOCAB - 2 (non-inclusive)\n",
        "VOCAB_MIN_ID = 0\n",
        "VOCAB_MAX_ID = D_VOCAB - 2\n",
        "\n",
        "# START token is D_VOCAB - 2 and MID token is D_VOCAB - 1\n",
        "START_TOKEN_ID = VOCAB_MAX_ID\n",
        "MID_TOKEN_ID = D_VOCAB - 1"
      ]
    },
    {
      "cell_type": "markdown",
      "metadata": {
        "id": "dlWGwox63j24"
      },
      "source": [
        "### Data generator and datasets"
      ]
    },
    {
      "cell_type": "code",
      "execution_count": 5,
      "metadata": {
        "id": "44OZjOq83k1H"
      },
      "outputs": [],
      "source": [
        "def generate_list(batch_size: int) -> Tensor:\n",
        "    if ALLOW_REPETITIONS:\n",
        "        return torch.randint(VOCAB_MIN_ID, VOCAB_MAX_ID, (batch_size, LIST_LENGTH)).to(DEVICE)\n",
        "    return tensor([\n",
        "        random.sample(range(VOCAB_MIN_ID, VOCAB_MAX_ID), k=LIST_LENGTH) \n",
        "        for _ in range(batch_size)\n",
        "    ]).to(DEVICE)\n",
        "\n",
        "# General generator\n",
        "def make_data_gen(\n",
        "    *,\n",
        "    batch_size: int = DEFAULT_BATCH_SIZE,\n",
        "    dataset: Literal[\"train\", \"val\", \"test\"], # probably this arg needs a better name,\n",
        ") -> Generator[Tensor, None, None]:\n",
        "    assert dataset in (\"train\", \"val\", \"test\")\n",
        "    if dataset == \"train\":\n",
        "        seed = TRAIN_SEED\n",
        "    elif dataset == \"val\":\n",
        "        seed = VAL_SEED\n",
        "    else: # test\n",
        "        seed = TEST_SEED\n",
        "    torch.manual_seed(seed)\n",
        "    while True:\n",
        "        # Generate random numbers\n",
        "        x = generate_list(batch_size)\n",
        "        # Sort\n",
        "        x_sorted = torch.sort(x, dim=1).values\n",
        "        # START tokens\n",
        "        x_start = START_TOKEN_ID * torch.ones(batch_size, dtype=torch.int32).reshape(batch_size, -1).to(DEVICE)\n",
        "        # MID tokens\n",
        "        x_mid = MID_TOKEN_ID * torch.ones(batch_size, dtype=torch.int32).reshape(batch_size, -1).to(DEVICE)\n",
        "        yield torch.cat((x_start, x, x_mid, x_sorted), dim=1)\n",
        "\n",
        "\n",
        "# Training data generator (kinda wrapper)\n",
        "def make_train_gen() -> Generator[Tensor, None, None]:\n",
        "    \"\"\"Make generator of training data\"\"\"\n",
        "    return make_data_gen(batch_size=128, dataset=\"train\")\n",
        "\n",
        "# Validation and test data\n",
        "\n",
        "val_data = next(make_data_gen(batch_size=1000, dataset=\"val\"))\n",
        "test_data = next(make_data_gen(batch_size=1000, dataset=\"test\"))"
      ]
    },
    {
      "cell_type": "markdown",
      "metadata": {
        "id": "hBJn1fKm3pMX"
      },
      "source": [
        "### Loss function"
      ]
    },
    {
      "cell_type": "code",
      "execution_count": 6,
      "metadata": {
        "id": "PTlNfaKY3qkd"
      },
      "outputs": [],
      "source": [
        "def loss_fn(\n",
        "    logits: Tensor, # [batch, pos, d_vocab] \n",
        "    tokens: Tensor, # [batch, pos] \n",
        "    return_per_token: bool = False\n",
        ") -> Tensor: # scalar\n",
        "    \"\"\"\"\"\"\n",
        "    # \n",
        "    sorted_start_pos = LIST_LENGTH + 2\n",
        "    logits = logits[:, (sorted_start_pos-1):-1]\n",
        "    tokens = tokens[:, sorted_start_pos : None]\n",
        "    log_probs = logits.log_softmax(-1)\n",
        "    correct_log_probs = log_probs.gather(-1, tokens[..., None])[..., 0]\n",
        "    if return_per_token:\n",
        "        return -correct_log_probs\n",
        "    return -correct_log_probs.mean()"
      ]
    },
    {
      "cell_type": "markdown",
      "metadata": {
        "id": "GKKrzLEq3sun"
      },
      "source": [
        "### Accuracy and validation"
      ]
    },
    {
      "cell_type": "code",
      "execution_count": 7,
      "metadata": {
        "id": "1x6q7b7O3rZa"
      },
      "outputs": [],
      "source": [
        "def get_diff_row_inds(\n",
        "    a: Tensor, # [dim1, dim2]\n",
        "    b: Tensor  # [dim1, dim2]\n",
        ") -> Tensor:   # [dim1]\n",
        "    \"\"\"Find indices of rows where a and b differ\"\"\"\n",
        "    assert a.shape == b.shape\n",
        "    return ((a == b).prod(dim=1) == 0).nonzero(as_tuple=True)[0]\n",
        "\n",
        "def acc_fn(\n",
        "    logits: Tensor, # [batch, pos, d_vocab]\n",
        "    tokens: Tensor, # [batch, pos]\n",
        "    per: Literal[\"token\", \"sequence\"] = \"sequence\"\n",
        ") -> float:\n",
        "    \"\"\"Compute accuracy as percentage of correct predictions\"\"\"\n",
        "    sorted_start_pos = LIST_LENGTH + 2\n",
        "    # Get logits of predictions for position\n",
        "    logits = logits[:, (sorted_start_pos-1):-1]\n",
        "    preds = logits.argmax(-1)\n",
        "    tokens = tokens[:, sorted_start_pos:]\n",
        "    if per == \"sequence\":\n",
        "        return (preds == tokens).prod(dim=1).float().mean().item()\n",
        "    return (preds == tokens).float().mean().item()\n",
        "\n",
        "def validate(\n",
        "    model: HookedTransformer, \n",
        "    data: Tensor # [batch, pos]\n",
        ") -> float:\n",
        "    \"\"\"Test this model on `data`\"\"\"\n",
        "    logits = model(data)\n",
        "    acc = acc_fn(logits, tokens=data)\n",
        "    return acc\n",
        "\n",
        "def show_mispreds(\n",
        "    model: HookedTransformer, \n",
        "    data: Tensor # [batch, pos]\n",
        ") -> None:\n",
        "    \"\"\"Test this model on `data` and print mispredictions\"\"\"\n",
        "    logits = model(data)\n",
        "    sorted_start_pos = LIST_LENGTH + 2\n",
        "    logits = logits[:, (sorted_start_pos-1):-1]\n",
        "    tokens = data[:, sorted_start_pos:].cpu()\n",
        "    preds = logits.argmax(-1).cpu()\n",
        "    mispred_inds = get_diff_row_inds(tokens, preds)\n",
        "    for i in mispred_inds:\n",
        "        print(f\"[{i}] {tokens[i].numpy().tolist()} | {preds[i].numpy().tolist()}\")\n",
        "    print(f\"{len(mispred_inds)}/{len(preds)} ({len(mispred_inds) / len(preds) :.2%})\")"
      ]
    },
    {
      "cell_type": "markdown",
      "metadata": {
        "id": "V5trW5nKhF3I"
      },
      "source": [
        "## Training"
      ]
    },
    {
      "cell_type": "markdown",
      "metadata": {
        "id": "32Hj7N1nhHrI"
      },
      "source": [
        "### Model"
      ]
    },
    {
      "cell_type": "code",
      "execution_count": 8,
      "metadata": {
        "id": "YwIffvImhT4g"
      },
      "outputs": [],
      "source": [
        "cfg = HookedTransformerConfig(\n",
        "    d_model=D_MODEL,\n",
        "    n_layers=N_LAYERS,\n",
        "    n_heads=N_HEADS,\n",
        "    d_head=D_HEAD,\n",
        "    n_ctx=N_CTX,\n",
        "    d_vocab=D_VOCAB,\n",
        "    act_fn=\"relu\",\n",
        "    seed=42,\n",
        "    device=DEVICE,\n",
        "    attn_only=ATTN_ONLY\n",
        ")\n",
        "model = HookedTransformer(cfg, move_to_device=True)"
      ]
    },
    {
      "cell_type": "markdown",
      "metadata": {
        "id": "9vYV7QAd3vCT"
      },
      "source": [
        "### Training setup"
      ]
    },
    {
      "cell_type": "code",
      "execution_count": 9,
      "metadata": {
        "id": "LHBPL3Xw3uAt"
      },
      "outputs": [],
      "source": [
        "@dataclass(frozen=True)\n",
        "class TrainingHistory:\n",
        "    losses: list[float]\n",
        "    train_accuracies: list[float]\n",
        "    val_accuracies: list[float]\n",
        "\n",
        "def converged(val_accs: list[float], n_last: int = 10) -> bool:\n",
        "    return cast(bool, (tensor(val_accs[-n_last:]) == 1).all().item())\n",
        "\n",
        "# Number of epochs\n",
        "n_epochs = 20000\n",
        "\n",
        "# Optimization\n",
        "lr = 1e-3\n",
        "betas = (.9, .999)\n",
        "optim = torch.optim.Adam(model.parameters(), lr=lr, betas=betas)\n",
        "scheduler = torch.optim.lr_scheduler.ReduceLROnPlateau(optim, \"min\", patience=100)\n",
        "\n",
        "# Training data generator\n",
        "train_gen = make_train_gen()\n",
        "\n",
        "def train_model(model: HookedTransformer) -> TrainingHistory:\n",
        "    losses = []\n",
        "    train_accuracies = []\n",
        "    val_accuracies = []\n",
        "\n",
        "    for epoch in range(n_epochs):\n",
        "        tokens = next(train_gen).to(device=DEVICE)\n",
        "        logits = model(tokens)\n",
        "        loss = loss_fn(logits, tokens)\n",
        "        loss.backward()\n",
        "        optim.step()\n",
        "        optim.zero_grad()\n",
        "        scheduler.step(loss)\n",
        "        \n",
        "        if epoch % 100 == 0:\n",
        "            losses.append(loss.item())\n",
        "            train_batch_acc = acc_fn(logits, tokens)\n",
        "            val_acc = validate(model, val_data)\n",
        "            val_loss = loss_fn(model(val_data), val_data)\n",
        "\n",
        "            train_accuracies.append(train_batch_acc)\n",
        "            val_accuracies.append(val_acc)\n",
        "            print(\n",
        "                f\"Epoch {epoch}/{n_epochs} ({epoch / n_epochs:.0%}) : \"\n",
        "                f\"loss = {loss.item():.4f}; {train_batch_acc=:.3%}; \"\n",
        "                f\"{val_acc=:.3%}; lr={scheduler._last_lr[0]}\" #type:ignore\n",
        "            )\n",
        "            # If last 10 recorded val_accuracies are 100%\n",
        "            if converged(val_accuracies):\n",
        "                print(f\"\\nAchieved consistent perfect validation accuracy after {epoch} epochs\")\n",
        "                break\n",
        "    return TrainingHistory(losses, train_accuracies, val_accuracies)\n",
        "\n",
        "def load_model_state(model: HookedTransformer, filename: str) -> None:\n",
        "    assert os.path.isdir(\"models\"), \"Make a directory `models` with model state dicts\"\n",
        "    if not filename.startswith(\"models/\"):\n",
        "        filename = f\"models/{filename}\"\n",
        "    with open(filename, \"rb\") as f:\n",
        "        state_dict = pickle.load(f)\n",
        "    model.load_state_dict(state_dict)"
      ]
    },
    {
      "cell_type": "markdown",
      "metadata": {
        "id": "HXhR2JBjdXkD"
      },
      "source": [
        "### Train or load model"
      ]
    },
    {
      "cell_type": "code",
      "execution_count": 14,
      "metadata": {
        "colab": {
          "base_uri": "https://localhost:8080/"
        },
        "id": "CMH8DwNHdWLA",
        "outputId": "0f6ae6d2-28a2-4b78-d293-0821896a40c8"
      },
      "outputs": [
        {
          "name": "stdout",
          "output_type": "stream",
          "text": [
            "Epoch 0/20000 (0%) : loss = 4.4918; train_batch_acc=0.000%; val_acc=0.000%; lr=0.001\n",
            "Epoch 100/20000 (0%) : loss = 0.3355; train_batch_acc=55.469%; val_acc=56.800%; lr=0.001\n",
            "Epoch 200/20000 (1%) : loss = 0.1063; train_batch_acc=85.938%; val_acc=88.800%; lr=0.001\n",
            "Epoch 300/20000 (2%) : loss = 0.0371; train_batch_acc=97.656%; val_acc=95.800%; lr=0.001\n",
            "Epoch 400/20000 (2%) : loss = 0.0298; train_batch_acc=98.438%; val_acc=98.000%; lr=0.001\n",
            "Epoch 500/20000 (2%) : loss = 0.0135; train_batch_acc=100.000%; val_acc=98.500%; lr=0.001\n",
            "Epoch 600/20000 (3%) : loss = 0.0120; train_batch_acc=99.219%; val_acc=99.600%; lr=0.001\n",
            "Epoch 700/20000 (4%) : loss = 0.0130; train_batch_acc=99.219%; val_acc=99.400%; lr=0.001\n",
            "Epoch 800/20000 (4%) : loss = 0.0094; train_batch_acc=100.000%; val_acc=99.000%; lr=0.001\n",
            "Epoch 900/20000 (4%) : loss = 0.0083; train_batch_acc=99.219%; val_acc=99.400%; lr=0.001\n",
            "Epoch 1000/20000 (5%) : loss = 0.0044; train_batch_acc=100.000%; val_acc=100.000%; lr=0.0001\n",
            "Epoch 1100/20000 (6%) : loss = 0.0041; train_batch_acc=100.000%; val_acc=99.900%; lr=0.0001\n",
            "Epoch 1200/20000 (6%) : loss = 0.0029; train_batch_acc=100.000%; val_acc=100.000%; lr=0.0001\n",
            "Epoch 1300/20000 (6%) : loss = 0.0030; train_batch_acc=100.000%; val_acc=100.000%; lr=0.0001\n",
            "Epoch 1400/20000 (7%) : loss = 0.0031; train_batch_acc=100.000%; val_acc=100.000%; lr=1e-05\n",
            "Epoch 1500/20000 (8%) : loss = 0.0027; train_batch_acc=100.000%; val_acc=100.000%; lr=1e-05\n",
            "Epoch 1600/20000 (8%) : loss = 0.0027; train_batch_acc=100.000%; val_acc=100.000%; lr=1.0000000000000002e-06\n",
            "Epoch 1700/20000 (8%) : loss = 0.0029; train_batch_acc=100.000%; val_acc=100.000%; lr=1.0000000000000002e-07\n",
            "Epoch 1800/20000 (9%) : loss = 0.0036; train_batch_acc=100.000%; val_acc=100.000%; lr=1.0000000000000004e-08\n",
            "Epoch 1900/20000 (10%) : loss = 0.0049; train_batch_acc=99.219%; val_acc=100.000%; lr=1.0000000000000004e-08\n",
            "Epoch 2000/20000 (10%) : loss = 0.0025; train_batch_acc=100.000%; val_acc=100.000%; lr=1.0000000000000004e-08\n",
            "Epoch 2100/20000 (10%) : loss = 0.0031; train_batch_acc=100.000%; val_acc=100.000%; lr=1.0000000000000004e-08\n",
            "\n",
            "Achieved consistent perfect validation accuracy after 2100 epochs\n"
          ]
        }
      ],
      "source": [
        "history = train_model(model)\n",
        "# load_model_state(model, <filename>)"
      ]
    },
    {
      "cell_type": "markdown",
      "metadata": {
        "id": "HABWttcH34dv"
      },
      "source": [
        "### Testing post-training"
      ]
    },
    {
      "cell_type": "code",
      "execution_count": 15,
      "metadata": {
        "colab": {
          "base_uri": "https://localhost:8080/"
        },
        "id": "lakshPyuwdO7",
        "outputId": "2f5ea711-f70d-4af1-9013-c4f52a1783f6"
      },
      "outputs": [
        {
          "name": "stdout",
          "output_type": "stream",
          "text": [
            "Validating on validation data:\n",
            "\tval_acc=100.000%\n",
            "\n",
            "\n",
            "Validating on test data:\n",
            "\ttest_acc=100.000%\n",
            "\n"
          ]
        }
      ],
      "source": [
        "print(\"Validating on validation data:\")\n",
        "val_acc = validate(model, val_data)\n",
        "print(f\"\\t{val_acc=:.3%}\\n\")\n",
        "if val_acc < 1:\n",
        "    show_mispreds(model, val_data)\n",
        "\n",
        "print(\"\\nValidating on test data:\")\n",
        "test_acc = validate(model, test_data)\n",
        "print(f\"\\t{test_acc=:.3%}\\n\")\n",
        "if test_acc < 1:\n",
        "    show_mispreds(model, test_data)"
      ]
    },
    {
      "cell_type": "markdown",
      "metadata": {
        "id": "pNofXtfSQvh2"
      },
      "source": [
        "### Saving trained model"
      ]
    },
    {
      "cell_type": "code",
      "execution_count": 28,
      "metadata": {
        "id": "i9lLO9p1d8mC"
      },
      "outputs": [],
      "source": [
        "def save_model_state_dict(\n",
        "    model: HookedTransformer, \n",
        "    filename: str | None = None\n",
        ") -> None:\n",
        "    if not os.path.isdir(\"models\"):\n",
        "        os.mkdir(\"models\")\n",
        "    if not filename:\n",
        "        timestamp = dt.now().isoformat(\"T\", \"minutes\").replace(\":\", \"-\")\n",
        "        filename = f\"model_state_dict_{timestamp}.pkl\"\n",
        "    with open(f\"models/{filename}\", \"wb\") as f:\n",
        "        pickle.dump(model.state_dict(), f)\n",
        "\n",
        "save_model_state_dict(model)"
      ]
    },
    {
      "cell_type": "code",
      "execution_count": 30,
      "metadata": {
        "colab": {
          "base_uri": "https://localhost:8080/"
        },
        "id": "Xpp4UQG9ql_u",
        "outputId": "bc02330e-f867-4365-b6f0-4cda15c418be"
      },
      "outputs": [
        {
          "data": {
            "text/plain": [
              "['model_state_dict_2023-01-22T08-48.pkl']"
            ]
          },
          "execution_count": 30,
          "metadata": {},
          "output_type": "execute_result"
        }
      ],
      "source": [
        "os.listdir(\"models\")"
      ]
    },
    {
      "cell_type": "markdown",
      "metadata": {
        "id": "Nnfh-Oxk7sQ9"
      },
      "source": [
        "## Investigate the model"
      ]
    },
    {
      "cell_type": "markdown",
      "metadata": {
        "id": "S7po8YMfN4T9"
      },
      "source": [
        "### Attention patterns"
      ]
    },
    {
      "cell_type": "markdown",
      "metadata": {
        "id": "Snkh8IcaNzyy"
      },
      "source": [
        "- \"Normal\" tokens (`[0, 63]`) attend to the tokens that are \"greater\" than them in the total order learned by the transformer. The model picks the one with the greatest score (which almost always is the smallest token bigger than the current token) copies it and proceeds.\n",
        "    - The exception is the final token, whose attention seems random, because its predictions did not impact loss.\n",
        "- The `START` token (`64`) attends only to itself. This seems obvious because being at the beginning of the sequence it has nothing else to attend to (the model is autoregressive). However, we will soon see how \"malformed\" inputs direct its attention.\n",
        "- The `MID` token (`65`) attends to the smallest token. Thus, it can be seen as the start of sequence and the lowest value (\"initial object\")."
      ]
    },
    {
      "cell_type": "code",
      "execution_count": 19,
      "metadata": {
        "colab": {
          "base_uri": "https://localhost:8080/",
          "height": 396
        },
        "id": "kPODH527Rc5h",
        "outputId": "c0a4fa8c-0eb8-46b9-a5d9-cf805a1a5582"
      },
      "outputs": [
        {
          "name": "stdout",
          "output_type": "stream",
          "text": [
            "tensor([64,  5, 13,  9, 19, 58, 65,  5,  9, 13, 19, 58])\n",
            "tensor([[ 5,  9, 13, 19, 58]])\n"
          ]
        },
        {
          "data": {
            "text/html": [
              "<div id=\"circuits-vis-7c2b7ada-6e8f\" style=\"margin: 15px 0;\"/>\n",
              "    <script crossorigin type=\"module\">\n",
              "    import { render, AttentionPatterns } from \"https://unpkg.com/circuitsvis@1.38.1/dist/cdn/esm.js\";\n",
              "    render(\n",
              "      \"circuits-vis-7c2b7ada-6e8f\",\n",
              "      AttentionPatterns,\n",
              "      {\"tokens\": [\"tensor(64)\", \"tensor(5)\", \"tensor(13)\", \"tensor(9)\", \"tensor(19)\", \"tensor(58)\", \"tensor(65)\", \"tensor(5)\", \"tensor(9)\", \"tensor(13)\", \"tensor(19)\", \"tensor(58)\"], \"attention\": [[[1.0, 0.0, 0.0, 0.0, 0.0, 0.0, 0.0, 0.0, 0.0, 0.0, 0.0, 0.0], [0.48678433895111084, 0.5132156014442444, 0.0, 0.0, 0.0, 0.0, 0.0, 0.0, 0.0, 0.0, 0.0, 0.0], [0.46515142917633057, 0.3973367214202881, 0.137511745095253, 0.0, 0.0, 0.0, 0.0, 0.0, 0.0, 0.0, 0.0, 0.0], [0.0008144238963723183, 0.010491868481040001, 0.9862978458404541, 0.0023958194069564342, 0.0, 0.0, 0.0, 0.0, 0.0, 0.0, 0.0, 0.0], [0.28252390027046204, 0.0729898139834404, 0.04301370680332184, 0.2595932185649872, 0.34187936782836914, 0.0, 0.0, 0.0, 0.0, 0.0, 0.0, 0.0], [0.0714956521987915, 0.033719252794981, 0.04340941831469536, 0.019225621595978737, 0.010647663846611977, 0.8215022683143616, 0.0, 0.0, 0.0, 0.0, 0.0, 0.0], [1.28469275750831e-06, 0.798646867275238, 0.03228284791111946, 0.16581015288829803, 0.003256937488913536, 1.0266755907650804e-06, 8.971063607532415e-07, 0.0, 0.0, 0.0, 0.0, 0.0], [0.0004880295891780406, 0.0025627731811255217, 0.22127273678779602, 0.6568233966827393, 0.11722175776958466, 0.0010102168889716268, 0.0005324791418388486, 8.861286187311634e-05, 0.0, 0.0, 0.0, 0.0], [4.583652116707526e-05, 0.004596230573952198, 0.6371976137161255, 0.0064933402463793755, 0.3428041934967041, 0.008383211679756641, 0.00023823721858207136, 3.957109947805293e-05, 0.00020184503227937967, 0.0, 0.0, 0.0], [0.0006404969608411193, 0.005291644483804703, 0.005086280405521393, 0.00025423496845178306, 0.9525078535079956, 0.03413119167089462, 0.001626198529265821, 9.733537444844842e-05, 7.641343472641893e-06, 0.0003571810375433415, 0.0, 0.0], [0.00019057215831708163, 0.00014889694284647703, 6.979457248235121e-05, 1.1126799108751584e-05, 0.0006915194098837674, 0.9987987279891968, 7.247306348290294e-05, 9.40640256885672e-06, 2.3562598983062344e-07, 5.809473009321664e-07, 6.7752944232779555e-06, 0.0], [0.022130552679300308, 0.005545229651033878, 0.03922228142619133, 0.017379384487867355, 0.034311383962631226, 0.6542666554450989, 0.07130028307437897, 0.0023669088259339333, 0.0038808512035757303, 0.007255351170897484, 0.017299948260188103, 0.12504124641418457]]]}\n",
              "    )\n",
              "    </script>"
            ],
            "text/plain": [
              "<circuitsvis.utils.render.RenderedHTML at 0x7fef9f80d910>"
            ]
          },
          "execution_count": 19,
          "metadata": {},
          "output_type": "execute_result"
        }
      ],
      "source": [
        "# Get one input from test_data\n",
        "test_input = test_data[3, :]\n",
        "\n",
        "# Pass through model, get cache and predictions\n",
        "logits, cache_model = model.run_with_cache(test_input, remove_batch_dim=True) \n",
        "preds = logits[:, LIST_LENGTH+1 : -1].argmax(-1)\n",
        "\n",
        "# Get attention pattern and plot it\n",
        "attention_pattern = cache_model[\"pattern\", 0, \"attn\"]\n",
        "tokens_input = list(map(str, test_input))\n",
        "print(test_input)\n",
        "print(preds)\n",
        "\n",
        "cv.attention.attention_patterns(tokens=tokens_input, attention=attention_pattern)"
      ]
    },
    {
      "cell_type": "markdown",
      "metadata": {
        "id": "qHOyIV02Pr6P"
      },
      "source": [
        "Now let's do the some with artificial input"
      ]
    },
    {
      "cell_type": "code",
      "execution_count": 20,
      "metadata": {
        "colab": {
          "base_uri": "https://localhost:8080/",
          "height": 446,
          "referenced_widgets": [
            "2abe90b8b71f4ca3a966a5bb922fd411",
            "45e310f671914c81bee83575587fc064",
            "34687f1c57fc49d8ba8947caff70da7d",
            "d09e17ffb7e741a78a02643faddb2503",
            "e34093bd59754240afa10e856eb875ad",
            "6b1b003a8784433ca3da99daab2428da",
            "5e7f6f7fc9374f4cb88a9c19916d9fec",
            "b8391d5b7a7c4856b1489be2aa197e1e",
            "9dcead6aa2254860b345bc285a7cc3e2",
            "62a7611c868d42ee9d3bd9761a08c33e",
            "cfdc14e31ccc488f9c2173faf8ecb3f5"
          ]
        },
        "id": "3d5w84sGPtCv",
        "outputId": "f568ed77-29a8-44cd-ca07-d795459e7e4a"
      },
      "outputs": [
        {
          "data": {
            "application/vnd.jupyter.widget-view+json": {
              "model_id": "2abe90b8b71f4ca3a966a5bb922fd411",
              "version_major": 2,
              "version_minor": 0
            },
            "text/plain": [
              "  0%|          | 0/5 [00:00<?, ?it/s]"
            ]
          },
          "metadata": {},
          "output_type": "display_data"
        },
        {
          "name": "stdout",
          "output_type": "stream",
          "text": [
            "Sorted artificial input: [2, 6, 20, 50, 59]\n",
            "tensor([64,  6,  2, 59, 50, 20, 65,  2,  6, 20, 50, 59])\n",
            "tensor([[ 2,  6, 20, 50, 59]])\n"
          ]
        },
        {
          "data": {
            "text/html": [
              "<div id=\"circuits-vis-3c6744ee-d0bf\" style=\"margin: 15px 0;\"/>\n",
              "    <script crossorigin type=\"module\">\n",
              "    import { render, AttentionPatterns } from \"https://unpkg.com/circuitsvis@1.38.1/dist/cdn/esm.js\";\n",
              "    render(\n",
              "      \"circuits-vis-3c6744ee-d0bf\",\n",
              "      AttentionPatterns,\n",
              "      {\"tokens\": [\"tensor(64)\", \"tensor(6)\", \"tensor(2)\", \"tensor(59)\", \"tensor(50)\", \"tensor(20)\", \"tensor(65)\", \"tensor(2)\", \"tensor(6)\", \"tensor(20)\", \"tensor(50)\", \"tensor(59)\"], \"attention\": [[[1.0, 0.0, 0.0, 0.0, 0.0, 0.0, 0.0, 0.0, 0.0, 0.0, 0.0, 0.0], [0.675535261631012, 0.32446470856666565, 0.0, 0.0, 0.0, 0.0, 0.0, 0.0, 0.0, 0.0, 0.0, 0.0], [0.061492763459682465, 0.9328263401985168, 0.005680869333446026, 0.0, 0.0, 0.0, 0.0, 0.0, 0.0, 0.0, 0.0, 0.0], [0.006597920320928097, 0.052520737051963806, 0.053870201110839844, 0.8870111107826233, 0.0, 0.0, 0.0, 0.0, 0.0, 0.0, 0.0, 0.0], [0.010361864231526852, 0.031517885625362396, 0.030378643423318863, 0.6967130899429321, 0.2310284674167633, 0.0, 0.0, 0.0, 0.0, 0.0, 0.0, 0.0], [0.3697124421596527, 0.054624151438474655, 0.032270871102809906, 0.253194659948349, 0.219385027885437, 0.0708128809928894, 0.0, 0.0, 0.0, 0.0, 0.0, 0.0], [1.7026316356805182e-07, 0.06918163597583771, 0.930544376373291, 2.0270567802072037e-07, 2.731748622863961e-07, 0.0002732583961915225, 1.1889549256238752e-07, 0.0, 0.0, 0.0, 0.0, 0.0], [0.002811589278280735, 0.8574843406677246, 0.006928289774805307, 0.0022406484931707382, 0.009555766358971596, 0.11639264971017838, 0.0038635104428976774, 0.00072317267768085, 0.0, 0.0, 0.0, 0.0], [0.0065129538998007774, 0.014013214036822319, 0.008377625606954098, 0.020126981660723686, 0.0466601625084877, 0.8960545063018799, 0.005888468120247126, 0.0005188911454752088, 0.0018470771610736847, 0.0, 0.0, 0.0], [0.001885572331957519, 0.0063218483701348305, 0.00043972517596557736, 0.32065287232398987, 0.5432069897651672, 0.1266770362854004, 0.00025343173183500767, 6.357333859341452e-06, 4.527652345132083e-05, 0.0005108274053782225, 0.0, 0.0], [8.753050678933505e-06, 8.978942059911788e-05, 5.3268882766133174e-05, 0.9725390076637268, 0.02659313753247261, 0.00036273032310418785, 0.00015481305308640003, 6.559690518770367e-06, 1.3950159427622566e-06, 3.830735295196064e-06, 0.00018668570555746555, 0.0], [0.027851147577166557, 0.14917629957199097, 0.0634765625, 0.24645353853702545, 0.14492377638816833, 0.0196404829621315, 0.14716269075870514, 0.03800277039408684, 0.046430107206106186, 0.0043001859448850155, 0.05613797530531883, 0.05644454434514046]]]}\n",
              "    )\n",
              "    </script>"
            ],
            "text/plain": [
              "<circuitsvis.utils.render.RenderedHTML at 0x7fef9f80dd30>"
            ]
          },
          "execution_count": 20,
          "metadata": {},
          "output_type": "execute_result"
        }
      ],
      "source": [
        "# Artificial input\n",
        "artificial_input = [6, 2, 59, 50, 20]\n",
        "artificial_input = tensor([[64, *artificial_input, 65]])\n",
        "artificial_input = model.generate(artificial_input,\n",
        "                                  max_new_tokens=LIST_LENGTH,\n",
        "                                  stop_at_eos=False\n",
        "                                  ).clone().ravel()\n",
        "print(\"Sorted artificial input:\", artificial_input.numpy().tolist()[-LIST_LENGTH:])\n",
        "\n",
        "# Pass through model, get cache and predictions\n",
        "logits, cache_model = model.run_with_cache(artificial_input, remove_batch_dim=True) \n",
        "preds = logits[:, LIST_LENGTH+1 : -1].argmax(-1)\n",
        "\n",
        "# Get attention pattern and plot it\n",
        "attention_pattern = cache_model[\"pattern\", 0, \"attn\"]\n",
        "tokens_input = list(map(str, artificial_input))\n",
        "print(artificial_input)\n",
        "print(preds)\n",
        "cv.attention.attention_patterns(tokens=tokens_input, attention=attention_pattern)"
      ]
    },
    {
      "cell_type": "markdown",
      "metadata": {
        "id": "jvw9zHt4ZUeZ"
      },
      "source": [
        "### Corruption tests\n",
        "\n",
        "Now let's corrupt that input and see what happens."
      ]
    },
    {
      "cell_type": "markdown",
      "metadata": {
        "id": "XUQungdLR9-1"
      },
      "source": [
        "#### 1. `START` injection\n",
        "\n",
        "If we inject `START` somewhere later in the sequence, its attention seems to be distributed between bigger tokens? I don't know how to make sense of this but it's definitely not random."
      ]
    },
    {
      "cell_type": "code",
      "execution_count": 24,
      "metadata": {
        "colab": {
          "base_uri": "https://localhost:8080/",
          "height": 414
        },
        "id": "519qev_OSEAU",
        "outputId": "94496a66-fbb3-499f-bc6d-6650924f725d"
      },
      "outputs": [
        {
          "name": "stdout",
          "output_type": "stream",
          "text": [
            "Sorted artificial input: [13, 14, 33, 44, 46]\n",
            "[64, 33, 13, 14, 44, 46, 65, 13, 64, 33, 44, 46]\n",
            "[13, 14, 44, 44, 46]\n"
          ]
        },
        {
          "data": {
            "text/html": [
              "<div id=\"circuits-vis-485c75bd-541f\" style=\"margin: 15px 0;\"/>\n",
              "    <script crossorigin type=\"module\">\n",
              "    import { render, AttentionPatterns } from \"https://unpkg.com/circuitsvis@1.38.1/dist/cdn/esm.js\";\n",
              "    render(\n",
              "      \"circuits-vis-485c75bd-541f\",\n",
              "      AttentionPatterns,\n",
              "      {\"tokens\": [\"tensor(64)\", \"tensor(33)\", \"tensor(13)\", \"tensor(14)\", \"tensor(44)\", \"tensor(46)\", \"tensor(65)\", \"tensor(13)\", \"tensor(64)\", \"tensor(33)\", \"tensor(44)\", \"tensor(46)\"], \"attention\": [[[1.0, 0.0, 0.0, 0.0, 0.0, 0.0, 0.0, 0.0, 0.0, 0.0, 0.0, 0.0], [0.008861822076141834, 0.9911381602287292, 0.0, 0.0, 0.0, 0.0, 0.0, 0.0, 0.0, 0.0, 0.0, 0.0], [0.20687919855117798, 0.7319614887237549, 0.061159275472164154, 0.0, 0.0, 0.0, 0.0, 0.0, 0.0, 0.0, 0.0, 0.0], [0.4717569351196289, 0.416445255279541, 0.03217871114611626, 0.07961910218000412, 0.0, 0.0, 0.0, 0.0, 0.0, 0.0, 0.0, 0.0], [0.4417794346809387, 0.12303530424833298, 0.02387824095785618, 0.02119097113609314, 0.3901160657405853, 0.0, 0.0, 0.0, 0.0, 0.0, 0.0, 0.0], [0.2772120237350464, 0.043510254472494125, 0.04735451936721802, 0.026300672441720963, 0.21375679969787598, 0.3918657898902893, 0.0, 0.0, 0.0, 0.0, 0.0, 0.0], [2.6621579308994114e-05, 0.0007994963671080768, 0.6689698100090027, 0.3300253450870514, 9.999181202147156e-05, 6.009681965224445e-05, 1.8589980754768476e-05, 0.0, 0.0, 0.0, 0.0, 0.0], [0.0001661425776546821, 0.0705207958817482, 0.0033656132873147726, 0.869134247303009, 0.03175527602434158, 0.024725090712308884, 0.0002909540489781648, 4.1987957956735045e-05, 0.0, 0.0, 0.0, 0.0], [0.00015041787992231548, 0.0664508193731308, 0.02252984046936035, 0.03011421114206314, 0.4782055914402008, 0.4019533693790436, 0.00022968262783251703, 0.0002264731883769855, 0.00013950573338661343, 0.0, 0.0, 0.0], [0.00012194151349831372, 0.08961914479732513, 0.015904409810900688, 0.015406211838126183, 0.49685901403427124, 0.3814867436885834, 3.494879274512641e-05, 0.00017320313781965524, 9.671949374023825e-05, 0.000297665101243183, 0.0, 0.0], [0.0013256713282316923, 0.00516324071213603, 0.00017093542555812746, 2.346439396205824e-05, 0.08556216210126877, 0.8938427567481995, 0.004498766735196114, 0.00013836106518283486, 0.006178431678563356, 9.956578287528828e-05, 0.0029965515714138746, 0.0], [0.06283717602491379, 0.054915763437747955, 0.04127465561032295, 0.004663246218115091, 0.14287959039211273, 0.15242452919483185, 0.17566578090190887, 0.0335034616291523, 0.19819103181362152, 0.015038144774734974, 0.05578329414129257, 0.06282337754964828]]]}\n",
              "    )\n",
              "    </script>"
            ],
            "text/plain": [
              "<circuitsvis.utils.render.RenderedHTML at 0x7feee4c56610>"
            ]
          },
          "execution_count": 24,
          "metadata": {},
          "output_type": "execute_result"
        }
      ],
      "source": [
        "start_injection_site = 8\n",
        "test_input_i = 100\n",
        "\n",
        "# Test input\n",
        "test_input = test_data[test_input_i].detach().clone()\n",
        "print(\"Sorted artificial input:\", test_input.tolist()[-LIST_LENGTH:])\n",
        "\n",
        "# Corrupt\n",
        "test_input[start_injection_site] = START_TOKEN_ID\n",
        "\n",
        "# Pass through model, get cache and predictions\n",
        "logits, cache_model = model.run_with_cache(test_input, remove_batch_dim=True) \n",
        "preds = logits[:,LIST_LENGTH+1:-1].argmax(-1)\n",
        "\n",
        "# Get attention pattern and plot it\n",
        "attention_pattern = cache_model[\"pattern\", 0, \"attn\"]\n",
        "tokens_input = list(map(str, list(test_input)))\n",
        "print(test_input.tolist())\n",
        "print(preds.ravel().tolist())\n",
        "cv.attention.attention_patterns(tokens=tokens_input, attention=attention_pattern)"
      ]
    },
    {
      "cell_type": "markdown",
      "metadata": {
        "id": "9TYABOSTayrk"
      },
      "source": [
        "#### 2. `START` deletion\n",
        "\n",
        "Deleting the `START` token negatively impacts the model's ability to sort the list. It makes it more likely to repeat tokens, for example."
      ]
    },
    {
      "cell_type": "code",
      "execution_count": null,
      "metadata": {
        "colab": {
          "base_uri": "https://localhost:8080/",
          "height": 465,
          "referenced_widgets": [
            "4bceb803c5174139bf577ce1d1dcd290",
            "ef9b0ca4297e4b67ba065f547a9f5709",
            "7c40736673a94250ab05a423544d71f7",
            "8c9ca25ccadb4c3489d7f905608bf557",
            "e722899754744e1f9a1b9b6c4309c2a2",
            "8c940190085f4145bf1f2cf8b4f77f02",
            "b699c0f46e094ffdbf3f6b438cbcee37",
            "9a9dc9a3a7cd422ba0c0bafb6cfe1efd",
            "c0c4209530634249a523816b9f231184",
            "7300b82afc8046c39396580cdc92c335",
            "c9b0c599e25447e29a3c64d860a26cb6"
          ]
        },
        "id": "QIOir6yRa3Ik",
        "outputId": "d974d39d-33a4-450b-f5d5-9603bc2daa1a"
      },
      "outputs": [
        {
          "name": "stdout",
          "output_type": "stream",
          "text": [
            "After `START` deletion: [25, 18, 50, 2, 57, 65]\n"
          ]
        },
        {
          "data": {
            "application/vnd.jupyter.widget-view+json": {
              "model_id": "4bceb803c5174139bf577ce1d1dcd290",
              "version_major": 2,
              "version_minor": 0
            },
            "text/plain": [
              "  0%|          | 0/5 [00:00<?, ?it/s]"
            ]
          },
          "metadata": {},
          "output_type": "display_data"
        },
        {
          "name": "stdout",
          "output_type": "stream",
          "text": [
            "Sorted artificial input: [25, 18, 50, 2, 57, 65, 2, 2, 18, 50, 57]\n",
            "tensor([25, 18, 50,  2, 57, 65,  2,  2, 18, 50, 57])\n",
            "tensor([[ 2,  2, 18, 50, 57]])\n"
          ]
        },
        {
          "data": {
            "text/html": [
              "<div id=\"circuits-vis-2fab4f5c-c40c\" style=\"margin: 15px 0;\"/>\n",
              "    <script crossorigin type=\"module\">\n",
              "    import { render, AttentionPatterns } from \"https://unpkg.com/circuitsvis@1.38.1/dist/cdn/esm.js\";\n",
              "    render(\n",
              "      \"circuits-vis-2fab4f5c-c40c\",\n",
              "      AttentionPatterns,\n",
              "      {\"tokens\": [\"tensor(25)\", \"tensor(18)\", \"tensor(50)\", \"tensor(2)\", \"tensor(57)\", \"tensor(65)\", \"tensor(2)\", \"tensor(2)\", \"tensor(18)\", \"tensor(50)\", \"tensor(57)\"], \"attention\": [[[1.0, 0.0, 0.0, 0.0, 0.0, 0.0, 0.0, 0.0, 0.0, 0.0, 0.0], [0.963146448135376, 0.036853544414043427, 0.0, 0.0, 0.0, 0.0, 0.0, 0.0, 0.0, 0.0, 0.0], [0.07163510471582413, 0.022769710049033165, 0.9055951833724976, 0.0, 0.0, 0.0, 0.0, 0.0, 0.0, 0.0, 0.0], [0.6657102108001709, 0.25196564197540283, 0.04538524150848389, 0.0369388610124588, 0.0, 0.0, 0.0, 0.0, 0.0, 0.0, 0.0], [0.05211074650287628, 0.00927675049751997, 0.4017859399318695, 0.029426157474517822, 0.507400393486023, 0.0, 0.0, 0.0, 0.0, 0.0, 0.0], [0.003453914076089859, 0.006411175709217787, 0.0003801367711275816, 0.9885184168815613, 0.00016299248090945184, 0.001073409803211689, 0.0, 0.0, 0.0, 0.0, 0.0], [0.016173522919416428, 0.024098463356494904, 1.7107580788433552e-05, 0.16051727533340454, 4.000103672296973e-06, 3.419801942072809e-05, 0.7991554141044617, 0.0, 0.0, 0.0, 0.0], [0.1605483889579773, 0.7326288223266602, 0.0344034805893898, 0.022986778989434242, 0.006942279636859894, 0.008061910979449749, 0.03188353031873703, 0.002544775605201721, 0.0, 0.0, 0.0], [0.28865185379981995, 0.1575990468263626, 0.3222033977508545, 0.0014332589926198125, 0.16153673827648163, 0.06605783849954605, 0.00015136889123823494, 7.731556979706511e-05, 0.0022892176639288664, 0.0, 0.0], [0.00017701162141747773, 0.004207007586956024, 0.2519695460796356, 0.0007238777470774949, 0.7046316266059875, 0.035058848559856415, 6.331480108201504e-05, 2.5599820219213143e-05, 3.513908086461015e-05, 0.0031079857144504786, 0.0], [2.1686762920580804e-05, 0.00019170496670994908, 0.08042674511671066, 0.00010047644173027948, 0.9067643880844116, 0.0027675856836140156, 1.1774178346968256e-05, 2.501724156900309e-05, 4.957528290105984e-06, 0.0012016467517241836, 0.008484146557748318]]]}\n",
              "    )\n",
              "    </script>"
            ],
            "text/plain": [
              "<circuitsvis.utils.render.RenderedHTML at 0x7fee25b36250>"
            ]
          },
          "execution_count": 74,
          "metadata": {},
          "output_type": "execute_result"
        }
      ],
      "source": [
        "test_input_i = 100\n",
        "\n",
        "# Get test input without START and up to MID inclusive\n",
        "test_input = test_data[test_input_i, 1:LIST_LENGTH+2]\n",
        "print(\"After `START` deletion:\", test_input.numpy().tolist())\n",
        "test_input = model.generate(test_input.reshape(1, -1), \n",
        "                            max_new_tokens=LIST_LENGTH, \n",
        "                            stop_at_eos=False\n",
        "                            ).clone().ravel()\n",
        "print(\"Sorted artificial input:\", test_input.numpy().tolist())\n",
        "\n",
        "\n",
        "# Pass through model, get cache and predictions\n",
        "logits, cache_model = model.run_with_cache(test_input, remove_batch_dim=True) \n",
        "preds = logits[:,-LIST_LENGTH-1:-1].argmax(-1)\n",
        "\n",
        "# Get attention pattern and plot it\n",
        "attention_pattern = cache_model[\"pattern\", 0, \"attn\"]\n",
        "tokens_input = list(map(str, list(test_input)))\n",
        "print(test_input)\n",
        "print(preds)\n",
        "cv.attention.attention_patterns(tokens=tokens_input, attention=attention_pattern)"
      ]
    },
    {
      "cell_type": "markdown",
      "metadata": {
        "id": "TwOaETSudkKm"
      },
      "source": [
        "#### 3. `MID` injection\n",
        "\n",
        "Attention of the `MID` token injected within the sorted sentence seems kinda confused/disorganized."
      ]
    },
    {
      "cell_type": "code",
      "execution_count": null,
      "metadata": {
        "colab": {
          "base_uri": "https://localhost:8080/",
          "height": 414
        },
        "id": "7nncIWxxdob1",
        "outputId": "769dfbeb-0270-4cda-ed99-eea0fec248e4"
      },
      "outputs": [
        {
          "name": "stdout",
          "output_type": "stream",
          "text": [
            "Sorted artificial input: [5, 21, 31, 40, 57]\n",
            "tensor([64, 57,  5, 31, 40, 21, 65,  5, 65, 31, 40, 57])\n",
            "tensor([[ 5, 21,  5, 40, 57]])\n"
          ]
        },
        {
          "data": {
            "text/html": [
              "<div id=\"circuits-vis-47ad319f-4218\" style=\"margin: 15px 0;\"/>\n",
              "    <script crossorigin type=\"module\">\n",
              "    import { render, AttentionPatterns } from \"https://unpkg.com/circuitsvis@1.38.1/dist/cdn/esm.js\";\n",
              "    render(\n",
              "      \"circuits-vis-47ad319f-4218\",\n",
              "      AttentionPatterns,\n",
              "      {\"tokens\": [\"tensor(64)\", \"tensor(57)\", \"tensor(5)\", \"tensor(31)\", \"tensor(40)\", \"tensor(21)\", \"tensor(65)\", \"tensor(5)\", \"tensor(65)\", \"tensor(31)\", \"tensor(40)\", \"tensor(57)\"], \"attention\": [[[1.0, 0.0, 0.0, 0.0, 0.0, 0.0, 0.0, 0.0, 0.0, 0.0, 0.0, 0.0], [0.008095051161944866, 0.9919049739837646, 0.0, 0.0, 0.0, 0.0, 0.0, 0.0, 0.0, 0.0, 0.0, 0.0], [0.8436756730079651, 0.027546251192688942, 0.12877815961837769, 0.0, 0.0, 0.0, 0.0, 0.0, 0.0, 0.0, 0.0, 0.0], [0.014185011386871338, 0.8369500637054443, 0.04563537612557411, 0.10322950780391693, 0.0, 0.0, 0.0, 0.0, 0.0, 0.0, 0.0, 0.0], [0.020849110558629036, 0.6898406147956848, 0.014539327472448349, 0.009837125428020954, 0.26493382453918457, 0.0, 0.0, 0.0, 0.0, 0.0, 0.0, 0.0], [0.7883104085922241, 0.02108672447502613, 0.002322515705600381, 0.14802514016628265, 0.03471270203590393, 0.005542490165680647, 0.0, 0.0, 0.0, 0.0, 0.0, 0.0], [1.648148554522777e-06, 9.90842750070442e-07, 0.9974064230918884, 6.57560012768954e-05, 1.3431421393761411e-05, 0.002510581398382783, 1.1593917861318914e-06, 0.0, 0.0, 0.0, 0.0, 0.0], [0.00395560497418046, 0.0067824069410562515, 0.021159062162041664, 0.2108747512102127, 0.07933247089385986, 0.672869861125946, 0.004311275202780962, 0.000714589492417872, 0.0, 0.0, 0.0, 0.0], [0.00022494929726235569, 0.009583151899278164, 0.569324254989624, 0.04553859680891037, 0.11857394874095917, 0.23927883803844452, 0.00010176497016800568, 0.017043251544237137, 0.00033127772621810436, 0.0, 0.0, 0.0], [0.0003200751671101898, 0.24058911204338074, 0.005339857656508684, 0.10197000950574875, 0.6380078196525574, 0.012236546725034714, 0.00046827210462652147, 8.847324352245778e-05, 0.00011794603778980672, 0.0008618741412647069, 0.0, 0.0], [1.6249627151410095e-05, 0.9899811148643494, 2.9887782147852704e-05, 9.01864332263358e-05, 0.009606958366930485, 0.00016864572535268962, 1.91435101442039e-05, 4.106641426915303e-06, 4.180586984148249e-06, 3.56235801746152e-07, 7.918518531369045e-05, 0.0], [0.0483098067343235, 0.34758490324020386, 0.008791645988821983, 0.042725201696157455, 0.09310484677553177, 0.10315079241991043, 0.16974465548992157, 0.009200658649206161, 0.05262886732816696, 0.006946225184947252, 0.03254520520567894, 0.08526716381311417]]]}\n",
              "    )\n",
              "    </script>"
            ],
            "text/plain": [
              "<circuitsvis.utils.render.RenderedHTML at 0x7fee25c0e700>"
            ]
          },
          "execution_count": 77,
          "metadata": {},
          "output_type": "execute_result"
        }
      ],
      "source": [
        "mid_injection_site = 8\n",
        "test_input_i = 190\n",
        "\n",
        "# Test input\n",
        "test_input = deepcopy(test_data[test_input_i])\n",
        "print(\"Sorted artificial input:\", test_input.numpy().tolist()[-LIST_LENGTH:])\n",
        "\n",
        "# Corrupt\n",
        "test_input[mid_injection_site] = MID_TOKEN_ID\n",
        "\n",
        "# Pass through model, get cache and predictions\n",
        "logits, cache_model = model.run_with_cache(test_input, remove_batch_dim=True) \n",
        "preds = logits[:,-LIST_LENGTH-1:-1].argmax(-1)\n",
        "\n",
        "# Get attention pattern and plot it\n",
        "attention_pattern = cache_model[\"pattern\", 0, \"attn\"]\n",
        "tokens_input = list(map(str, list(test_input)))\n",
        "print(test_input)\n",
        "print(preds)\n",
        "cv.attention.attention_patterns(tokens=tokens_input, attention=attention_pattern)"
      ]
    },
    {
      "cell_type": "markdown",
      "metadata": {
        "id": "p48riDrUeEGX"
      },
      "source": [
        "#### 4. `MID` deletion\n",
        "\n",
        "Upon deleting the `MID`, the model often can still sort the list `[START, *LIST_ + LIST_LENGTH of normal tokens]` (although there is some degree of randomness and it makes some mistakes). It just copies one of the normal tokens and treats it as `MID` token. Most likely it uses positional encoding to keep track of list length."
      ]
    },
    {
      "cell_type": "code",
      "execution_count": null,
      "metadata": {
        "colab": {
          "base_uri": "https://localhost:8080/",
          "height": 465,
          "referenced_widgets": [
            "44337ed2737c44b9b6adfa8aa87d5556",
            "a7f07f5f5c334837a264fcd861007dc9",
            "06e12c891d904557ab63188d78f08d53",
            "414679df58e5410d918783e8b7e55113",
            "4f97eccf3ab34e8caf49ad3d4ad580e5",
            "06587c062d354e87921d03f2ade7eb73",
            "67bbd3dc3dea4df08176f64fd495842d",
            "71f82c9a4e9e403ba9764b68fb623b4d",
            "cd8921d6dd1d4fd9b1456d7e3a8ffcad",
            "23a164bae07442b689dcbc5fb0b01ccd",
            "6ba828f53a394869bf6cf8ec97746038"
          ]
        },
        "id": "0WkW0M14eKSS",
        "outputId": "1ca046c0-3b47-456e-981f-5b3c0877e745"
      },
      "outputs": [
        {
          "name": "stdout",
          "output_type": "stream",
          "text": [
            "After `MID` deletion: [64, 59, 4, 51, 23, 6]\n"
          ]
        },
        {
          "data": {
            "application/vnd.jupyter.widget-view+json": {
              "model_id": "44337ed2737c44b9b6adfa8aa87d5556",
              "version_major": 2,
              "version_minor": 0
            },
            "text/plain": [
              "  0%|          | 0/6 [00:00<?, ?it/s]"
            ]
          },
          "metadata": {},
          "output_type": "display_data"
        },
        {
          "name": "stdout",
          "output_type": "stream",
          "text": [
            "Sorted artificial input: [64, 59, 4, 51, 23, 6, 4, 6, 23, 51, 59, 59]\n",
            "torch.Size([12])\n",
            "Logit preds: [[6, 23, 51, 59, 59]]\n"
          ]
        },
        {
          "data": {
            "text/html": [
              "<div id=\"circuits-vis-95890e41-371d\" style=\"margin: 15px 0;\"/>\n",
              "    <script crossorigin type=\"module\">\n",
              "    import { render, AttentionPatterns } from \"https://unpkg.com/circuitsvis@1.38.1/dist/cdn/esm.js\";\n",
              "    render(\n",
              "      \"circuits-vis-95890e41-371d\",\n",
              "      AttentionPatterns,\n",
              "      {\"tokens\": [\"tensor(64)\", \"tensor(59)\", \"tensor(4)\", \"tensor(51)\", \"tensor(23)\", \"tensor(6)\", \"tensor(4)\", \"tensor(6)\", \"tensor(23)\", \"tensor(51)\", \"tensor(59)\", \"tensor(59)\"], \"attention\": [[[1.0, 0.0, 0.0, 0.0, 0.0, 0.0, 0.0, 0.0, 0.0, 0.0, 0.0, 0.0], [0.0037565575912594795, 0.9962434768676758, 0.0, 0.0, 0.0, 0.0, 0.0, 0.0, 0.0, 0.0, 0.0, 0.0], [0.6407474279403687, 0.09268892556428909, 0.26656365394592285, 0.0, 0.0, 0.0, 0.0, 0.0, 0.0, 0.0, 0.0, 0.0], [0.0379897877573967, 0.8280560970306396, 0.008642167784273624, 0.1253119856119156, 0.0, 0.0, 0.0, 0.0, 0.0, 0.0, 0.0, 0.0], [0.6187418699264526, 0.16480396687984467, 0.012976882979273796, 0.11130670458078384, 0.0921706035733223, 0.0, 0.0, 0.0, 0.0, 0.0, 0.0, 0.0], [0.4142000675201416, 0.009297095239162445, 0.4233216941356659, 0.009573995135724545, 0.117652028799057, 0.025955043733119965, 0.0, 0.0, 0.0, 0.0, 0.0, 0.0], [1.950786099769175e-05, 5.281696303427452e-06, 0.02665860392153263, 4.040574822283816e-06, 0.0015652546426281333, 0.9433138370513916, 0.028433416038751602, 0.0, 0.0, 0.0, 0.0, 0.0], [0.010892607271671295, 0.01766960136592388, 0.04012782499194145, 0.04336865246295929, 0.836261510848999, 0.03153170272707939, 0.01829255372285843, 0.0018554278649389744, 0.0, 0.0, 0.0, 0.0], [0.06281834095716476, 0.329301655292511, 0.004721555858850479, 0.37832656502723694, 0.21076279878616333, 0.009222771041095257, 0.00083752820501104, 0.0004434326256159693, 0.0035652804654091597, 0.0, 0.0, 0.0], [0.0022408142685890198, 0.6594167351722717, 0.0010165446437895298, 0.24633419513702393, 0.05951788276433945, 0.010681451298296452, 0.0003932590188924223, 0.0004907830734737217, 0.0020055738277733326, 0.017902791500091553, 0.0, 0.0], [1.3246435628389008e-05, 0.9349183440208435, 8.50337073643459e-06, 0.055966079235076904, 0.00013722581206820905, 0.0002736446913331747, 2.0154232061031507e-06, 3.165966700180434e-05, 2.7208800474909367e-06, 0.0011334617156535387, 0.007513121236115694, 0.0], [0.02877173200249672, 0.23667478561401367, 0.002425536746159196, 0.24363484978675842, 0.015581576153635979, 0.16183319687843323, 0.006548387464135885, 0.09433472901582718, 0.004902387969195843, 0.05744663253426552, 0.0895792618393898, 0.05826690047979355]]]}\n",
              "    )\n",
              "    </script>"
            ],
            "text/plain": [
              "<circuitsvis.utils.render.RenderedHTML at 0x7fef0b3abb20>"
            ]
          },
          "execution_count": 91,
          "metadata": {},
          "output_type": "execute_result"
        }
      ],
      "source": [
        "test_input_i = 999\n",
        "\n",
        "# Get test input up to MID exclusive\n",
        "test_input = test_data[test_input_i, :LIST_LENGTH+1]\n",
        "print(\"After `MID` deletion:\", test_input.cpu().numpy().tolist())\n",
        "test_input = model.generate(test_input.reshape(1, -1), \n",
        "                            max_new_tokens=LIST_LENGTH+1, \n",
        "                            stop_at_eos=False\n",
        "                            ).clone().ravel()\n",
        "print(\"Sorted artificial input:\", test_input.cpu().numpy().tolist())\n",
        "\n",
        "print(test_input.shape)\n",
        "\n",
        "# Pass through model, get cache and predictions\n",
        "logits, cache_model = model.run_with_cache(test_input, remove_batch_dim=True) \n",
        "preds = logits[:,-LIST_LENGTH-1:-1].argmax(-1)\n",
        "\n",
        "# Get attention pattern and plot it\n",
        "attention_pattern = cache_model[\"pattern\", 0, \"attn\"]\n",
        "tokens_input = list(map(str, list(test_input)))\n",
        "print(\"Logit preds:\", preds.cpu().numpy().tolist())\n",
        "cv.attention.attention_patterns(tokens=tokens_input, attention=attention_pattern)"
      ]
    },
    {
      "cell_type": "markdown",
      "metadata": {
        "id": "Xfl4GmzrSB6B"
      },
      "source": [
        "### Looking at weights"
      ]
    },
    {
      "attachments": {},
      "cell_type": "markdown",
      "metadata": {
        "id": "lOu-1RsJgzYF"
      },
      "source": [
        "We embed all `D_VOCAB` tokens, obtaining the matrix `all_token_embeddings` of shape `[D_VOCAB D_MODEL]`. We multiply it with matrices of weights for keys and queries from the (only) attention and multiply these results again in order to obtain the map that queries of each token (x axis) tend to pay to keys of other tokens preceeding them (y axis).\n",
        "\n",
        "We can observe several things:\n",
        "\n",
        "- Tokens tend to pay the most attention to their most immediate followers (in their total ordering) and very little attention, hence the bright yellow hue below the main diagonal.\n",
        "- `START` token's attention seems kind of random.\n",
        "- `MID` token's attention is inversely proportional to the token's position in the ordering (i.e. number magnitude).\n",
        "\n",
        "Note that this matrix/heatmap is not symmetrical, since how much attention token X pays to token Y may be (and in this case is) different from how much attention token Y pays to token X.\n",
        "\n",
        "Of course, this is an approximation: we didn't take into account the positional encoding."
      ]
    },
    {
      "cell_type": "code",
      "execution_count": null,
      "metadata": {
        "colab": {
          "base_uri": "https://localhost:8080/",
          "height": 441
        },
        "id": "zJvHlG6VmGJr",
        "outputId": "142bbcf6-c274-4a74-f446-945ef09b02d8"
      },
      "outputs": [
        {
          "data": {
            "image/png": "[encoded data removed]",
            "text/plain": [
              "<Figure size 432x432 with 1 Axes>"
            ]
          },
          "metadata": {
            "needs_background": "light"
          },
          "output_type": "display_data"
        }
      ],
      "source": [
        "attn = model.blocks[0].attn\n",
        "all_token_embeddings = model.embed(range(D_VOCAB))\n",
        "\n",
        "embeddings_key = einsum(\"d_vocab d_model, n_heads d_model d_head -> n_heads d_vocab d_head\", \n",
        "                        all_token_embeddings, attn.W_K) \n",
        "embeddings_query = einsum(\"d_vocab d_model, n_heads d_model d_head -> n_heads d_vocab d_head\", \n",
        "                          all_token_embeddings, attn.W_Q) \n",
        "\n",
        "qk_circuit_attn_heatmap = einsum(\n",
        "    \"n_heads d_vocab_q d_head, n_heads d_vocab_k d_head -> ... d_vocab_q d_vocab_k\", \n",
        "    embeddings_query, embeddings_key\n",
        "    ).detach().cpu().numpy()\n",
        "fig, ax = plt.subplots(figsize=(6, 6))\n",
        "ax.imshow(qk_circuit_attn_heatmap, cmap=\"hot\", interpolation=\"nearest\")\n",
        "plt.tight_layout()\n"
      ]
    }
  ],
  "metadata": {
    "colab": {
      "collapsed_sections": [
        "PBe5K-JpHXFs"
      ],
      "provenance": []
    },
    "kernelspec": {
      "display_name": "Python 3",
      "language": "python",
      "name": "python3"
    },
    "language_info": {
      "name": "python",
      "version": "3.10.6 (main, Nov 14 2022, 16:10:14) [GCC 11.3.0]"
    },
    "vscode": {
      "interpreter": {
        "hash": "916dbcbb3f70747c44a77c7bcd40155683ae19c65e1c03b4aa3499c5328201f1"
      }
    },
    "widgets": {
      "application/vnd.jupyter.widget-state+json": {
        "06587c062d354e87921d03f2ade7eb73": {
          "model_module": "@jupyter-widgets/base",
          "model_module_version": "1.2.0",
          "model_name": "LayoutModel",
          "state": {
            "_model_module": "@jupyter-widgets/base",
            "_model_module_version": "1.2.0",
            "_model_name": "LayoutModel",
            "_view_count": null,
            "_view_module": "@jupyter-widgets/base",
            "_view_module_version": "1.2.0",
            "_view_name": "LayoutView",
            "align_content": null,
            "align_items": null,
            "align_self": null,
            "border": null,
            "bottom": null,
            "display": null,
            "flex": null,
            "flex_flow": null,
            "grid_area": null,
            "grid_auto_columns": null,
            "grid_auto_flow": null,
            "grid_auto_rows": null,
            "grid_column": null,
            "grid_gap": null,
            "grid_row": null,
            "grid_template_areas": null,
            "grid_template_columns": null,
            "grid_template_rows": null,
            "height": null,
            "justify_content": null,
            "justify_items": null,
            "left": null,
            "margin": null,
            "max_height": null,
            "max_width": null,
            "min_height": null,
            "min_width": null,
            "object_fit": null,
            "object_position": null,
            "order": null,
            "overflow": null,
            "overflow_x": null,
            "overflow_y": null,
            "padding": null,
            "right": null,
            "top": null,
            "visibility": null,
            "width": null
          }
        },
        "06e12c891d904557ab63188d78f08d53": {
          "model_module": "@jupyter-widgets/controls",
          "model_module_version": "1.5.0",
          "model_name": "FloatProgressModel",
          "state": {
            "_dom_classes": [],
            "_model_module": "@jupyter-widgets/controls",
            "_model_module_version": "1.5.0",
            "_model_name": "FloatProgressModel",
            "_view_count": null,
            "_view_module": "@jupyter-widgets/controls",
            "_view_module_version": "1.5.0",
            "_view_name": "ProgressView",
            "bar_style": "success",
            "description": "",
            "description_tooltip": null,
            "layout": "IPY_MODEL_71f82c9a4e9e403ba9764b68fb623b4d",
            "max": 6,
            "min": 0,
            "orientation": "horizontal",
            "style": "IPY_MODEL_cd8921d6dd1d4fd9b1456d7e3a8ffcad",
            "value": 6
          }
        },
        "23a164bae07442b689dcbc5fb0b01ccd": {
          "model_module": "@jupyter-widgets/base",
          "model_module_version": "1.2.0",
          "model_name": "LayoutModel",
          "state": {
            "_model_module": "@jupyter-widgets/base",
            "_model_module_version": "1.2.0",
            "_model_name": "LayoutModel",
            "_view_count": null,
            "_view_module": "@jupyter-widgets/base",
            "_view_module_version": "1.2.0",
            "_view_name": "LayoutView",
            "align_content": null,
            "align_items": null,
            "align_self": null,
            "border": null,
            "bottom": null,
            "display": null,
            "flex": null,
            "flex_flow": null,
            "grid_area": null,
            "grid_auto_columns": null,
            "grid_auto_flow": null,
            "grid_auto_rows": null,
            "grid_column": null,
            "grid_gap": null,
            "grid_row": null,
            "grid_template_areas": null,
            "grid_template_columns": null,
            "grid_template_rows": null,
            "height": null,
            "justify_content": null,
            "justify_items": null,
            "left": null,
            "margin": null,
            "max_height": null,
            "max_width": null,
            "min_height": null,
            "min_width": null,
            "object_fit": null,
            "object_position": null,
            "order": null,
            "overflow": null,
            "overflow_x": null,
            "overflow_y": null,
            "padding": null,
            "right": null,
            "top": null,
            "visibility": null,
            "width": null
          }
        },
        "2abe90b8b71f4ca3a966a5bb922fd411": {
          "model_module": "@jupyter-widgets/controls",
          "model_module_version": "1.5.0",
          "model_name": "HBoxModel",
          "state": {
            "_dom_classes": [],
            "_model_module": "@jupyter-widgets/controls",
            "_model_module_version": "1.5.0",
            "_model_name": "HBoxModel",
            "_view_count": null,
            "_view_module": "@jupyter-widgets/controls",
            "_view_module_version": "1.5.0",
            "_view_name": "HBoxView",
            "box_style": "",
            "children": [
              "IPY_MODEL_45e310f671914c81bee83575587fc064",
              "IPY_MODEL_34687f1c57fc49d8ba8947caff70da7d",
              "IPY_MODEL_d09e17ffb7e741a78a02643faddb2503"
            ],
            "layout": "IPY_MODEL_e34093bd59754240afa10e856eb875ad"
          }
        },
        "34687f1c57fc49d8ba8947caff70da7d": {
          "model_module": "@jupyter-widgets/controls",
          "model_module_version": "1.5.0",
          "model_name": "FloatProgressModel",
          "state": {
            "_dom_classes": [],
            "_model_module": "@jupyter-widgets/controls",
            "_model_module_version": "1.5.0",
            "_model_name": "FloatProgressModel",
            "_view_count": null,
            "_view_module": "@jupyter-widgets/controls",
            "_view_module_version": "1.5.0",
            "_view_name": "ProgressView",
            "bar_style": "success",
            "description": "",
            "description_tooltip": null,
            "layout": "IPY_MODEL_b8391d5b7a7c4856b1489be2aa197e1e",
            "max": 5,
            "min": 0,
            "orientation": "horizontal",
            "style": "IPY_MODEL_9dcead6aa2254860b345bc285a7cc3e2",
            "value": 5
          }
        },
        "414679df58e5410d918783e8b7e55113": {
          "model_module": "@jupyter-widgets/controls",
          "model_module_version": "1.5.0",
          "model_name": "HTMLModel",
          "state": {
            "_dom_classes": [],
            "_model_module": "@jupyter-widgets/controls",
            "_model_module_version": "1.5.0",
            "_model_name": "HTMLModel",
            "_view_count": null,
            "_view_module": "@jupyter-widgets/controls",
            "_view_module_version": "1.5.0",
            "_view_name": "HTMLView",
            "description": "",
            "description_tooltip": null,
            "layout": "IPY_MODEL_23a164bae07442b689dcbc5fb0b01ccd",
            "placeholder": "​",
            "style": "IPY_MODEL_6ba828f53a394869bf6cf8ec97746038",
            "value": " 6/6 [00:00&lt;00:00,  1.58it/s]"
          }
        },
        "44337ed2737c44b9b6adfa8aa87d5556": {
          "model_module": "@jupyter-widgets/controls",
          "model_module_version": "1.5.0",
          "model_name": "HBoxModel",
          "state": {
            "_dom_classes": [],
            "_model_module": "@jupyter-widgets/controls",
            "_model_module_version": "1.5.0",
            "_model_name": "HBoxModel",
            "_view_count": null,
            "_view_module": "@jupyter-widgets/controls",
            "_view_module_version": "1.5.0",
            "_view_name": "HBoxView",
            "box_style": "",
            "children": [
              "IPY_MODEL_a7f07f5f5c334837a264fcd861007dc9",
              "IPY_MODEL_06e12c891d904557ab63188d78f08d53",
              "IPY_MODEL_414679df58e5410d918783e8b7e55113"
            ],
            "layout": "IPY_MODEL_4f97eccf3ab34e8caf49ad3d4ad580e5"
          }
        },
        "45e310f671914c81bee83575587fc064": {
          "model_module": "@jupyter-widgets/controls",
          "model_module_version": "1.5.0",
          "model_name": "HTMLModel",
          "state": {
            "_dom_classes": [],
            "_model_module": "@jupyter-widgets/controls",
            "_model_module_version": "1.5.0",
            "_model_name": "HTMLModel",
            "_view_count": null,
            "_view_module": "@jupyter-widgets/controls",
            "_view_module_version": "1.5.0",
            "_view_name": "HTMLView",
            "description": "",
            "description_tooltip": null,
            "layout": "IPY_MODEL_6b1b003a8784433ca3da99daab2428da",
            "placeholder": "​",
            "style": "IPY_MODEL_5e7f6f7fc9374f4cb88a9c19916d9fec",
            "value": "100%"
          }
        },
        "4bceb803c5174139bf577ce1d1dcd290": {
          "model_module": "@jupyter-widgets/controls",
          "model_module_version": "1.5.0",
          "model_name": "HBoxModel",
          "state": {
            "_dom_classes": [],
            "_model_module": "@jupyter-widgets/controls",
            "_model_module_version": "1.5.0",
            "_model_name": "HBoxModel",
            "_view_count": null,
            "_view_module": "@jupyter-widgets/controls",
            "_view_module_version": "1.5.0",
            "_view_name": "HBoxView",
            "box_style": "",
            "children": [
              "IPY_MODEL_ef9b0ca4297e4b67ba065f547a9f5709",
              "IPY_MODEL_7c40736673a94250ab05a423544d71f7",
              "IPY_MODEL_8c9ca25ccadb4c3489d7f905608bf557"
            ],
            "layout": "IPY_MODEL_e722899754744e1f9a1b9b6c4309c2a2"
          }
        },
        "4f97eccf3ab34e8caf49ad3d4ad580e5": {
          "model_module": "@jupyter-widgets/base",
          "model_module_version": "1.2.0",
          "model_name": "LayoutModel",
          "state": {
            "_model_module": "@jupyter-widgets/base",
            "_model_module_version": "1.2.0",
            "_model_name": "LayoutModel",
            "_view_count": null,
            "_view_module": "@jupyter-widgets/base",
            "_view_module_version": "1.2.0",
            "_view_name": "LayoutView",
            "align_content": null,
            "align_items": null,
            "align_self": null,
            "border": null,
            "bottom": null,
            "display": null,
            "flex": null,
            "flex_flow": null,
            "grid_area": null,
            "grid_auto_columns": null,
            "grid_auto_flow": null,
            "grid_auto_rows": null,
            "grid_column": null,
            "grid_gap": null,
            "grid_row": null,
            "grid_template_areas": null,
            "grid_template_columns": null,
            "grid_template_rows": null,
            "height": null,
            "justify_content": null,
            "justify_items": null,
            "left": null,
            "margin": null,
            "max_height": null,
            "max_width": null,
            "min_height": null,
            "min_width": null,
            "object_fit": null,
            "object_position": null,
            "order": null,
            "overflow": null,
            "overflow_x": null,
            "overflow_y": null,
            "padding": null,
            "right": null,
            "top": null,
            "visibility": null,
            "width": null
          }
        },
        "5e7f6f7fc9374f4cb88a9c19916d9fec": {
          "model_module": "@jupyter-widgets/controls",
          "model_module_version": "1.5.0",
          "model_name": "DescriptionStyleModel",
          "state": {
            "_model_module": "@jupyter-widgets/controls",
            "_model_module_version": "1.5.0",
            "_model_name": "DescriptionStyleModel",
            "_view_count": null,
            "_view_module": "@jupyter-widgets/base",
            "_view_module_version": "1.2.0",
            "_view_name": "StyleView",
            "description_width": ""
          }
        },
        "62a7611c868d42ee9d3bd9761a08c33e": {
          "model_module": "@jupyter-widgets/base",
          "model_module_version": "1.2.0",
          "model_name": "LayoutModel",
          "state": {
            "_model_module": "@jupyter-widgets/base",
            "_model_module_version": "1.2.0",
            "_model_name": "LayoutModel",
            "_view_count": null,
            "_view_module": "@jupyter-widgets/base",
            "_view_module_version": "1.2.0",
            "_view_name": "LayoutView",
            "align_content": null,
            "align_items": null,
            "align_self": null,
            "border": null,
            "bottom": null,
            "display": null,
            "flex": null,
            "flex_flow": null,
            "grid_area": null,
            "grid_auto_columns": null,
            "grid_auto_flow": null,
            "grid_auto_rows": null,
            "grid_column": null,
            "grid_gap": null,
            "grid_row": null,
            "grid_template_areas": null,
            "grid_template_columns": null,
            "grid_template_rows": null,
            "height": null,
            "justify_content": null,
            "justify_items": null,
            "left": null,
            "margin": null,
            "max_height": null,
            "max_width": null,
            "min_height": null,
            "min_width": null,
            "object_fit": null,
            "object_position": null,
            "order": null,
            "overflow": null,
            "overflow_x": null,
            "overflow_y": null,
            "padding": null,
            "right": null,
            "top": null,
            "visibility": null,
            "width": null
          }
        },
        "67bbd3dc3dea4df08176f64fd495842d": {
          "model_module": "@jupyter-widgets/controls",
          "model_module_version": "1.5.0",
          "model_name": "DescriptionStyleModel",
          "state": {
            "_model_module": "@jupyter-widgets/controls",
            "_model_module_version": "1.5.0",
            "_model_name": "DescriptionStyleModel",
            "_view_count": null,
            "_view_module": "@jupyter-widgets/base",
            "_view_module_version": "1.2.0",
            "_view_name": "StyleView",
            "description_width": ""
          }
        },
        "6b1b003a8784433ca3da99daab2428da": {
          "model_module": "@jupyter-widgets/base",
          "model_module_version": "1.2.0",
          "model_name": "LayoutModel",
          "state": {
            "_model_module": "@jupyter-widgets/base",
            "_model_module_version": "1.2.0",
            "_model_name": "LayoutModel",
            "_view_count": null,
            "_view_module": "@jupyter-widgets/base",
            "_view_module_version": "1.2.0",
            "_view_name": "LayoutView",
            "align_content": null,
            "align_items": null,
            "align_self": null,
            "border": null,
            "bottom": null,
            "display": null,
            "flex": null,
            "flex_flow": null,
            "grid_area": null,
            "grid_auto_columns": null,
            "grid_auto_flow": null,
            "grid_auto_rows": null,
            "grid_column": null,
            "grid_gap": null,
            "grid_row": null,
            "grid_template_areas": null,
            "grid_template_columns": null,
            "grid_template_rows": null,
            "height": null,
            "justify_content": null,
            "justify_items": null,
            "left": null,
            "margin": null,
            "max_height": null,
            "max_width": null,
            "min_height": null,
            "min_width": null,
            "object_fit": null,
            "object_position": null,
            "order": null,
            "overflow": null,
            "overflow_x": null,
            "overflow_y": null,
            "padding": null,
            "right": null,
            "top": null,
            "visibility": null,
            "width": null
          }
        },
        "6ba828f53a394869bf6cf8ec97746038": {
          "model_module": "@jupyter-widgets/controls",
          "model_module_version": "1.5.0",
          "model_name": "DescriptionStyleModel",
          "state": {
            "_model_module": "@jupyter-widgets/controls",
            "_model_module_version": "1.5.0",
            "_model_name": "DescriptionStyleModel",
            "_view_count": null,
            "_view_module": "@jupyter-widgets/base",
            "_view_module_version": "1.2.0",
            "_view_name": "StyleView",
            "description_width": ""
          }
        },
        "71f82c9a4e9e403ba9764b68fb623b4d": {
          "model_module": "@jupyter-widgets/base",
          "model_module_version": "1.2.0",
          "model_name": "LayoutModel",
          "state": {
            "_model_module": "@jupyter-widgets/base",
            "_model_module_version": "1.2.0",
            "_model_name": "LayoutModel",
            "_view_count": null,
            "_view_module": "@jupyter-widgets/base",
            "_view_module_version": "1.2.0",
            "_view_name": "LayoutView",
            "align_content": null,
            "align_items": null,
            "align_self": null,
            "border": null,
            "bottom": null,
            "display": null,
            "flex": null,
            "flex_flow": null,
            "grid_area": null,
            "grid_auto_columns": null,
            "grid_auto_flow": null,
            "grid_auto_rows": null,
            "grid_column": null,
            "grid_gap": null,
            "grid_row": null,
            "grid_template_areas": null,
            "grid_template_columns": null,
            "grid_template_rows": null,
            "height": null,
            "justify_content": null,
            "justify_items": null,
            "left": null,
            "margin": null,
            "max_height": null,
            "max_width": null,
            "min_height": null,
            "min_width": null,
            "object_fit": null,
            "object_position": null,
            "order": null,
            "overflow": null,
            "overflow_x": null,
            "overflow_y": null,
            "padding": null,
            "right": null,
            "top": null,
            "visibility": null,
            "width": null
          }
        },
        "7300b82afc8046c39396580cdc92c335": {
          "model_module": "@jupyter-widgets/base",
          "model_module_version": "1.2.0",
          "model_name": "LayoutModel",
          "state": {
            "_model_module": "@jupyter-widgets/base",
            "_model_module_version": "1.2.0",
            "_model_name": "LayoutModel",
            "_view_count": null,
            "_view_module": "@jupyter-widgets/base",
            "_view_module_version": "1.2.0",
            "_view_name": "LayoutView",
            "align_content": null,
            "align_items": null,
            "align_self": null,
            "border": null,
            "bottom": null,
            "display": null,
            "flex": null,
            "flex_flow": null,
            "grid_area": null,
            "grid_auto_columns": null,
            "grid_auto_flow": null,
            "grid_auto_rows": null,
            "grid_column": null,
            "grid_gap": null,
            "grid_row": null,
            "grid_template_areas": null,
            "grid_template_columns": null,
            "grid_template_rows": null,
            "height": null,
            "justify_content": null,
            "justify_items": null,
            "left": null,
            "margin": null,
            "max_height": null,
            "max_width": null,
            "min_height": null,
            "min_width": null,
            "object_fit": null,
            "object_position": null,
            "order": null,
            "overflow": null,
            "overflow_x": null,
            "overflow_y": null,
            "padding": null,
            "right": null,
            "top": null,
            "visibility": null,
            "width": null
          }
        },
        "7c40736673a94250ab05a423544d71f7": {
          "model_module": "@jupyter-widgets/controls",
          "model_module_version": "1.5.0",
          "model_name": "FloatProgressModel",
          "state": {
            "_dom_classes": [],
            "_model_module": "@jupyter-widgets/controls",
            "_model_module_version": "1.5.0",
            "_model_name": "FloatProgressModel",
            "_view_count": null,
            "_view_module": "@jupyter-widgets/controls",
            "_view_module_version": "1.5.0",
            "_view_name": "ProgressView",
            "bar_style": "success",
            "description": "",
            "description_tooltip": null,
            "layout": "IPY_MODEL_9a9dc9a3a7cd422ba0c0bafb6cfe1efd",
            "max": 5,
            "min": 0,
            "orientation": "horizontal",
            "style": "IPY_MODEL_c0c4209530634249a523816b9f231184",
            "value": 5
          }
        },
        "8c940190085f4145bf1f2cf8b4f77f02": {
          "model_module": "@jupyter-widgets/base",
          "model_module_version": "1.2.0",
          "model_name": "LayoutModel",
          "state": {
            "_model_module": "@jupyter-widgets/base",
            "_model_module_version": "1.2.0",
            "_model_name": "LayoutModel",
            "_view_count": null,
            "_view_module": "@jupyter-widgets/base",
            "_view_module_version": "1.2.0",
            "_view_name": "LayoutView",
            "align_content": null,
            "align_items": null,
            "align_self": null,
            "border": null,
            "bottom": null,
            "display": null,
            "flex": null,
            "flex_flow": null,
            "grid_area": null,
            "grid_auto_columns": null,
            "grid_auto_flow": null,
            "grid_auto_rows": null,
            "grid_column": null,
            "grid_gap": null,
            "grid_row": null,
            "grid_template_areas": null,
            "grid_template_columns": null,
            "grid_template_rows": null,
            "height": null,
            "justify_content": null,
            "justify_items": null,
            "left": null,
            "margin": null,
            "max_height": null,
            "max_width": null,
            "min_height": null,
            "min_width": null,
            "object_fit": null,
            "object_position": null,
            "order": null,
            "overflow": null,
            "overflow_x": null,
            "overflow_y": null,
            "padding": null,
            "right": null,
            "top": null,
            "visibility": null,
            "width": null
          }
        },
        "8c9ca25ccadb4c3489d7f905608bf557": {
          "model_module": "@jupyter-widgets/controls",
          "model_module_version": "1.5.0",
          "model_name": "HTMLModel",
          "state": {
            "_dom_classes": [],
            "_model_module": "@jupyter-widgets/controls",
            "_model_module_version": "1.5.0",
            "_model_name": "HTMLModel",
            "_view_count": null,
            "_view_module": "@jupyter-widgets/controls",
            "_view_module_version": "1.5.0",
            "_view_name": "HTMLView",
            "description": "",
            "description_tooltip": null,
            "layout": "IPY_MODEL_7300b82afc8046c39396580cdc92c335",
            "placeholder": "​",
            "style": "IPY_MODEL_c9b0c599e25447e29a3c64d860a26cb6",
            "value": " 5/5 [00:00&lt;00:00, 52.87it/s]"
          }
        },
        "9a9dc9a3a7cd422ba0c0bafb6cfe1efd": {
          "model_module": "@jupyter-widgets/base",
          "model_module_version": "1.2.0",
          "model_name": "LayoutModel",
          "state": {
            "_model_module": "@jupyter-widgets/base",
            "_model_module_version": "1.2.0",
            "_model_name": "LayoutModel",
            "_view_count": null,
            "_view_module": "@jupyter-widgets/base",
            "_view_module_version": "1.2.0",
            "_view_name": "LayoutView",
            "align_content": null,
            "align_items": null,
            "align_self": null,
            "border": null,
            "bottom": null,
            "display": null,
            "flex": null,
            "flex_flow": null,
            "grid_area": null,
            "grid_auto_columns": null,
            "grid_auto_flow": null,
            "grid_auto_rows": null,
            "grid_column": null,
            "grid_gap": null,
            "grid_row": null,
            "grid_template_areas": null,
            "grid_template_columns": null,
            "grid_template_rows": null,
            "height": null,
            "justify_content": null,
            "justify_items": null,
            "left": null,
            "margin": null,
            "max_height": null,
            "max_width": null,
            "min_height": null,
            "min_width": null,
            "object_fit": null,
            "object_position": null,
            "order": null,
            "overflow": null,
            "overflow_x": null,
            "overflow_y": null,
            "padding": null,
            "right": null,
            "top": null,
            "visibility": null,
            "width": null
          }
        },
        "9dcead6aa2254860b345bc285a7cc3e2": {
          "model_module": "@jupyter-widgets/controls",
          "model_module_version": "1.5.0",
          "model_name": "ProgressStyleModel",
          "state": {
            "_model_module": "@jupyter-widgets/controls",
            "_model_module_version": "1.5.0",
            "_model_name": "ProgressStyleModel",
            "_view_count": null,
            "_view_module": "@jupyter-widgets/base",
            "_view_module_version": "1.2.0",
            "_view_name": "StyleView",
            "bar_color": null,
            "description_width": ""
          }
        },
        "a7f07f5f5c334837a264fcd861007dc9": {
          "model_module": "@jupyter-widgets/controls",
          "model_module_version": "1.5.0",
          "model_name": "HTMLModel",
          "state": {
            "_dom_classes": [],
            "_model_module": "@jupyter-widgets/controls",
            "_model_module_version": "1.5.0",
            "_model_name": "HTMLModel",
            "_view_count": null,
            "_view_module": "@jupyter-widgets/controls",
            "_view_module_version": "1.5.0",
            "_view_name": "HTMLView",
            "description": "",
            "description_tooltip": null,
            "layout": "IPY_MODEL_06587c062d354e87921d03f2ade7eb73",
            "placeholder": "​",
            "style": "IPY_MODEL_67bbd3dc3dea4df08176f64fd495842d",
            "value": "100%"
          }
        },
        "b699c0f46e094ffdbf3f6b438cbcee37": {
          "model_module": "@jupyter-widgets/controls",
          "model_module_version": "1.5.0",
          "model_name": "DescriptionStyleModel",
          "state": {
            "_model_module": "@jupyter-widgets/controls",
            "_model_module_version": "1.5.0",
            "_model_name": "DescriptionStyleModel",
            "_view_count": null,
            "_view_module": "@jupyter-widgets/base",
            "_view_module_version": "1.2.0",
            "_view_name": "StyleView",
            "description_width": ""
          }
        },
        "b8391d5b7a7c4856b1489be2aa197e1e": {
          "model_module": "@jupyter-widgets/base",
          "model_module_version": "1.2.0",
          "model_name": "LayoutModel",
          "state": {
            "_model_module": "@jupyter-widgets/base",
            "_model_module_version": "1.2.0",
            "_model_name": "LayoutModel",
            "_view_count": null,
            "_view_module": "@jupyter-widgets/base",
            "_view_module_version": "1.2.0",
            "_view_name": "LayoutView",
            "align_content": null,
            "align_items": null,
            "align_self": null,
            "border": null,
            "bottom": null,
            "display": null,
            "flex": null,
            "flex_flow": null,
            "grid_area": null,
            "grid_auto_columns": null,
            "grid_auto_flow": null,
            "grid_auto_rows": null,
            "grid_column": null,
            "grid_gap": null,
            "grid_row": null,
            "grid_template_areas": null,
            "grid_template_columns": null,
            "grid_template_rows": null,
            "height": null,
            "justify_content": null,
            "justify_items": null,
            "left": null,
            "margin": null,
            "max_height": null,
            "max_width": null,
            "min_height": null,
            "min_width": null,
            "object_fit": null,
            "object_position": null,
            "order": null,
            "overflow": null,
            "overflow_x": null,
            "overflow_y": null,
            "padding": null,
            "right": null,
            "top": null,
            "visibility": null,
            "width": null
          }
        },
        "c0c4209530634249a523816b9f231184": {
          "model_module": "@jupyter-widgets/controls",
          "model_module_version": "1.5.0",
          "model_name": "ProgressStyleModel",
          "state": {
            "_model_module": "@jupyter-widgets/controls",
            "_model_module_version": "1.5.0",
            "_model_name": "ProgressStyleModel",
            "_view_count": null,
            "_view_module": "@jupyter-widgets/base",
            "_view_module_version": "1.2.0",
            "_view_name": "StyleView",
            "bar_color": null,
            "description_width": ""
          }
        },
        "c9b0c599e25447e29a3c64d860a26cb6": {
          "model_module": "@jupyter-widgets/controls",
          "model_module_version": "1.5.0",
          "model_name": "DescriptionStyleModel",
          "state": {
            "_model_module": "@jupyter-widgets/controls",
            "_model_module_version": "1.5.0",
            "_model_name": "DescriptionStyleModel",
            "_view_count": null,
            "_view_module": "@jupyter-widgets/base",
            "_view_module_version": "1.2.0",
            "_view_name": "StyleView",
            "description_width": ""
          }
        },
        "cd8921d6dd1d4fd9b1456d7e3a8ffcad": {
          "model_module": "@jupyter-widgets/controls",
          "model_module_version": "1.5.0",
          "model_name": "ProgressStyleModel",
          "state": {
            "_model_module": "@jupyter-widgets/controls",
            "_model_module_version": "1.5.0",
            "_model_name": "ProgressStyleModel",
            "_view_count": null,
            "_view_module": "@jupyter-widgets/base",
            "_view_module_version": "1.2.0",
            "_view_name": "StyleView",
            "bar_color": null,
            "description_width": ""
          }
        },
        "cfdc14e31ccc488f9c2173faf8ecb3f5": {
          "model_module": "@jupyter-widgets/controls",
          "model_module_version": "1.5.0",
          "model_name": "DescriptionStyleModel",
          "state": {
            "_model_module": "@jupyter-widgets/controls",
            "_model_module_version": "1.5.0",
            "_model_name": "DescriptionStyleModel",
            "_view_count": null,
            "_view_module": "@jupyter-widgets/base",
            "_view_module_version": "1.2.0",
            "_view_name": "StyleView",
            "description_width": ""
          }
        },
        "d09e17ffb7e741a78a02643faddb2503": {
          "model_module": "@jupyter-widgets/controls",
          "model_module_version": "1.5.0",
          "model_name": "HTMLModel",
          "state": {
            "_dom_classes": [],
            "_model_module": "@jupyter-widgets/controls",
            "_model_module_version": "1.5.0",
            "_model_name": "HTMLModel",
            "_view_count": null,
            "_view_module": "@jupyter-widgets/controls",
            "_view_module_version": "1.5.0",
            "_view_name": "HTMLView",
            "description": "",
            "description_tooltip": null,
            "layout": "IPY_MODEL_62a7611c868d42ee9d3bd9761a08c33e",
            "placeholder": "​",
            "style": "IPY_MODEL_cfdc14e31ccc488f9c2173faf8ecb3f5",
            "value": " 5/5 [00:00&lt;00:00, 93.95it/s]"
          }
        },
        "e34093bd59754240afa10e856eb875ad": {
          "model_module": "@jupyter-widgets/base",
          "model_module_version": "1.2.0",
          "model_name": "LayoutModel",
          "state": {
            "_model_module": "@jupyter-widgets/base",
            "_model_module_version": "1.2.0",
            "_model_name": "LayoutModel",
            "_view_count": null,
            "_view_module": "@jupyter-widgets/base",
            "_view_module_version": "1.2.0",
            "_view_name": "LayoutView",
            "align_content": null,
            "align_items": null,
            "align_self": null,
            "border": null,
            "bottom": null,
            "display": null,
            "flex": null,
            "flex_flow": null,
            "grid_area": null,
            "grid_auto_columns": null,
            "grid_auto_flow": null,
            "grid_auto_rows": null,
            "grid_column": null,
            "grid_gap": null,
            "grid_row": null,
            "grid_template_areas": null,
            "grid_template_columns": null,
            "grid_template_rows": null,
            "height": null,
            "justify_content": null,
            "justify_items": null,
            "left": null,
            "margin": null,
            "max_height": null,
            "max_width": null,
            "min_height": null,
            "min_width": null,
            "object_fit": null,
            "object_position": null,
            "order": null,
            "overflow": null,
            "overflow_x": null,
            "overflow_y": null,
            "padding": null,
            "right": null,
            "top": null,
            "visibility": null,
            "width": null
          }
        },
        "e722899754744e1f9a1b9b6c4309c2a2": {
          "model_module": "@jupyter-widgets/base",
          "model_module_version": "1.2.0",
          "model_name": "LayoutModel",
          "state": {
            "_model_module": "@jupyter-widgets/base",
            "_model_module_version": "1.2.0",
            "_model_name": "LayoutModel",
            "_view_count": null,
            "_view_module": "@jupyter-widgets/base",
            "_view_module_version": "1.2.0",
            "_view_name": "LayoutView",
            "align_content": null,
            "align_items": null,
            "align_self": null,
            "border": null,
            "bottom": null,
            "display": null,
            "flex": null,
            "flex_flow": null,
            "grid_area": null,
            "grid_auto_columns": null,
            "grid_auto_flow": null,
            "grid_auto_rows": null,
            "grid_column": null,
            "grid_gap": null,
            "grid_row": null,
            "grid_template_areas": null,
            "grid_template_columns": null,
            "grid_template_rows": null,
            "height": null,
            "justify_content": null,
            "justify_items": null,
            "left": null,
            "margin": null,
            "max_height": null,
            "max_width": null,
            "min_height": null,
            "min_width": null,
            "object_fit": null,
            "object_position": null,
            "order": null,
            "overflow": null,
            "overflow_x": null,
            "overflow_y": null,
            "padding": null,
            "right": null,
            "top": null,
            "visibility": null,
            "width": null
          }
        },
        "ef9b0ca4297e4b67ba065f547a9f5709": {
          "model_module": "@jupyter-widgets/controls",
          "model_module_version": "1.5.0",
          "model_name": "HTMLModel",
          "state": {
            "_dom_classes": [],
            "_model_module": "@jupyter-widgets/controls",
            "_model_module_version": "1.5.0",
            "_model_name": "HTMLModel",
            "_view_count": null,
            "_view_module": "@jupyter-widgets/controls",
            "_view_module_version": "1.5.0",
            "_view_name": "HTMLView",
            "description": "",
            "description_tooltip": null,
            "layout": "IPY_MODEL_8c940190085f4145bf1f2cf8b4f77f02",
            "placeholder": "​",
            "style": "IPY_MODEL_b699c0f46e094ffdbf3f6b438cbcee37",
            "value": "100%"
          }
        }
      }
    }
  },
  "nbformat": 4,
  "nbformat_minor": 0
}
