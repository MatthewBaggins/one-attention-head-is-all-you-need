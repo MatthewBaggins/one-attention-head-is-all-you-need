{
  "nbformat": 4,
  "nbformat_minor": 0,
  "metadata": {
    "colab": {
      "provenance": [],
      "collapsed_sections": [
        "PBe5K-JpHXFs",
        "7o--LiD_HMGs",
        "Oo4oP4dSrYhD",
        "dlWGwox63j24",
        "hBJn1fKm3pMX",
        "GKKrzLEq3sun"
      ]
    },
    "kernelspec": {
      "name": "python3",
      "display_name": "Python 3"
    },
    "language_info": {
      "name": "python"
    }
  },
  "cells": [
    {
      "cell_type": "markdown",
      "source": [
        "# 2. Sorting Fixed Length Lists without Heads"
      ],
      "metadata": {
        "id": "jKyC3mZ72qlH"
      }
    },
    {
      "cell_type": "markdown",
      "source": [
        "## Variable hyperparameters"
      ],
      "metadata": {
        "id": "PBe5K-JpHXFs"
      }
    },
    {
      "cell_type": "code",
      "source": [
        "# Fixed length of list to be sorted\n",
        "LIST_LENGTH = 5\n",
        "\n",
        "# Size of vocabulary\n",
        "D_VOCAB = 66\n",
        "\n",
        "# Should lists have repetitions?\n",
        "ALLOW_REPETITIONS = False\n",
        "\n",
        "# Attention only? (False -> model includes MLPs)\n",
        "ATTN_ONLY = True\n",
        "\n",
        "# Model dimenions\n",
        "N_LAYERS = 0\n",
        "N_HEADS = 1\n",
        "D_MODEL = 128\n",
        "D_HEAD = 32\n",
        "D_MLP = None\n",
        "\n",
        "if ATTN_ONLY:\n",
        "    D_MLP = None\n",
        "\n",
        "# Default batch size\n",
        "DEFAULT_BATCH_SIZE = 32"
      ],
      "metadata": {
        "id": "httbkgCwHYF4"
      },
      "execution_count": 1,
      "outputs": []
    },
    {
      "cell_type": "markdown",
      "source": [
        "## Prelude"
      ],
      "metadata": {
        "id": "7o--LiD_HMGs"
      }
    },
    {
      "cell_type": "markdown",
      "source": [
        "### Install and import"
      ],
      "metadata": {
        "id": "7yjVSLZbEEJX"
      }
    },
    {
      "cell_type": "code",
      "execution_count": 2,
      "metadata": {
        "id": "Wqa5uVY-2oC7",
        "colab": {
          "base_uri": "https://localhost:8080/"
        },
        "outputId": "f65392e8-10a0-4e5e-8c7a-9f2a7e42c9ae"
      },
      "outputs": [
        {
          "output_type": "stream",
          "name": "stdout",
          "text": [
            "Looking in indexes: https://pypi.org/simple, https://us-python.pkg.dev/colab-wheels/public/simple/\n",
            "Collecting git+https://github.com/neelnanda-io/TransformerLens\n",
            "  Cloning https://github.com/neelnanda-io/TransformerLens to /tmp/pip-req-build-ijpasfk9\n",
            "  Running command git clone --filter=blob:none --quiet https://github.com/neelnanda-io/TransformerLens /tmp/pip-req-build-ijpasfk9\n",
            "  Resolved https://github.com/neelnanda-io/TransformerLens to commit 090f63afcf72e8ecd9527bbb6f598874554def1b\n",
            "  Installing build dependencies ... \u001b[?25l\u001b[?25hdone\n",
            "  Getting requirements to build wheel ... \u001b[?25l\u001b[?25hdone\n",
            "  Preparing metadata (pyproject.toml) ... \u001b[?25l\u001b[?25hdone\n",
            "Collecting einops<0.7.0,>=0.6.0\n",
            "  Downloading einops-0.6.0-py3-none-any.whl (41 kB)\n",
            "\u001b[2K     \u001b[90m━━━━━━━━━━━━━━━━━━━━━━━━━━━━━━━━━━━━━━━━\u001b[0m \u001b[32m41.6/41.6 KB\u001b[0m \u001b[31m1.6 MB/s\u001b[0m eta \u001b[36m0:00:00\u001b[0m\n",
            "\u001b[?25hCollecting rich<13.0.0,>=12.6.0\n",
            "  Downloading rich-12.6.0-py3-none-any.whl (237 kB)\n",
            "\u001b[2K     \u001b[90m━━━━━━━━━━━━━━━━━━━━━━━━━━━━━━━━━━━━━━━\u001b[0m \u001b[32m237.5/237.5 KB\u001b[0m \u001b[31m5.0 MB/s\u001b[0m eta \u001b[36m0:00:00\u001b[0m\n",
            "\u001b[?25hCollecting transformers<5.0.0,>=4.25.1\n",
            "  Downloading transformers-4.25.1-py3-none-any.whl (5.8 MB)\n",
            "\u001b[2K     \u001b[90m━━━━━━━━━━━━━━━━━━━━━━━━━━━━━━━━━━━━━━━━\u001b[0m \u001b[32m5.8/5.8 MB\u001b[0m \u001b[31m55.9 MB/s\u001b[0m eta \u001b[36m0:00:00\u001b[0m\n",
            "\u001b[?25hRequirement already satisfied: numpy<2.0,>=1.21 in /usr/local/lib/python3.8/dist-packages (from transformer-lens==0.0.0) (1.21.6)\n",
            "Collecting wandb<0.14.0,>=0.13.5\n",
            "  Downloading wandb-0.13.9-py2.py3-none-any.whl (2.0 MB)\n",
            "\u001b[2K     \u001b[90m━━━━━━━━━━━━━━━━━━━━━━━━━━━━━━━━━━━━━━━━\u001b[0m \u001b[32m2.0/2.0 MB\u001b[0m \u001b[31m50.3 MB/s\u001b[0m eta \u001b[36m0:00:00\u001b[0m\n",
            "\u001b[?25hCollecting torchtyping<0.2.0,>=0.1.4\n",
            "  Downloading torchtyping-0.1.4-py3-none-any.whl (17 kB)\n",
            "Collecting fancy-einsum<0.0.4,>=0.0.3\n",
            "  Downloading fancy_einsum-0.0.3-py3-none-any.whl (6.2 kB)\n",
            "Requirement already satisfied: pandas<2.0.0,>=1.1.5 in /usr/local/lib/python3.8/dist-packages (from transformer-lens==0.0.0) (1.3.5)\n",
            "Collecting datasets<3.0.0,>=2.7.1\n",
            "  Downloading datasets-2.8.0-py3-none-any.whl (452 kB)\n",
            "\u001b[2K     \u001b[90m━━━━━━━━━━━━━━━━━━━━━━━━━━━━━━━━━━━━━━\u001b[0m \u001b[32m452.9/452.9 KB\u001b[0m \u001b[31m21.3 MB/s\u001b[0m eta \u001b[36m0:00:00\u001b[0m\n",
            "\u001b[?25hRequirement already satisfied: torch<2.0,>=1.10 in /usr/local/lib/python3.8/dist-packages (from transformer-lens==0.0.0) (1.13.1+cu116)\n",
            "Requirement already satisfied: tqdm<5.0.0,>=4.64.1 in /usr/local/lib/python3.8/dist-packages (from transformer-lens==0.0.0) (4.64.1)\n",
            "Requirement already satisfied: requests>=2.19.0 in /usr/local/lib/python3.8/dist-packages (from datasets<3.0.0,>=2.7.1->transformer-lens==0.0.0) (2.25.1)\n",
            "Collecting xxhash\n",
            "  Downloading xxhash-3.2.0-cp38-cp38-manylinux_2_17_x86_64.manylinux2014_x86_64.whl (213 kB)\n",
            "\u001b[2K     \u001b[90m━━━━━━━━━━━━━━━━━━━━━━━━━━━━━━━━━━━━━━━\u001b[0m \u001b[32m213.0/213.0 KB\u001b[0m \u001b[31m9.2 MB/s\u001b[0m eta \u001b[36m0:00:00\u001b[0m\n",
            "\u001b[?25hCollecting multiprocess\n",
            "  Downloading multiprocess-0.70.14-py38-none-any.whl (132 kB)\n",
            "\u001b[2K     \u001b[90m━━━━━━━━━━━━━━━━━━━━━━━━━━━━━━━━━━━━━━━\u001b[0m \u001b[32m132.0/132.0 KB\u001b[0m \u001b[31m7.3 MB/s\u001b[0m eta \u001b[36m0:00:00\u001b[0m\n",
            "\u001b[?25hRequirement already satisfied: pyyaml>=5.1 in /usr/local/lib/python3.8/dist-packages (from datasets<3.0.0,>=2.7.1->transformer-lens==0.0.0) (6.0)\n",
            "Requirement already satisfied: packaging in /usr/local/lib/python3.8/dist-packages (from datasets<3.0.0,>=2.7.1->transformer-lens==0.0.0) (21.3)\n",
            "Requirement already satisfied: fsspec[http]>=2021.11.1 in /usr/local/lib/python3.8/dist-packages (from datasets<3.0.0,>=2.7.1->transformer-lens==0.0.0) (2022.11.0)\n",
            "Requirement already satisfied: pyarrow>=6.0.0 in /usr/local/lib/python3.8/dist-packages (from datasets<3.0.0,>=2.7.1->transformer-lens==0.0.0) (9.0.0)\n",
            "Requirement already satisfied: dill<0.3.7 in /usr/local/lib/python3.8/dist-packages (from datasets<3.0.0,>=2.7.1->transformer-lens==0.0.0) (0.3.6)\n",
            "Collecting huggingface-hub<1.0.0,>=0.2.0\n",
            "  Downloading huggingface_hub-0.11.1-py3-none-any.whl (182 kB)\n",
            "\u001b[2K     \u001b[90m━━━━━━━━━━━━━━━━━━━━━━━━━━━━━━━━━━━━━━\u001b[0m \u001b[32m182.4/182.4 KB\u001b[0m \u001b[31m12.2 MB/s\u001b[0m eta \u001b[36m0:00:00\u001b[0m\n",
            "\u001b[?25hCollecting responses<0.19\n",
            "  Downloading responses-0.18.0-py3-none-any.whl (38 kB)\n",
            "Requirement already satisfied: aiohttp in /usr/local/lib/python3.8/dist-packages (from datasets<3.0.0,>=2.7.1->transformer-lens==0.0.0) (3.8.3)\n",
            "Requirement already satisfied: python-dateutil>=2.7.3 in /usr/local/lib/python3.8/dist-packages (from pandas<2.0.0,>=1.1.5->transformer-lens==0.0.0) (2.8.2)\n",
            "Requirement already satisfied: pytz>=2017.3 in /usr/local/lib/python3.8/dist-packages (from pandas<2.0.0,>=1.1.5->transformer-lens==0.0.0) (2022.7)\n",
            "Collecting commonmark<0.10.0,>=0.9.0\n",
            "  Downloading commonmark-0.9.1-py2.py3-none-any.whl (51 kB)\n",
            "\u001b[2K     \u001b[90m━━━━━━━━━━━━━━━━━━━━━━━━━━━━━━━━━━━━━━━━\u001b[0m \u001b[32m51.1/51.1 KB\u001b[0m \u001b[31m3.3 MB/s\u001b[0m eta \u001b[36m0:00:00\u001b[0m\n",
            "\u001b[?25hRequirement already satisfied: typing-extensions<5.0,>=4.0.0 in /usr/local/lib/python3.8/dist-packages (from rich<13.0.0,>=12.6.0->transformer-lens==0.0.0) (4.4.0)\n",
            "Requirement already satisfied: pygments<3.0.0,>=2.6.0 in /usr/local/lib/python3.8/dist-packages (from rich<13.0.0,>=12.6.0->transformer-lens==0.0.0) (2.6.1)\n",
            "Collecting typeguard>=2.11.1\n",
            "  Downloading typeguard-2.13.3-py3-none-any.whl (17 kB)\n",
            "Requirement already satisfied: regex!=2019.12.17 in /usr/local/lib/python3.8/dist-packages (from transformers<5.0.0,>=4.25.1->transformer-lens==0.0.0) (2022.6.2)\n",
            "Requirement already satisfied: filelock in /usr/local/lib/python3.8/dist-packages (from transformers<5.0.0,>=4.25.1->transformer-lens==0.0.0) (3.9.0)\n",
            "Collecting tokenizers!=0.11.3,<0.14,>=0.11.1\n",
            "  Downloading tokenizers-0.13.2-cp38-cp38-manylinux_2_17_x86_64.manylinux2014_x86_64.whl (7.6 MB)\n",
            "\u001b[2K     \u001b[90m━━━━━━━━━━━━━━━━━━━━━━━━━━━━━━━━━━━━━━━━\u001b[0m \u001b[32m7.6/7.6 MB\u001b[0m \u001b[31m57.7 MB/s\u001b[0m eta \u001b[36m0:00:00\u001b[0m\n",
            "\u001b[?25hCollecting sentry-sdk>=1.0.0\n",
            "  Downloading sentry_sdk-1.13.0-py2.py3-none-any.whl (177 kB)\n",
            "\u001b[2K     \u001b[90m━━━━━━━━━━━━━━━━━━━━━━━━━━━━━━━━━━━━━━━\u001b[0m \u001b[32m177.4/177.4 KB\u001b[0m \u001b[31m2.2 MB/s\u001b[0m eta \u001b[36m0:00:00\u001b[0m\n",
            "\u001b[?25hRequirement already satisfied: setuptools in /usr/local/lib/python3.8/dist-packages (from wandb<0.14.0,>=0.13.5->transformer-lens==0.0.0) (57.4.0)\n",
            "Collecting pathtools\n",
            "  Downloading pathtools-0.1.2.tar.gz (11 kB)\n",
            "  Preparing metadata (setup.py) ... \u001b[?25l\u001b[?25hdone\n",
            "Requirement already satisfied: psutil>=5.0.0 in /usr/local/lib/python3.8/dist-packages (from wandb<0.14.0,>=0.13.5->transformer-lens==0.0.0) (5.4.8)\n",
            "Requirement already satisfied: protobuf!=4.21.0,<5,>=3.12.0 in /usr/local/lib/python3.8/dist-packages (from wandb<0.14.0,>=0.13.5->transformer-lens==0.0.0) (3.19.6)\n",
            "Collecting GitPython>=1.0.0\n",
            "  Downloading GitPython-3.1.30-py3-none-any.whl (184 kB)\n",
            "\u001b[2K     \u001b[90m━━━━━━━━━━━━━━━━━━━━━━━━━━━━━━━━━━━━━━\u001b[0m \u001b[32m184.0/184.0 KB\u001b[0m \u001b[31m10.5 MB/s\u001b[0m eta \u001b[36m0:00:00\u001b[0m\n",
            "\u001b[?25hRequirement already satisfied: appdirs>=1.4.3 in /usr/local/lib/python3.8/dist-packages (from wandb<0.14.0,>=0.13.5->transformer-lens==0.0.0) (1.4.4)\n",
            "Requirement already satisfied: Click!=8.0.0,>=7.0 in /usr/local/lib/python3.8/dist-packages (from wandb<0.14.0,>=0.13.5->transformer-lens==0.0.0) (7.1.2)\n",
            "Collecting docker-pycreds>=0.4.0\n",
            "  Downloading docker_pycreds-0.4.0-py2.py3-none-any.whl (9.0 kB)\n",
            "Collecting setproctitle\n",
            "  Downloading setproctitle-1.3.2-cp38-cp38-manylinux_2_5_x86_64.manylinux1_x86_64.manylinux_2_17_x86_64.manylinux2014_x86_64.whl (31 kB)\n",
            "Requirement already satisfied: six>=1.4.0 in /usr/local/lib/python3.8/dist-packages (from docker-pycreds>=0.4.0->wandb<0.14.0,>=0.13.5->transformer-lens==0.0.0) (1.15.0)\n",
            "Requirement already satisfied: multidict<7.0,>=4.5 in /usr/local/lib/python3.8/dist-packages (from aiohttp->datasets<3.0.0,>=2.7.1->transformer-lens==0.0.0) (6.0.4)\n",
            "Requirement already satisfied: charset-normalizer<3.0,>=2.0 in /usr/local/lib/python3.8/dist-packages (from aiohttp->datasets<3.0.0,>=2.7.1->transformer-lens==0.0.0) (2.1.1)\n",
            "Requirement already satisfied: yarl<2.0,>=1.0 in /usr/local/lib/python3.8/dist-packages (from aiohttp->datasets<3.0.0,>=2.7.1->transformer-lens==0.0.0) (1.8.2)\n",
            "Requirement already satisfied: frozenlist>=1.1.1 in /usr/local/lib/python3.8/dist-packages (from aiohttp->datasets<3.0.0,>=2.7.1->transformer-lens==0.0.0) (1.3.3)\n",
            "Requirement already satisfied: attrs>=17.3.0 in /usr/local/lib/python3.8/dist-packages (from aiohttp->datasets<3.0.0,>=2.7.1->transformer-lens==0.0.0) (22.2.0)\n",
            "Requirement already satisfied: async-timeout<5.0,>=4.0.0a3 in /usr/local/lib/python3.8/dist-packages (from aiohttp->datasets<3.0.0,>=2.7.1->transformer-lens==0.0.0) (4.0.2)\n",
            "Requirement already satisfied: aiosignal>=1.1.2 in /usr/local/lib/python3.8/dist-packages (from aiohttp->datasets<3.0.0,>=2.7.1->transformer-lens==0.0.0) (1.3.1)\n",
            "Collecting gitdb<5,>=4.0.1\n",
            "  Downloading gitdb-4.0.10-py3-none-any.whl (62 kB)\n",
            "\u001b[2K     \u001b[90m━━━━━━━━━━━━━━━━━━━━━━━━━━━━━━━━━━━━━━━━\u001b[0m \u001b[32m62.7/62.7 KB\u001b[0m \u001b[31m3.5 MB/s\u001b[0m eta \u001b[36m0:00:00\u001b[0m\n",
            "\u001b[?25hRequirement already satisfied: pyparsing!=3.0.5,>=2.0.2 in /usr/local/lib/python3.8/dist-packages (from packaging->datasets<3.0.0,>=2.7.1->transformer-lens==0.0.0) (3.0.9)\n",
            "Requirement already satisfied: urllib3<1.27,>=1.21.1 in /usr/local/lib/python3.8/dist-packages (from requests>=2.19.0->datasets<3.0.0,>=2.7.1->transformer-lens==0.0.0) (1.24.3)\n",
            "Requirement already satisfied: idna<3,>=2.5 in /usr/local/lib/python3.8/dist-packages (from requests>=2.19.0->datasets<3.0.0,>=2.7.1->transformer-lens==0.0.0) (2.10)\n",
            "Requirement already satisfied: chardet<5,>=3.0.2 in /usr/local/lib/python3.8/dist-packages (from requests>=2.19.0->datasets<3.0.0,>=2.7.1->transformer-lens==0.0.0) (4.0.0)\n",
            "Requirement already satisfied: certifi>=2017.4.17 in /usr/local/lib/python3.8/dist-packages (from requests>=2.19.0->datasets<3.0.0,>=2.7.1->transformer-lens==0.0.0) (2022.12.7)\n",
            "Collecting urllib3<1.27,>=1.21.1\n",
            "  Downloading urllib3-1.26.14-py2.py3-none-any.whl (140 kB)\n",
            "\u001b[2K     \u001b[90m━━━━━━━━━━━━━━━━━━━━━━━━━━━━━━━━━━━━━━━\u001b[0m \u001b[32m140.6/140.6 KB\u001b[0m \u001b[31m7.4 MB/s\u001b[0m eta \u001b[36m0:00:00\u001b[0m\n",
            "\u001b[?25hCollecting smmap<6,>=3.0.1\n",
            "  Downloading smmap-5.0.0-py3-none-any.whl (24 kB)\n",
            "Building wheels for collected packages: transformer-lens, pathtools\n",
            "  Building wheel for transformer-lens (pyproject.toml) ... \u001b[?25l\u001b[?25hdone\n",
            "  Created wheel for transformer-lens: filename=transformer_lens-0.0.0-py3-none-any.whl size=76318 sha256=6d8d032470332f178290d2b70dfc404f0189f8ae46ac6380b3cced2423a63507\n",
            "  Stored in directory: /tmp/pip-ephem-wheel-cache-95jxx6l2/wheels/9c/1e/c7/87b4157fdb1e8133b38dd8647aadf56877e42cd4191bef6d65\n",
            "  Building wheel for pathtools (setup.py) ... \u001b[?25l\u001b[?25hdone\n",
            "  Created wheel for pathtools: filename=pathtools-0.1.2-py3-none-any.whl size=8806 sha256=105e90d6bdf30e350ba018f846c4323fa0e8e5326ba261a66f19fc6499e9f465\n",
            "  Stored in directory: /root/.cache/pip/wheels/4c/8e/7e/72fbc243e1aeecae64a96875432e70d4e92f3d2d18123be004\n",
            "Successfully built transformer-lens pathtools\n",
            "Installing collected packages: tokenizers, pathtools, commonmark, xxhash, urllib3, typeguard, smmap, setproctitle, rich, multiprocess, fancy-einsum, einops, docker-pycreds, torchtyping, sentry-sdk, gitdb, responses, huggingface-hub, GitPython, wandb, transformers, datasets, transformer-lens\n",
            "  Attempting uninstall: urllib3\n",
            "    Found existing installation: urllib3 1.24.3\n",
            "    Uninstalling urllib3-1.24.3:\n",
            "      Successfully uninstalled urllib3-1.24.3\n",
            "  Attempting uninstall: typeguard\n",
            "    Found existing installation: typeguard 2.7.1\n",
            "    Uninstalling typeguard-2.7.1:\n",
            "      Successfully uninstalled typeguard-2.7.1\n",
            "Successfully installed GitPython-3.1.30 commonmark-0.9.1 datasets-2.8.0 docker-pycreds-0.4.0 einops-0.6.0 fancy-einsum-0.0.3 gitdb-4.0.10 huggingface-hub-0.11.1 multiprocess-0.70.14 pathtools-0.1.2 responses-0.18.0 rich-12.6.0 sentry-sdk-1.13.0 setproctitle-1.3.2 smmap-5.0.0 tokenizers-0.13.2 torchtyping-0.1.4 transformer-lens-0.0.0 transformers-4.25.1 typeguard-2.13.3 urllib3-1.26.14 wandb-0.13.9 xxhash-3.2.0\n",
            "Looking in indexes: https://pypi.org/simple, https://us-python.pkg.dev/colab-wheels/public/simple/\n",
            "Collecting circuitsvis\n",
            "  Downloading circuitsvis-1.38.1-py3-none-any.whl (1.8 MB)\n",
            "\u001b[2K     \u001b[90m━━━━━━━━━━━━━━━━━━━━━━━━━━━━━━━━━━━━━━━━\u001b[0m \u001b[32m1.8/1.8 MB\u001b[0m \u001b[31m23.5 MB/s\u001b[0m eta \u001b[36m0:00:00\u001b[0m\n",
            "\u001b[?25hRequirement already satisfied: torch<2.0,>=1.10 in /usr/local/lib/python3.8/dist-packages (from circuitsvis) (1.13.1+cu116)\n",
            "Requirement already satisfied: numpy<2.0,>=1.21 in /usr/local/lib/python3.8/dist-packages (from circuitsvis) (1.21.6)\n",
            "Collecting importlib-metadata<6.0.0,>=5.1.0\n",
            "  Downloading importlib_metadata-5.2.0-py3-none-any.whl (21 kB)\n",
            "Requirement already satisfied: zipp>=0.5 in /usr/local/lib/python3.8/dist-packages (from importlib-metadata<6.0.0,>=5.1.0->circuitsvis) (3.11.0)\n",
            "Requirement already satisfied: typing-extensions in /usr/local/lib/python3.8/dist-packages (from torch<2.0,>=1.10->circuitsvis) (4.4.0)\n",
            "Installing collected packages: importlib-metadata, circuitsvis\n",
            "  Attempting uninstall: importlib-metadata\n",
            "    Found existing installation: importlib-metadata 6.0.0\n",
            "    Uninstalling importlib-metadata-6.0.0:\n",
            "      Successfully uninstalled importlib-metadata-6.0.0\n",
            "Successfully installed circuitsvis-1.38.1 importlib-metadata-5.2.0\n"
          ]
        }
      ],
      "source": [
        "try:\n",
        "    import transformer_lens\n",
        "except:\n",
        "    !pip install git+https://github.com/neelnanda-io/TransformerLens\n",
        "    !pip install circuitsvis"
      ]
    },
    {
      "cell_type": "code",
      "source": [
        "from __future__ import annotations\n",
        "from dataclasses import dataclass, field\n",
        "from datetime import datetime as dt\n",
        "from itertools import repeat\n",
        "import os\n",
        "import pickle\n",
        "import random\n",
        "from typing import cast, Generator, Literal, List, Tuple, Dict\n",
        "\n",
        "import circuitsvis as cv\n",
        "from fancy_einsum import einsum\n",
        "from matplotlib import pyplot as plt\n",
        "import numpy as np\n",
        "import torch\n",
        "from torch import nn, tensor, Tensor, TensorType as TT\n",
        "from torch.nn import functional as F\n",
        "from transformer_lens import HookedTransformerConfig, HookedTransformer\n",
        "from tqdm import tqdm\n",
        "from typing_extensions import Self\n",
        "\n",
        "cv.examples.hello(\"You\")"
      ],
      "metadata": {
        "id": "dqFfW5V32yaO",
        "colab": {
          "base_uri": "https://localhost:8080/",
          "height": 0
        },
        "outputId": "401891ca-3c53-473e-9c4f-c64adf9fce68"
      },
      "execution_count": 3,
      "outputs": [
        {
          "output_type": "execute_result",
          "data": {
            "text/plain": [
              "<circuitsvis.utils.render.RenderedHTML at 0x7f00bf70ffa0>"
            ],
            "text/html": [
              "<div id=\"circuits-vis-0b3c309c-f55b\" style=\"margin: 15px 0;\"/>\n",
              "    <script crossorigin type=\"module\">\n",
              "    import { render, Hello } from \"https://unpkg.com/circuitsvis@1.38.1/dist/cdn/esm.js\";\n",
              "    render(\n",
              "      \"circuits-vis-0b3c309c-f55b\",\n",
              "      Hello,\n",
              "      {\"name\": \"You\"}\n",
              "    )\n",
              "    </script>"
            ]
          },
          "metadata": {},
          "execution_count": 3
        }
      ]
    },
    {
      "cell_type": "markdown",
      "source": [
        "### Invariable hyperparameters"
      ],
      "metadata": {
        "id": "Oo4oP4dSrYhD"
      }
    },
    {
      "cell_type": "code",
      "source": [
        "DEVICE = \"cuda\" if torch.cuda.is_available() else \"cpu\"\n",
        "print(f\"{DEVICE = }\")\n",
        "\n",
        "# Seeds to generate training, validation, and test data\n",
        "TRAIN_SEED = 42\n",
        "VAL_SEED = 66\n",
        "TEST_SEED = 1729\n",
        "\n",
        "# Context length: [start, *(unsorted_)list_length, mid, *(sorted_)list_length]\n",
        "N_CTX = 2 * LIST_LENGTH + 2\n",
        "\n",
        "# \"Real\" tokens range from 0 to D_VOCAB - 2 (non-inclusive)\n",
        "VOCAB_MIN_ID = 0\n",
        "VOCAB_MAX_ID = D_VOCAB - 2\n",
        "\n",
        "# START token is D_VOCAB - 2 and MID token is D_VOCAB - 1\n",
        "START_TOKEN_ID = VOCAB_MAX_ID\n",
        "MID_TOKEN_ID = D_VOCAB - 1"
      ],
      "metadata": {
        "colab": {
          "base_uri": "https://localhost:8080/"
        },
        "id": "_XwivtyM_Hru",
        "outputId": "a76b1ac2-9ec0-45c2-90a8-027960956a24"
      },
      "execution_count": 4,
      "outputs": [
        {
          "output_type": "stream",
          "name": "stdout",
          "text": [
            "DEVICE = 'cpu'\n"
          ]
        }
      ]
    },
    {
      "cell_type": "markdown",
      "source": [
        "### Data generator and datasets"
      ],
      "metadata": {
        "id": "dlWGwox63j24"
      }
    },
    {
      "cell_type": "code",
      "source": [
        "def generate_list(batch_size: int) -> Tensor:\n",
        "    if ALLOW_REPETITIONS:\n",
        "        return torch.randint(VOCAB_MIN_ID, VOCAB_MAX_ID, (batch_size, LIST_LENGTH))\n",
        "    return tensor([\n",
        "        random.sample(range(VOCAB_MIN_ID, VOCAB_MAX_ID), k=LIST_LENGTH) \n",
        "        for _ in range(batch_size)\n",
        "    ]).to(DEVICE)\n",
        "\n",
        "# General generator\n",
        "def make_data_gen(\n",
        "    *,\n",
        "    batch_size: int = DEFAULT_BATCH_SIZE,\n",
        "    dataset: Literal[\"train\", \"val\", \"test\"], # probably this arg needs a better name,\n",
        ") -> Generator[Tensor, None, None]:\n",
        "    assert dataset in (\"train\", \"val\", \"test\")\n",
        "    if dataset == \"train\":\n",
        "        seed = TRAIN_SEED\n",
        "    elif dataset == \"val\":\n",
        "        seed = VAL_SEED\n",
        "    else: # test\n",
        "        seed = TEST_SEED\n",
        "    torch.manual_seed(seed)\n",
        "    while True:\n",
        "        # Generate random numbers\n",
        "        x = generate_list(batch_size)\n",
        "        # Sort\n",
        "        x_sorted = torch.sort(x, dim=1).values\n",
        "        # START tokens\n",
        "        x_start = START_TOKEN_ID * torch.ones(batch_size, dtype=torch.int32).reshape(batch_size, -1).to(DEVICE)\n",
        "        # MID tokens\n",
        "        x_mid = MID_TOKEN_ID * torch.ones(batch_size, dtype=torch.int32).reshape(batch_size, -1).to(DEVICE)\n",
        "        yield torch.cat((x_start, x, x_mid, x_sorted), dim=1)\n",
        "\n",
        "\n",
        "# Training data generator (kinda wrapper)\n",
        "def make_train_gen() -> Generator[Tensor, None, None]:\n",
        "    \"\"\"Make generator of training data\"\"\"\n",
        "    return make_data_gen(batch_size=128, dataset=\"train\")\n",
        "\n",
        "# Validation and test data\n",
        "\n",
        "val_data = next(make_data_gen(batch_size=1000, dataset=\"val\"))\n",
        "test_data = next(make_data_gen(batch_size=1000, dataset=\"test\"))"
      ],
      "metadata": {
        "id": "44OZjOq83k1H"
      },
      "execution_count": 5,
      "outputs": []
    },
    {
      "cell_type": "markdown",
      "source": [
        "### Loss function"
      ],
      "metadata": {
        "id": "hBJn1fKm3pMX"
      }
    },
    {
      "cell_type": "code",
      "source": [
        "def loss_fn(\n",
        "    logits: Tensor, # [batch, pos, d_vocab] \n",
        "    tokens: Tensor, # [batch, pos] \n",
        "    return_per_token: bool = False\n",
        ") -> Tensor: # scalar\n",
        "    \"\"\"\"\"\"\n",
        "    # \n",
        "    sorted_start_pos = LIST_LENGTH + 2\n",
        "    logits = logits[:, (sorted_start_pos-1):-1]\n",
        "    tokens = tokens[:, sorted_start_pos : None]\n",
        "    log_probs = logits.log_softmax(-1)\n",
        "    correct_log_probs = log_probs.gather(-1, tokens[..., None])[..., 0]\n",
        "    if return_per_token:\n",
        "        return -correct_log_probs\n",
        "    return -correct_log_probs.mean()"
      ],
      "metadata": {
        "id": "PTlNfaKY3qkd"
      },
      "execution_count": 6,
      "outputs": []
    },
    {
      "cell_type": "markdown",
      "source": [
        "### Accuracy and validation"
      ],
      "metadata": {
        "id": "GKKrzLEq3sun"
      }
    },
    {
      "cell_type": "code",
      "source": [
        "def get_diff_row_inds(\n",
        "    a: Tensor, # [dim1, dim2]\n",
        "    b: Tensor  # [dim1, dim2]\n",
        ") -> Tensor:   # [dim1]\n",
        "    \"\"\"Find indices of rows where a and b differ\"\"\"\n",
        "    assert a.shape == b.shape\n",
        "    return ((a == b).prod(dim=1) == 0).nonzero(as_tuple=True)[0]\n",
        "\n",
        "def acc_fn(\n",
        "    logits: Tensor, # [batch, pos, d_vocab]\n",
        "    tokens: Tensor, # [batch, pos]\n",
        "    per: Literal[\"token\", \"sequence\"] = \"sequence\"\n",
        ") -> float:\n",
        "    \"\"\"Compute accuracy as percentage of correct predictions\"\"\"\n",
        "    assert per in (\"token\", \"sequence\")\n",
        "    sorted_start_pos = LIST_LENGTH + 2\n",
        "    # Get logits of predictions for position\n",
        "    logits = logits[:, (sorted_start_pos-1):-1]\n",
        "    preds = logits.argmax(-1)\n",
        "    tokens = tokens[:, sorted_start_pos:]\n",
        "    if per == \"sequence\":\n",
        "        return (preds == tokens).prod(dim=1).float().mean().item()\n",
        "    return (preds == tokens).float().mean().item()\n",
        "\n",
        "def validate(\n",
        "    model: HookedTransformer, \n",
        "    data: Tensor, # [batch, pos]\n",
        "    per: Literal[\"token\", \"sequence\"] = \"sequence\"\n",
        ") -> float:\n",
        "    \"\"\"Test this model on `data`\"\"\"\n",
        "    logits = model(data)\n",
        "    acc = acc_fn(logits, tokens=data, per=per)\n",
        "    return acc\n",
        "\n",
        "def show_mispreds(\n",
        "    model: HookedTransformer, \n",
        "    data: Tensor # [batch, pos]\n",
        ") -> None:\n",
        "    \"\"\"Test this model on `data` and print mispredictions\"\"\"\n",
        "    logits = model(data)\n",
        "    sorted_start_pos = LIST_LENGTH + 2\n",
        "    logits = logits[:, (sorted_start_pos-1):-1]\n",
        "    tokens = data[:, sorted_start_pos:]\n",
        "    preds = logits.argmax(-1)\n",
        "    mispred_inds = get_diff_row_inds(tokens, preds)\n",
        "    for i in mispred_inds:\n",
        "        print(f\"[{i}] {tokens[i].numpy().tolist()} | {preds[i].numpy().tolist()}\")\n",
        "    print(f\"{len(mispred_inds)}/{len(preds)} ({len(mispred_inds) / len(preds) :.2%})\")"
      ],
      "metadata": {
        "id": "1x6q7b7O3rZa"
      },
      "execution_count": 7,
      "outputs": []
    },
    {
      "cell_type": "markdown",
      "source": [
        "## Training"
      ],
      "metadata": {
        "id": "V5trW5nKhF3I"
      }
    },
    {
      "cell_type": "markdown",
      "source": [
        "### Model"
      ],
      "metadata": {
        "id": "32Hj7N1nhHrI"
      }
    },
    {
      "cell_type": "code",
      "source": [
        "def make_model() -> HookedTransformer:\n",
        "    cfg = HookedTransformerConfig(\n",
        "        d_model=D_MODEL,\n",
        "        n_layers=N_LAYERS,\n",
        "        n_heads=N_HEADS,\n",
        "        d_head=D_HEAD,\n",
        "        n_ctx=N_CTX,\n",
        "        d_vocab=D_VOCAB,\n",
        "        act_fn=\"relu\",\n",
        "        seed=42,\n",
        "        device=DEVICE,\n",
        "        attn_only=ATTN_ONLY\n",
        "    )\n",
        "    return HookedTransformer(cfg, move_to_device=True)"
      ],
      "metadata": {
        "id": "YwIffvImhT4g"
      },
      "execution_count": 8,
      "outputs": []
    },
    {
      "cell_type": "markdown",
      "source": [
        "### Training setup"
      ],
      "metadata": {
        "id": "9vYV7QAd3vCT"
      }
    },
    {
      "cell_type": "code",
      "source": [
        "@dataclass(frozen=True)\n",
        "class TrainingHistory:\n",
        "    losses: list[float]\n",
        "    train_accuracies: list[float]\n",
        "    val_accuracies: list[float]\n",
        "\n",
        "def converged(val_accs: list[float], n_last: int = 10) -> bool:\n",
        "    if len(val_accs) < n_last:\n",
        "        return False\n",
        "    return len(set(tensor(val_accs[-n_last:]).round(decimals=4).tolist())) == 1\n",
        "\n",
        "def train_model(model: HookedTransformer, verbose: bool = True) -> TrainingHistory:\n",
        "    # Number of epochs\n",
        "    n_epochs = 20000\n",
        "\n",
        "    # Optimization\n",
        "    lr = 1e-3\n",
        "    betas = (.9, .999)\n",
        "    optim = torch.optim.AdamW(model.parameters(), lr=lr, betas=betas)\n",
        "    scheduler = torch.optim.lr_scheduler.ReduceLROnPlateau(optim, \"min\", patience=100)\n",
        "\n",
        "    # Training data generator\n",
        "    train_gen = make_train_gen()\n",
        "\n",
        "    # Histories\n",
        "    losses = []\n",
        "    train_accuracies = []\n",
        "    val_accuracies = []\n",
        "\n",
        "    for epoch in range(n_epochs):\n",
        "        tokens = next(train_gen).to(device=DEVICE)\n",
        "        logits = model(tokens)\n",
        "        loss = loss_fn(logits, tokens)\n",
        "        loss.backward()\n",
        "        optim.step()\n",
        "        optim.zero_grad()\n",
        "        scheduler.step(loss)\n",
        "        \n",
        "        if epoch % 100 == 0:\n",
        "            losses.append(loss.item())\n",
        "            train_batch_acc = acc_fn(logits, tokens, per=\"token\")\n",
        "            val_acc = validate(model, val_data, per=\"token\")\n",
        "            val_loss = loss_fn(model(val_data), val_data)\n",
        "\n",
        "            train_accuracies.append(train_batch_acc)\n",
        "            val_accuracies.append(val_acc)\n",
        "            if verbose:\n",
        "                print(\n",
        "                    f\"Epoch {epoch}/{n_epochs} ({epoch / n_epochs:.0%}) : \"\n",
        "                    f\"loss = {loss.item():.4f}; {train_batch_acc=:.3%}; \"\n",
        "                    f\"{val_acc=:.3%}; lr={scheduler._last_lr[0]}\" #type:ignore\n",
        "                )\n",
        "            # If last 10 recorded val_accuracies are 100%\n",
        "            if converged(val_accuracies):\n",
        "                if verbose:\n",
        "                    print(f\"\\nAchieved consistent perfect validation accuracy after {epoch} epochs\")\n",
        "                break\n",
        "    \n",
        "    return TrainingHistory(losses, train_accuracies, val_accuracies)\n",
        "\n",
        "def load_model_state(model: HookedTransformer, filename: str) -> None:\n",
        "    assert os.path.isdir(\"models\"), \"Make a directory `models` with model state dicts\"\n",
        "    if not filename.startswith(\"models/\"):\n",
        "        filename = f\"models/{filename}\"\n",
        "    with open(filename, \"rb\") as f:\n",
        "        state_dict = pickle.load(f)\n",
        "    model.load_state_dict(state_dict)"
      ],
      "metadata": {
        "id": "LHBPL3Xw3uAt"
      },
      "execution_count": 10,
      "outputs": []
    },
    {
      "cell_type": "markdown",
      "source": [
        "### Functions for updating global variables"
      ],
      "metadata": {
        "id": "dnkN08aKpPIi"
      }
    },
    {
      "cell_type": "code",
      "source": [
        "def set_globals(d_vocab: int, list_length: int, *, verbose: bool = True) -> None:\n",
        "    global D_VOCAB, VOCAB_MAX_ID, START_TOKEN_ID, MID_TOKEN_ID, LIST_LENGTH, N_CTX\n",
        "    D_VOCAB = d_vocab\n",
        "    VOCAB_MAX_ID = START_TOKEN_ID = d_vocab - 2\n",
        "    MID_TOKEN_ID = d_vocab - 1\n",
        "    LIST_LENGTH = list_length\n",
        "    N_CTX = 2 * LIST_LENGTH + 2\n",
        "    if verbose:\n",
        "        msg = \"Globals \" + (\"reset\" if d_vocab == 66 and list_length == 5 else \"set\") + \" to\"\n",
        "        print(f\"{msg}: {D_VOCAB = }, {LIST_LENGTH = }\")\n",
        "\n",
        "def reset_globals(*, verbose: bool = True) -> None:\n",
        "    set_globals(d_vocab=66, list_length=5, verbose=verbose)\n",
        "\n",
        "def update_data() -> None:\n",
        "    global val_data, test_data\n",
        "    val_data = next(make_data_gen(batch_size=1000, dataset=\"val\"))\n",
        "    test_data = next(make_data_gen(batch_size=1000, dataset=\"test\"))"
      ],
      "metadata": {
        "id": "iwV_R0UbpVsD"
      },
      "execution_count": 11,
      "outputs": []
    },
    {
      "cell_type": "markdown",
      "source": [
        "### Training or loading"
      ],
      "metadata": {
        "id": "HXhR2JBjdXkD"
      }
    },
    {
      "cell_type": "code",
      "source": [
        "min_d_vocab = 20\n",
        "max_d_vocab = 100\n",
        "min_list_length = 2\n",
        "max_list_length = 60\n",
        "num = 10\n",
        "\n",
        "reset_globals()\n",
        "\n",
        "DVocab = ListLength = int\n",
        "HyperparamTuple = Tuple[DVocab, ListLength]\n",
        "hyperparam_tuples: List[HyperparamTuple] = []\n",
        "for d_vocab in np.linspace(min_d_vocab, max_d_vocab, num=num, endpoint=False).astype(int):\n",
        "    for list_length in np.linspace(min_list_length, max_list_length, num=num, endpoint=False).astype(int):\n",
        "        if list_length < d_vocab - 2:\n",
        "            hyperparam_tuples.append((d_vocab, list_length))\n",
        "\n",
        "models: dict[HyperparamTuple, HookedTransformer] = {}\n",
        "histories: dict[HyperparamTuple, TrainingHistory] = {}\n",
        "for d_vocab, list_length in tqdm(hyperparam_tuples):\n",
        "    set_globals(d_vocab=d_vocab, list_length=list_length, verbose=False)\n",
        "    model = make_model()\n",
        "    update_data()\n",
        "    history = train_model(model, verbose=False)\n",
        "    models[(d_vocab, list_length)] = model\n",
        "    histories[(d_vocab, list_length)] = history"
      ],
      "metadata": {
        "id": "CMH8DwNHdWLA",
        "colab": {
          "base_uri": "https://localhost:8080/"
        },
        "outputId": "b5faa71f-37c7-46be-9ef2-a0a6d45e5051"
      },
      "execution_count": 12,
      "outputs": [
        {
          "output_type": "stream",
          "name": "stdout",
          "text": [
            "Globals reset to: D_VOCAB = 66, LIST_LENGTH = 5\n"
          ]
        },
        {
          "output_type": "stream",
          "name": "stderr",
          "text": [
            "100%|██████████| 80/80 [1:34:39<00:00, 71.00s/it] \n"
          ]
        }
      ]
    },
    {
      "cell_type": "markdown",
      "source": [
        "### Testing post-training"
      ],
      "metadata": {
        "id": "HABWttcH34dv"
      }
    },
    {
      "cell_type": "code",
      "source": [
        "print(\"Validating on validation data:\")\n",
        "val_acc = validate(model, val_data, per=\"token\")\n",
        "print(f\"\\t{val_acc=:.3%}\\n\")\n",
        "\n",
        "print(\"\\nValidating on test data:\")\n",
        "test_acc = validate(model, test_data, per=\"token\")\n",
        "print(f\"\\t{test_acc=:.3%}\\n\")"
      ],
      "metadata": {
        "colab": {
          "base_uri": "https://localhost:8080/"
        },
        "id": "lakshPyuwdO7",
        "outputId": "f71c1afc-8b38-4dee-d598-fab63c7ba003"
      },
      "execution_count": 19,
      "outputs": [
        {
          "output_type": "stream",
          "name": "stdout",
          "text": [
            "Validating on validation data:\n",
            "\tval_acc=59.902%\n",
            "\n",
            "\n",
            "Validating on test data:\n",
            "\ttest_acc=59.856%\n",
            "\n"
          ]
        }
      ]
    },
    {
      "cell_type": "markdown",
      "source": [
        "### Saving and loading"
      ],
      "metadata": {
        "id": "pNofXtfSQvh2"
      }
    },
    {
      "cell_type": "code",
      "source": [
        "def make_timestamp() -> str:\n",
        "    return dt.now().isoformat(\"T\", \"minutes\").replace(\":\", \"-\")"
      ],
      "metadata": {
        "id": "gbFgO4Z41iHH"
      },
      "execution_count": 20,
      "outputs": []
    },
    {
      "cell_type": "code",
      "source": [
        "def save_histories(\n",
        "    histories: dict[HyperparamTuple, TrainingHistory],\n",
        "    filename: str | None = None\n",
        ") -> None:\n",
        "    filename = filename or f\"2_histories_{make_timestamp()}.pkl\"    \n",
        "    with open(filename, \"wb\") as f:\n",
        "        pickle.dump(histories, f)\n",
        "\n",
        "def load_histories(filename: str) -> dict[HyperparamTuple, TrainingHistory]:\n",
        "    with open(filename, \"rb\") as f:\n",
        "        histories = pickle.load(f)\n",
        "    return histories\n",
        "\n",
        "save_histories(histories)"
      ],
      "metadata": {
        "id": "toY2scNCY2nA"
      },
      "execution_count": 21,
      "outputs": []
    },
    {
      "cell_type": "code",
      "source": [
        "from collections import OrderedDict\n",
        "\n",
        "def save_model_state_dict(\n",
        "    model: HookedTransformer, \n",
        "    filename: str | None = None\n",
        ") -> None:\n",
        "    filename = filename or f\"model_state_dict_{make_timestamp()}.pkl\"\n",
        "    with open(filename, \"wb\") as f:\n",
        "        pickle.dump(model.state_dict(), f)\n",
        "\n",
        "def save_model_state_dicts(\n",
        "    models: dict[HyperparamTuple, HookedTransformer], \n",
        "    filename: str | None = None\n",
        ") -> None:\n",
        "    state_dicts = {k: m.state_dict for k, m in models.items()}\n",
        "    filename = filename or f\"2_state_dicts_{make_timestamp()}.pkl\"\n",
        "    with open(filename, \"wb\") as f:\n",
        "        pickle.dump(state_dicts, f)\n",
        "\n",
        "def load_model_state_dicts(filename: str) -> dict[HyperparamTuple, OrderedDict]:\n",
        "    with open(filename, \"rb\") as f:\n",
        "        state_dicts: dict[HyperparamTuple, OrderedDict] = pickle.load(f)\n",
        "    return state_dicts\n",
        "\n",
        "def load_models(\n",
        "    state_dicts_filename: str\n",
        ") -> dict[HyperparamTuple, HookedTransformer]:\n",
        "    state_dicts = load_model_state_dicts(filename=state_dicts_filename)\n",
        "    models: dict[HyperparamTuple, HookedTransformer] = {}\n",
        "    for (d_vocab, list_length), state_dict in state_dicts.items():\n",
        "        set_globals(d_vocab=d_vocab, list_length=list_length, verbose=False)\n",
        "        models[(d_vocab, list_length)] = make_model()\n",
        "    return models\n",
        "\n",
        "save_model_state_dicts(models)"
      ],
      "metadata": {
        "id": "i9lLO9p1d8mC"
      },
      "execution_count": 22,
      "outputs": []
    },
    {
      "cell_type": "markdown",
      "source": [
        "## Investigate the model"
      ],
      "metadata": {
        "id": "Nnfh-Oxk7sQ9"
      }
    },
    {
      "cell_type": "markdown",
      "source": [
        "### Accuracy heatmap"
      ],
      "metadata": {
        "id": "S7po8YMfN4T9"
      }
    },
    {
      "cell_type": "code",
      "source": [
        "vocab_sizes = np.linspace(min_d_vocab, max_d_vocab, num=num, endpoint=False).astype(int).tolist()\n",
        "list_lengths = np.linspace(min_list_length, max_list_length, num=num, endpoint=False).astype(int).tolist()\n",
        "\n",
        "final_val_accuracies = np.zeros((num, num))\n",
        "\n",
        "for (d_vocab, list_length), model in tqdm(models.items()):\n",
        "    set_globals(d_vocab=model.cfg.d_vocab, \n",
        "                list_length=model.cfg.n_ctx // 2 - 1,\n",
        "                verbose=False)\n",
        "    update_data()\n",
        "    val_acc = validate(model, val_data, per=\"token\")\n",
        "    d_vocab_i = vocab_sizes.index(d_vocab)\n",
        "    list_length_i = list_lengths.index(list_length)\n",
        "    final_val_accuracies[d_vocab_i, list_length_i] = round(val_acc, 4)"
      ],
      "metadata": {
        "colab": {
          "base_uri": "https://localhost:8080/"
        },
        "id": "oKJz9XyO90Wd",
        "outputId": "bc0bc3bb-a493-45a2-f2c4-b6c6cb115300"
      },
      "execution_count": 23,
      "outputs": [
        {
          "output_type": "stream",
          "name": "stderr",
          "text": [
            "100%|██████████| 80/80 [00:21<00:00,  3.77it/s]\n"
          ]
        }
      ]
    },
    {
      "cell_type": "code",
      "source": [
        "final_val_accuracies.round(2)"
      ],
      "metadata": {
        "colab": {
          "base_uri": "https://localhost:8080/"
        },
        "id": "2RARr_y4-peo",
        "outputId": "90ba3aae-e97f-4c22-86a7-c5c44a33e22e"
      },
      "execution_count": 24,
      "outputs": [
        {
          "output_type": "execute_result",
          "data": {
            "text/plain": [
              "array([[0.11, 0.38, 0.72, 0.  , 0.  , 0.  , 0.  , 0.  , 0.  , 0.  ],\n",
              "       [0.07, 0.27, 0.5 , 0.73, 0.96, 0.  , 0.  , 0.  , 0.  , 0.  ],\n",
              "       [0.06, 0.21, 0.38, 0.56, 0.73, 0.91, 0.  , 0.  , 0.  , 0.  ],\n",
              "       [0.06, 0.16, 0.31, 0.45, 0.6 , 0.74, 0.86, 0.  , 0.  , 0.  ],\n",
              "       [0.04, 0.14, 0.26, 0.38, 0.5 , 0.62, 0.72, 0.84, 0.96, 0.  ],\n",
              "       [0.03, 0.12, 0.22, 0.33, 0.43, 0.54, 0.62, 0.72, 0.83, 0.93],\n",
              "       [0.03, 0.1 , 0.2 , 0.29, 0.38, 0.47, 0.55, 0.64, 0.73, 0.82],\n",
              "       [0.03, 0.09, 0.17, 0.26, 0.34, 0.42, 0.48, 0.57, 0.65, 0.73],\n",
              "       [0.03, 0.08, 0.15, 0.23, 0.3 , 0.38, 0.44, 0.51, 0.59, 0.66],\n",
              "       [0.02, 0.08, 0.14, 0.21, 0.28, 0.35, 0.4 , 0.46, 0.53, 0.6 ]])"
            ]
          },
          "metadata": {},
          "execution_count": 24
        }
      ]
    },
    {
      "cell_type": "code",
      "source": [
        "fig, ax = plt.subplots(figsize=(7, 7))\n",
        "ax.imshow(final_val_accuracies)\n",
        "for x, list_length in enumerate(list_lengths):\n",
        "    for y, d_vocab in enumerate(vocab_sizes):\n",
        "        acc = f\"{acc:.2%}\" if (acc:=final_val_accuracies[y, x]) else \"X\"\n",
        "        ax.text(x, y, acc, ha=\"center\", va=\"center\", color=\"w\")\n",
        "        \n",
        "ax.set_xticks(range(num))\n",
        "ax.set_xticklabels(list_lengths)\n",
        "ax.set_yticks(range(num))\n",
        "ax.set_yticklabels(vocab_sizes)\n",
        "ax.set_title(\"Validation accuracies\", fontsize=20)\n",
        "ax.set_ylabel(\"Vocab size\", fontsize=20)\n",
        "ax.set_xlabel(\"List length\", fontsize=20)\n",
        "\n",
        "fig.tight_layout()\n",
        "plt.show()"
      ],
      "metadata": {
        "colab": {
          "base_uri": "https://localhost:8080/",
          "height": 513
        },
        "id": "PcfmUi7M_RCF",
        "outputId": "f795e6b9-bd40-4712-8908-8e24660ee074"
      },
      "execution_count": 25,
      "outputs": [
        {
          "output_type": "display_data",
          "data": {
            "text/plain": [
              "<Figure size 504x504 with 1 Axes>"
            ],
            "image/png": "[encoded data removed]"
          },
          "metadata": {
            "needs_background": "light"
          }
        }
      ]
    },
    {
      "cell_type": "markdown",
      "source": [
        "### Lookup table\n",
        "\n",
        "Let's take the final model and look into its lookup table"
      ],
      "metadata": {
        "id": "njZ4hFRn2tgh"
      }
    },
    {
      "cell_type": "code",
      "source": [
        "def get_lookup_table(model: HookedTransformer) -> None:\n",
        "    return (model.embed.W_E @ model.unembed.W_U).detach().numpy()\n",
        "\n",
        "models_list = list(models.values())\n",
        "model = models_list[-1]\n",
        "model = models[(28, 25)]\n",
        "lookup = get_lookup_table(model)\n",
        "fig, ax = plt.subplots(figsize=(8, 8))\n",
        "ax.set_title(\"Probabilistic lookup table for 0-L model\", fontsize=20)\n",
        "ax.set_xlabel(\"Predicted token\", fontsize=20)\n",
        "ax.set_ylabel(\"Previous token\", fontsize=20)\n",
        "im = ax.imshow(lookup)\n",
        "cbar = fig.colorbar(im)\n",
        "fig.show()"
      ],
      "metadata": {
        "colab": {
          "base_uri": "https://localhost:8080/",
          "height": 467
        },
        "id": "5KrsJLFy2sXe",
        "outputId": "8fbfa03c-4f1f-4cd5-f43e-88b21afe9b1b"
      },
      "execution_count": 80,
      "outputs": [
        {
          "output_type": "display_data",
          "data": {
            "text/plain": [
              "<Figure size 576x576 with 2 Axes>"
            ],
            "image/png": "[encoded data removed]"
          },
          "metadata": {
            "needs_background": "light"
          }
        }
      ]
    },
    {
      "cell_type": "markdown",
      "source": [
        "And now for the smallest model"
      ],
      "metadata": {
        "id": "_2hWjE7l36_c"
      }
    },
    {
      "cell_type": "code",
      "source": [
        "lookup = get_lookup_table(models_list[0])\n",
        "fig, ax = plt.subplots(figsize=(8, 8))\n",
        "ax.imshow(lookup)"
      ],
      "metadata": {
        "colab": {
          "base_uri": "https://localhost:8080/",
          "height": 501
        },
        "id": "-IQ2vecR34ac",
        "outputId": "517c46dd-7397-4d6e-ee84-16d660cc9abf"
      },
      "execution_count": 29,
      "outputs": [
        {
          "output_type": "execute_result",
          "data": {
            "text/plain": [
              "<matplotlib.image.AxesImage at 0x7effd462d070>"
            ]
          },
          "metadata": {},
          "execution_count": 29
        },
        {
          "output_type": "display_data",
          "data": {
            "text/plain": [
              "<Figure size 576x576 with 1 Axes>"
            ],
            "image/png": "[encoded data removed]"
          },
          "metadata": {
            "needs_background": "light"
          }
        }
      ]
    },
    {
      "cell_type": "markdown",
      "source": [
        "Let's see concretely the probabilities it has for different tokens. We can see that any given token tends to assign the greatest probability to the one right after itself and probabilities decrease from that point onwards. Interestingly, probabilities almost never go below 0.01."
      ],
      "metadata": {
        "id": "8W072yJE4cXV"
      }
    },
    {
      "cell_type": "code",
      "source": [
        "from pprint import pprint\n",
        "from torch.nn import functional as F\n",
        "\n",
        "lookup = get_lookup_table(models_list[-1])\n",
        "prev_token2next_token_probs = {\n",
        "    prev_tok: dict(enumerate(tensor(next_tok_probs).softmax(-1).tolist())) \n",
        "    for prev_tok, next_tok_probs in enumerate(lookup)\n",
        "}\n",
        "# pprint(prev_token2next_token_probs)\n",
        "prev_token2next_token_probs[83]"
      ],
      "metadata": {
        "colab": {
          "base_uri": "https://localhost:8080/"
        },
        "id": "3HEyR5k94ggw",
        "outputId": "cf4844e2-5b09-4b1e-e28a-ad6276db69d5"
      },
      "execution_count": 30,
      "outputs": [
        {
          "output_type": "execute_result",
          "data": {
            "text/plain": [
              "{0: 0.010501976124942303,\n",
              " 1: 0.011042929254472256,\n",
              " 2: 0.008863840252161026,\n",
              " 3: 0.010954631492495537,\n",
              " 4: 0.01134770642966032,\n",
              " 5: 0.011121594347059727,\n",
              " 6: 0.01112125813961029,\n",
              " 7: 0.010312719270586967,\n",
              " 8: 0.009954039007425308,\n",
              " 9: 0.010724757798016071,\n",
              " 10: 0.011293619871139526,\n",
              " 11: 0.010668490082025528,\n",
              " 12: 0.011830441653728485,\n",
              " 13: 0.011950738728046417,\n",
              " 14: 0.010465418919920921,\n",
              " 15: 0.011789713054895401,\n",
              " 16: 0.011851673945784569,\n",
              " 17: 0.01042937021702528,\n",
              " 18: 0.009726885706186295,\n",
              " 19: 0.010503665544092655,\n",
              " 20: 0.010855291038751602,\n",
              " 21: 0.01014672964811325,\n",
              " 22: 0.010438162833452225,\n",
              " 23: 0.009643388912081718,\n",
              " 24: 0.010003595612943172,\n",
              " 25: 0.011248602531850338,\n",
              " 26: 0.0106264129281044,\n",
              " 27: 0.009788167662918568,\n",
              " 28: 0.011181945912539959,\n",
              " 29: 0.009487764909863472,\n",
              " 30: 0.012159438803792,\n",
              " 31: 0.011590925976634026,\n",
              " 32: 0.010650008916854858,\n",
              " 33: 0.01184155885130167,\n",
              " 34: 0.010239849798381329,\n",
              " 35: 0.010767736472189426,\n",
              " 36: 0.010676051490008831,\n",
              " 37: 0.011316834948956966,\n",
              " 38: 0.010633273981511593,\n",
              " 39: 0.01073672715574503,\n",
              " 40: 0.009702409617602825,\n",
              " 41: 0.010495536960661411,\n",
              " 42: 0.010025884956121445,\n",
              " 43: 0.01042307261377573,\n",
              " 44: 0.009487899951636791,\n",
              " 45: 0.009751384146511555,\n",
              " 46: 0.009610327892005444,\n",
              " 47: 0.009034269489347935,\n",
              " 48: 0.010669056326150894,\n",
              " 49: 0.011272103525698185,\n",
              " 50: 0.010056708939373493,\n",
              " 51: 0.010076889768242836,\n",
              " 52: 0.01066169235855341,\n",
              " 53: 0.010418528690934181,\n",
              " 54: 0.011063550598919392,\n",
              " 55: 0.010844534263014793,\n",
              " 56: 0.010952449403703213,\n",
              " 57: 0.010605394840240479,\n",
              " 58: 0.010294412262737751,\n",
              " 59: 0.010465705767273903,\n",
              " 60: 0.010292506776750088,\n",
              " 61: 0.010859970934689045,\n",
              " 62: 0.011093882843852043,\n",
              " 63: 0.010672125034034252,\n",
              " 64: 0.011109239421784878,\n",
              " 65: 0.011403272859752178,\n",
              " 66: 0.010245666839182377,\n",
              " 67: 0.010671879164874554,\n",
              " 68: 0.01087377779185772,\n",
              " 69: 0.01058352179825306,\n",
              " 70: 0.00965164415538311,\n",
              " 71: 0.010583797469735146,\n",
              " 72: 0.010667660273611546,\n",
              " 73: 0.010021304711699486,\n",
              " 74: 0.009582705795764923,\n",
              " 75: 0.010117722675204277,\n",
              " 76: 0.009454087354242802,\n",
              " 77: 0.010502130724489689,\n",
              " 78: 0.009732847101986408,\n",
              " 79: 0.008531455881893635,\n",
              " 80: 0.009835008531808853,\n",
              " 81: 0.010669397190213203,\n",
              " 82: 0.010358735918998718,\n",
              " 83: 0.010877130553126335,\n",
              " 84: 0.020502958446741104,\n",
              " 85: 0.018178271129727364,\n",
              " 86: 0.015779461711645126,\n",
              " 87: 0.014582869596779346,\n",
              " 88: 0.012557058595120907,\n",
              " 89: 0.01090602669864893,\n",
              " 90: 0.01160958968102932,\n",
              " 91: 0.01109252031892538}"
            ]
          },
          "metadata": {},
          "execution_count": 30
        }
      ]
    },
    {
      "cell_type": "markdown",
      "source": [
        "### Confirm this empirically on validation data"
      ],
      "metadata": {
        "id": "QF30ywY2Kb75"
      }
    },
    {
      "cell_type": "code",
      "source": [
        "model = models[(28, 25)]\n",
        "set_globals(d_vocab=model.cfg.d_vocab, list_length=model.cfg.n_ctx // 2 - 1)\n",
        "update_data()\n",
        "logits = model(val_data)\n",
        "list_length = model.cfg.n_ctx // 2 - 1\n",
        "val_tokens = val_data[:, -list_length-1 : -1]\n",
        "val_preds = logits[:, -list_length-1 : -1].argmax(-1)\n",
        "assert val_tokens.shape == val_preds.shape, (f\"{val_tokens.shape=}\", f\"{val_preds.shape=}\")\n"
      ],
      "metadata": {
        "colab": {
          "base_uri": "https://localhost:8080/"
        },
        "id": "mhD-ZW-6FQAZ",
        "outputId": "6367ec67-7a78-4e43-b3b6-dd0291c1fa7c"
      },
      "execution_count": 75,
      "outputs": [
        {
          "output_type": "stream",
          "name": "stdout",
          "text": [
            "Globals set to: D_VOCAB = 28, LIST_LENGTH = 25\n"
          ]
        }
      ]
    },
    {
      "cell_type": "code",
      "source": [
        "val_pred_counts = np.zeros((D_VOCAB, D_VOCAB))\n",
        "for val_token in tqdm(val_tokens, \"building val_pred_counts\"):\n",
        "    for val_pred in val_preds:\n",
        "        val_pred_counts[val_token, val_pred] += 1"
      ],
      "metadata": {
        "colab": {
          "base_uri": "https://localhost:8080/"
        },
        "id": "NGbMoQHSKdok",
        "outputId": "0352a8d2-66fe-4e29-a6a4-5ae22ae4c2f1"
      },
      "execution_count": 76,
      "outputs": [
        {
          "output_type": "stream",
          "name": "stderr",
          "text": [
            "building val_pred_counts: 100%|██████████| 1000/1000 [07:05<00:00,  2.35it/s]\n"
          ]
        }
      ]
    },
    {
      "cell_type": "code",
      "source": [
        "fig, ax = plt.subplots(figsize=(7, 7))\n",
        "\n",
        "im = ax.imshow(val_pred_counts, interpolation=\"nearest\")\n",
        "\n",
        "# for x in tqdm(range(D_VOCAB), \"adding texts to ax\"):\n",
        "#     for y in range(D_VOCAB):\n",
        "#         if count := val_pred_counts[y, x]:\n",
        "#             ax.text(x, y, count, ha=\"center\", va=\"center\", color=\"w\")\n",
        "        \n",
        "ax.set_title(\"Empirical counts on validation data\", fontsize=20)\n",
        "ax.set_ylabel(\"Previous token\", fontsize=20)\n",
        "ax.set_xlabel(\"Predicted token\", fontsize=20)\n",
        "cbar = fig.colorbar(im)\n",
        "fig.show()"
      ],
      "metadata": {
        "colab": {
          "base_uri": "https://localhost:8080/",
          "height": 428
        },
        "id": "BXih4dfGFSWh",
        "outputId": "d750911e-59e3-40ef-a0db-8ce9fa87d1c8"
      },
      "execution_count": 79,
      "outputs": [
        {
          "output_type": "display_data",
          "data": {
            "text/plain": [
              "<Figure size 504x504 with 2 Axes>"
            ],
            "image/png": "[encoded data removed]"
          },
          "metadata": {
            "needs_background": "light"
          }
        }
      ]
    }
  ]
}